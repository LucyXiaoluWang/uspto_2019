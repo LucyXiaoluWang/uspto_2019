{
 "cells": [
  {
   "cell_type": "code",
   "execution_count": 1,
   "metadata": {},
   "outputs": [],
   "source": [
    "import pandas as pd\n",
    "import numpy as np\n",
    "from google.cloud import bigquery\n",
    "%load_ext google.cloud.bigquery"
   ]
  },
  {
   "cell_type": "markdown",
   "metadata": {},
   "source": [
    "# 1. Creating \"Google Patents\" table"
   ]
  },
  {
   "cell_type": "code",
   "execution_count": 2,
   "metadata": {},
   "outputs": [
    {
     "data": {
      "text/plain": [
       "<google.cloud.bigquery.table.RowIterator at 0x21a61359128>"
      ]
     },
     "execution_count": 2,
     "metadata": {},
     "output_type": "execute_result"
    }
   ],
   "source": [
    "client = bigquery.Client()\n",
    "# Creating Job Config\n",
    "job_config = bigquery.QueryJobConfig()\n",
    "#job_config.dry_run = True\n",
    "job_config.use_query_cache = False\n",
    "# Set configuration.query.writeDisposition\n",
    "job_config.write_disposition = 'WRITE_TRUNCATE'\n",
    "\n",
    "# Set the destination table\n",
    "dataset_id = 'data_preparation'\n",
    "table_id = '2_google_patents'\n",
    "table_ref = client.dataset(dataset_id).table(table_id)\n",
    "job_config.destination = table_ref\n",
    "\n",
    "query=\"\"\"\n",
    "SELECT \n",
    "    application_number,\n",
    "    publication_number,\n",
    "    country_code, \n",
    "    kind_code, \n",
    "    application_kind,\n",
    "    family_id,\n",
    "    publication_date, \n",
    "    filing_date,\n",
    "    grant_date,\n",
    "    ARRAY_LENGTH(examiner) AS nb_examiners,\n",
    "    ARRAY_LENGTH(inventor) AS nb_inventors,\n",
    "    ARRAY_LENGTH(assignee) AS nb_assignee,\n",
    "    inventor,\n",
    "    assignee,\n",
    "    examiner\n",
    "FROM \n",
    "    `patents-public-data.patents.publications` AS a\n",
    "\"\"\"\n",
    "\n",
    "# Defining the query\n",
    "query_job = client.query(query, location='US', job_config=job_config)\n",
    "\n",
    "query_job.result()"
   ]
  }
 ],
 "metadata": {
  "kernelspec": {
   "display_name": "Python 3",
   "language": "python",
   "name": "python3"
  },
  "language_info": {
   "codemirror_mode": {
    "name": "ipython",
    "version": 3
   },
   "file_extension": ".py",
   "mimetype": "text/x-python",
   "name": "python",
   "nbconvert_exporter": "python",
   "pygments_lexer": "ipython3",
   "version": "3.7.1"
  }
 },
 "nbformat": 4,
 "nbformat_minor": 2
}
