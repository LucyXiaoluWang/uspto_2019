{
 "cells": [
  {
   "cell_type": "code",
   "execution_count": 1,
   "metadata": {},
   "outputs": [],
   "source": [
    "from google.cloud import bigquery\n",
    "\n",
    "from open_patstat.utils.gcp import create_table, load_gcs_file, delete_table\n",
    "from open_patstat.utils.schema import Schema"
   ]
  },
  {
   "cell_type": "code",
   "execution_count": 2,
   "metadata": {},
   "outputs": [],
   "source": [
    "client = bigquery.Client()"
   ]
  },
  {
   "cell_type": "code",
   "execution_count": 3,
   "metadata": {},
   "outputs": [],
   "source": [
    "job_config = bigquery.LoadJobConfig()\n",
    "job_config.skip_leading_rows = 1\n",
    "job_config.max_bad_records = 10\n",
    "job_config.source_format = bigquery.SourceFormat.CSV\n",
    "dataset_ref = client.dataset('patstat')"
   ]
  },
  {
   "cell_type": "markdown",
   "metadata": {},
   "source": [
    "# 1. Loading Tables"
   ]
  },
  {
   "cell_type": "markdown",
   "metadata": {},
   "source": [
    "## 1.1. Table \"tls201\" (main table)"
   ]
  },
  {
   "cell_type": "code",
   "execution_count": 4,
   "metadata": {},
   "outputs": [],
   "source": [
    "create_table(client,\n",
    "             dataset_id='patstat',\n",
    "             table_id='tls201',\n",
    "             schema=Schema().tls201)"
   ]
  },
  {
   "cell_type": "code",
   "execution_count": 5,
   "metadata": {},
   "outputs": [
    {
     "name": "stdout",
     "output_type": "stream",
     "text": [
      "Starting job lgs-da4c45c0-e673-4ba5-bfff-b103083da844\n",
      "Job took 9.093069076538086 seconds\n"
     ]
    }
   ],
   "source": [
    "table_ref = dataset_ref.table('tls201_s')\n",
    "job_config.schema = Schema().tls201\n",
    "load_gcs_file(client, 'gs://patstat_2018g/data_PATSTAT_Global_2018_Autumn_01/tls201_*.gz', \n",
    "              table_ref, job_config)\n",
    "#load_gcs_file(client, 'gs://patstat_2018g/data_PATSTAT_Global_2018_Autumn_01/tls201_part01.txt', \n",
    "#              table_ref, job_config)"
   ]
  },
  {
   "cell_type": "markdown",
   "metadata": {},
   "source": [
    "## 1.2. Table \"tls209_appln_ipc\" (IPC codes assigned to each application)"
   ]
  },
  {
   "cell_type": "code",
   "execution_count": 7,
   "metadata": {},
   "outputs": [],
   "source": [
    "# Creating main table\n",
    "create_table(client,\n",
    "             dataset_id='patstat',\n",
    "             table_id='tls209',\n",
    "             schema=Schema().tls209)"
   ]
  },
  {
   "cell_type": "code",
   "execution_count": 8,
   "metadata": {},
   "outputs": [
    {
     "name": "stdout",
     "output_type": "stream",
     "text": [
      "Starting job lgs-88f2b615-3abd-4d3d-93ad-ef855e397bcf\n",
      "Job took 267.2587592601776 seconds\n"
     ]
    }
   ],
   "source": [
    "# Adding files to the main table from GCP bucket\n",
    "table_ref = dataset_ref.table('tls209')\n",
    "job_config.schema = Schema().tls209\n",
    "load_gcs_file(client, 'gs://patstat_2018g/data_PATSTAT_Global_2018_Autumn/tls209_*.gz', \n",
    "              table_ref, job_config)"
   ]
  },
  {
   "cell_type": "code",
   "execution_count": 9,
   "metadata": {},
   "outputs": [],
   "source": [
    "# Creating Sample dataset\n",
    "create_table(client,\n",
    "             dataset_id='patstat',\n",
    "             table_id='tls209_s',\n",
    "             schema=Schema().tls209)"
   ]
  },
  {
   "cell_type": "code",
   "execution_count": 10,
   "metadata": {},
   "outputs": [
    {
     "name": "stdout",
     "output_type": "stream",
     "text": [
      "Starting job lgs-97d56603-15b6-4d21-ba28-016a6117f4bc\n",
      "Job took 3.600205659866333 seconds\n"
     ]
    }
   ],
   "source": [
    "# Adding files to the sample table from GCP bucket\n",
    "table_ref = dataset_ref.table('tls209_s')\n",
    "job_config.schema = Schema().tls209\n",
    "load_gcs_file(client, 'gs://patstat_2018g/data_PATSTAT_Global_2018_Autumn/tls209_part01.txt', \n",
    "              table_ref, job_config)"
   ]
  },
  {
   "cell_type": "markdown",
   "metadata": {},
   "source": [
    "## 1.3. Table \"tls204\" (the priority status of patents)"
   ]
  },
  {
   "cell_type": "code",
   "execution_count": 5,
   "metadata": {},
   "outputs": [],
   "source": [
    "create_table(client,\n",
    "             dataset_id='patstat',\n",
    "             table_id='tls204',\n",
    "             schema=Schema().tls204)"
   ]
  },
  {
   "cell_type": "code",
   "execution_count": 6,
   "metadata": {},
   "outputs": [
    {
     "name": "stdout",
     "output_type": "stream",
     "text": [
      "Starting job lgs-816820f0-9966-4b84-a2ae-25fc42b4fe62\n",
      "Job took 216.11920499801636 seconds\n"
     ]
    }
   ],
   "source": [
    "# Adding files to the main table from GCP bucket\n",
    "table_ref = dataset_ref.table('tls204')\n",
    "job_config.schema = Schema().tls204\n",
    "load_gcs_file(client, 'gs://patstat_2018g/data_PATSTAT_Global_2018_Autumn/tls204_*.gz', \n",
    "              table_ref, job_config)"
   ]
  },
  {
   "cell_type": "code",
   "execution_count": 9,
   "metadata": {},
   "outputs": [],
   "source": [
    "# Creating Sample dataset\n",
    "create_table(client,\n",
    "             dataset_id='patstat',\n",
    "             table_id='tls204_s',\n",
    "             schema=Schema().tls204)"
   ]
  },
  {
   "cell_type": "code",
   "execution_count": 10,
   "metadata": {},
   "outputs": [
    {
     "name": "stdout",
     "output_type": "stream",
     "text": [
      "Starting job lgs-506b7785-bd98-4b75-a829-28c88a20187f\n",
      "Job took 6.117683410644531 seconds\n"
     ]
    }
   ],
   "source": [
    "# Adding files to the sample table from GCP bucket\n",
    "table_ref = dataset_ref.table('tls204_s')\n",
    "job_config.schema = Schema().tls204\n",
    "load_gcs_file(client, 'gs://patstat_2018g/data_PATSTAT_Global_2018_Autumn/tls204_part01.txt', \n",
    "              table_ref, job_config)"
   ]
  },
  {
   "cell_type": "markdown",
   "metadata": {},
   "source": [
    "## 1.4. Table \"tls207\": the correspondence between patent application and inventors"
   ]
  },
  {
   "cell_type": "code",
   "execution_count": 7,
   "metadata": {},
   "outputs": [],
   "source": [
    "# Creating main table\n",
    "create_table(client,\n",
    "             dataset_id='patstat',\n",
    "             table_id='tls207',\n",
    "             schema=Schema().tls207)"
   ]
  },
  {
   "cell_type": "code",
   "execution_count": 8,
   "metadata": {},
   "outputs": [
    {
     "name": "stdout",
     "output_type": "stream",
     "text": [
      "Starting job lgs-ad379b9e-f584-4829-8ae0-ebed6eb950af\n",
      "Job took 379.3931813240051 seconds\n"
     ]
    }
   ],
   "source": [
    "# Adding files to the main table from GCP bucket\n",
    "table_ref = dataset_ref.table('tls207')\n",
    "job_config.schema = Schema().tls207\n",
    "load_gcs_file(client, 'gs://patstat_2018g/data_PATSTAT_Global_2018_Autumn/tls207_*.gz', \n",
    "              table_ref, job_config)"
   ]
  },
  {
   "cell_type": "code",
   "execution_count": 11,
   "metadata": {},
   "outputs": [],
   "source": [
    "# Creating Sample dataset\n",
    "create_table(client,\n",
    "             dataset_id='patstat',\n",
    "             table_id='tls207_s',\n",
    "             schema=Schema().tls207)"
   ]
  },
  {
   "cell_type": "code",
   "execution_count": 12,
   "metadata": {},
   "outputs": [
    {
     "name": "stdout",
     "output_type": "stream",
     "text": [
      "Starting job lgs-15d0c099-f0c0-4706-9e15-af4fcc411147\n",
      "Job took 5.712496280670166 seconds\n"
     ]
    }
   ],
   "source": [
    "# Adding files to the sample table from GCP bucket\n",
    "table_ref = dataset_ref.table('tls207_s')\n",
    "job_config.schema = Schema().tls207\n",
    "load_gcs_file(client, 'gs://patstat_2018g/data_PATSTAT_Global_2018_Autumn/tls207_part01.txt', \n",
    "              table_ref, job_config)"
   ]
  },
  {
   "cell_type": "markdown",
   "metadata": {},
   "source": [
    "## 1.5. Table \"tls206\": Details on names and addresses of applicants"
   ]
  },
  {
   "cell_type": "code",
   "execution_count": null,
   "metadata": {},
   "outputs": [],
   "source": [
    "# Creating main table\n",
    "create_table(client,\n",
    "             dataset_id='patstat',\n",
    "             table_id='tls206',\n",
    "             schema=Schema().tls206)"
   ]
  },
  {
   "cell_type": "code",
   "execution_count": null,
   "metadata": {},
   "outputs": [],
   "source": [
    "# Adding files to the main table from GCP bucket\n",
    "table_ref = dataset_ref.table('tls206')\n",
    "job_config.schema = Schema().tls206\n",
    "load_gcs_file(client, 'gs://patstat_2018g/data_PATSTAT_Global_2018_Autumn/tls206_*.gz', \n",
    "              table_ref, job_config)"
   ]
  },
  {
   "cell_type": "code",
   "execution_count": 13,
   "metadata": {},
   "outputs": [],
   "source": [
    "# Creating Sample dataset\n",
    "create_table(client,\n",
    "             dataset_id='patstat',\n",
    "             table_id='tls206_s',\n",
    "             schema=Schema().tls206)"
   ]
  },
  {
   "cell_type": "code",
   "execution_count": 15,
   "metadata": {},
   "outputs": [
    {
     "name": "stdout",
     "output_type": "stream",
     "text": [
      "Starting job lgs-a1667418-f504-487d-94f9-0f9eead2d590\n",
      "Job took 8.971823930740356 seconds\n"
     ]
    }
   ],
   "source": [
    "# Adding files to the sample table from GCP bucket\n",
    "table_ref = dataset_ref.table('tls206_s')\n",
    "job_config.schema = Schema().tls206\n",
    "load_gcs_file(client, 'gs://patstat_2018g/data_PATSTAT_Global_2018_Autumn/tls206_part01.txt', \n",
    "              table_ref, job_config)"
   ]
  },
  {
   "cell_type": "markdown",
   "metadata": {},
   "source": [
    "## 1.6. Table \"tls211\": \n",
    "## Information on the patent offices of destination (publication authorities) of all INPADOC family members and excludes the PCT publication authority (WO)"
   ]
  },
  {
   "cell_type": "code",
   "execution_count": 5,
   "metadata": {},
   "outputs": [],
   "source": [
    "# Creating main table\n",
    "create_table(client,\n",
    "             dataset_id='patstat',\n",
    "             table_id='tls211',\n",
    "             schema=Schema().tls211)"
   ]
  },
  {
   "cell_type": "code",
   "execution_count": 6,
   "metadata": {},
   "outputs": [],
   "source": [
    "# Adding files to the main table from GCP bucket\n",
    "table_ref = dataset_ref.table('tls211')\n",
    "job_config.schema = Schema().tls211"
   ]
  },
  {
   "cell_type": "code",
   "execution_count": 7,
   "metadata": {},
   "outputs": [],
   "source": [
    "load_job = client.load_table_from_uri(\n",
    "        source_uris='gs://patstat_2018g/data_PATSTAT_Global_2018_Autumn/tls211_*.gz',\n",
    "        destination=table_ref,\n",
    "        # job_id=job_id,\n",
    "        job_id_prefix='lgs-',\n",
    "        job_config=job_config,\n",
    "    )"
   ]
  },
  {
   "cell_type": "code",
   "execution_count": 8,
   "metadata": {},
   "outputs": [
    {
     "data": {
      "text/plain": [
       "<google.cloud.bigquery.job.LoadJob at 0x7f45f5fd0940>"
      ]
     },
     "execution_count": 8,
     "metadata": {},
     "output_type": "execute_result"
    }
   ],
   "source": [
    "load_job.result()"
   ]
  },
  {
   "cell_type": "code",
   "execution_count": null,
   "metadata": {},
   "outputs": [],
   "source": [
    "# Creating Sample dataset\n",
    "create_table(client,\n",
    "             dataset_id='patstat',\n",
    "             table_id='tls211_s',\n",
    "             schema=Schema().tls211)"
   ]
  },
  {
   "cell_type": "code",
   "execution_count": 4,
   "metadata": {},
   "outputs": [
    {
     "name": "stdout",
     "output_type": "stream",
     "text": [
      "THIS TABLE ALREADY EXISTS IN usptobias:patstat\n"
     ]
    }
   ],
   "source": [
    "# Creating Sample dataset\n",
    "create_table(client,\n",
    "             dataset_id='patstat',\n",
    "             table_id='tls211_s',\n",
    "             schema=Schema().tls211)"
   ]
  },
  {
   "cell_type": "code",
   "execution_count": null,
   "metadata": {},
   "outputs": [],
   "source": [
    "# Adding files to the sample table from GCP bucket\n",
    "table_ref = dataset_ref.table('tls211_s')\n",
    "job_config.schema = Schema().tls211\n",
    "load_gcs_file(client, 'gs://patstat_2018g/data_PATSTAT_Global_2018_Autumn/tls211_part01.txt', \n",
    "              table_ref, job_config)"
   ]
  },
  {
   "cell_type": "markdown",
   "metadata": {},
   "source": [
    "## 1.7. Table \"tls212\": Citations"
   ]
  },
  {
   "cell_type": "code",
   "execution_count": null,
   "metadata": {},
   "outputs": [],
   "source": [
    "# Creating main table\n",
    "create_table(client,\n",
    "             dataset_id='patstat',\n",
    "             table_id='tls212',\n",
    "             schema=Schema().tls212)"
   ]
  },
  {
   "cell_type": "code",
   "execution_count": null,
   "metadata": {},
   "outputs": [],
   "source": [
    "# Adding files to the sample table from GCP bucket\n",
    "table_ref = dataset_ref.table('tls212')\n",
    "job_config.schema = Schema().tls212\n",
    "load_gcs_file(client, 'gs://patstat_2018g/data_PATSTAT_Global_2018_Autumn/tls212_*.gz', \n",
    "              table_ref, job_config)"
   ]
  },
  {
   "cell_type": "markdown",
   "metadata": {},
   "source": [
    "## 1.8. Checking to see if the data is loaded correctly on the tables"
   ]
  },
  {
   "cell_type": "code",
   "execution_count": null,
   "metadata": {},
   "outputs": [],
   "source": [
    "# Check table creation and displays meta data\n",
    "# Run in command line\n",
    "bq show my-dataset:patstat.tls201"
   ]
  },
  {
   "cell_type": "markdown",
   "metadata": {},
   "source": [
    "## 1.9. Creating Lawyers information"
   ]
  },
  {
   "cell_type": "code",
   "execution_count": 15,
   "metadata": {},
   "outputs": [],
   "source": [
    "schema_lawyer_matching = [\n",
    "    bigquery.SchemaField('lawyer_id', 'STRING', 'NULLABLE', None, ()),\n",
    "    bigquery.SchemaField('attorney', 'STRING', 'NULLABLE', None, ()),\n",
    "    bigquery.SchemaField('original_name', 'STRING', 'NULLABLE', None, ()),\n",
    "    bigquery.SchemaField('type', 'STRING', 'NULLABLE', None, ())\n",
    "        ]"
   ]
  },
  {
   "cell_type": "code",
   "execution_count": 16,
   "metadata": {},
   "outputs": [],
   "source": [
    "job_config = bigquery.LoadJobConfig()\n",
    "job_config.skip_leading_rows = 1\n",
    "job_config.max_bad_records = 10\n",
    "job_config.source_format = bigquery.SourceFormat.CSV\n",
    "job_config.schema = schema_lawyer_matching\n",
    "dataset_ref = client.dataset('adding_data')"
   ]
  },
  {
   "cell_type": "code",
   "execution_count": 17,
   "metadata": {},
   "outputs": [
    {
     "name": "stdout",
     "output_type": "stream",
     "text": [
      "Starting job lgs-18a7c671-01f1-4e84-bb72-16c2573b9bcd\n",
      "Job took 9.51806378364563 seconds\n"
     ]
    }
   ],
   "source": [
    "table_ref = dataset_ref.table('15_lawyer_matching')\n",
    "#job_config.schema = Schema().tls201\n",
    "load_gcs_file(client, 'gs://uspto-data/lawyers_final.csv', \n",
    "              table_ref, job_config)\n",
    "#load_gcs_file(client, 'gs://patstat_2018g/data_PATSTAT_Global_2018_Autumn_01/tls201_part01.txt', \n",
    "#              table_ref, job_config)"
   ]
  },
  {
   "cell_type": "code",
   "execution_count": 18,
   "metadata": {},
   "outputs": [],
   "source": [
    "schema_lawyer_corr = [\n",
    "    bigquery.SchemaField('appln_nr', 'STRING', 'REQUIRED', None, ()),\n",
    "    bigquery.SchemaField('attorney', 'STRING', 'NULLABLE', None, ()),\n",
    "    bigquery.SchemaField('type', 'STRING', 'NULLABLE', None, ())\n",
    "        ]"
   ]
  },
  {
   "cell_type": "code",
   "execution_count": 19,
   "metadata": {},
   "outputs": [],
   "source": [
    "job_config = bigquery.LoadJobConfig()\n",
    "job_config.skip_leading_rows = 1\n",
    "job_config.max_bad_records = 10\n",
    "job_config.source_format = bigquery.SourceFormat.CSV\n",
    "job_config.schema = schema_lawyer_corr\n",
    "dataset_ref = client.dataset('adding_data')"
   ]
  },
  {
   "cell_type": "code",
   "execution_count": 20,
   "metadata": {},
   "outputs": [
    {
     "data": {
      "text/plain": [
       "<google.cloud.bigquery.job.LoadJob at 0x7f6e9e3b3320>"
      ]
     },
     "execution_count": 20,
     "metadata": {},
     "output_type": "execute_result"
    }
   ],
   "source": [
    "table_ref = dataset_ref.table('15_lawyer_corr')\n",
    "load_job = client.load_table_from_uri(\n",
    "        source_uris='gs://uspto-data/lawyers_corr_final.csv',\n",
    "        destination=table_ref,\n",
    "        # job_id=job_id,\n",
    "        job_id_prefix='lgs-',\n",
    "        job_config=job_config,\n",
    "    )\n",
    "\n",
    "load_job.result()"
   ]
  },
  {
   "cell_type": "code",
   "execution_count": null,
   "metadata": {},
   "outputs": [],
   "source": [
    "load_job.errors"
   ]
  },
  {
   "cell_type": "markdown",
   "metadata": {},
   "source": [
    "## 1.10. Creating Name Ethnicity Table"
   ]
  },
  {
   "cell_type": "code",
   "execution_count": 14,
   "metadata": {},
   "outputs": [],
   "source": [
    "schema_Name_eth = [\n",
    "    bigquery.SchemaField('index', 'INTEGER', 'NULLABLE', None, ()),\n",
    "    bigquery.SchemaField('name_first', 'STRING', 'NULLABLE', None, ()),\n",
    "    bigquery.SchemaField('name_last', 'STRING', 'NULLABLE', None, ()),\n",
    "    bigquery.SchemaField('name_first_har', 'STRING', 'NULLABLE', None, ()),\n",
    "    bigquery.SchemaField('name_last_har', 'STRING', 'NULLABLE', None, ()),\n",
    "    bigquery.SchemaField('country_origin', 'STRING', 'NULLABLE', None, ()),\n",
    "    bigquery.SchemaField('country_origin_alt', 'STRING', 'NULLABLE', None, ()),\n",
    "    bigquery.SchemaField('score_origin', 'FLOAT', 'NULLABLE', None, ()),\n",
    "    bigquery.SchemaField('sub_region_origin', 'STRING', 'NULLABLE', None, ()),\n",
    "    bigquery.SchemaField('top_region_origin', 'STRING', 'NULLABLE', None, ()),\n",
    "        ]"
   ]
  },
  {
   "cell_type": "code",
   "execution_count": 15,
   "metadata": {},
   "outputs": [],
   "source": [
    "job_config = bigquery.LoadJobConfig()\n",
    "job_config.skip_leading_rows = 1\n",
    "job_config.max_bad_records = 300\n",
    "job_config.source_format = bigquery.SourceFormat.CSV\n",
    "job_config.schema = schema_Name_eth\n",
    "dataset_ref = client.dataset('usptobias_dataset')"
   ]
  },
  {
   "cell_type": "code",
   "execution_count": 16,
   "metadata": {},
   "outputs": [
    {
     "data": {
      "text/plain": [
       "<google.cloud.bigquery.job.LoadJob at 0x7fb45c5d6f28>"
      ]
     },
     "execution_count": 16,
     "metadata": {},
     "output_type": "execute_result"
    }
   ],
   "source": [
    "table_ref = dataset_ref.table('6_names_origin')\n",
    "load_job = client.load_table_from_uri(\n",
    "        source_uris='gs://uspto-data/origin_processed.csv',\n",
    "        destination=table_ref,\n",
    "        # job_id=job_id,\n",
    "        job_id_prefix='lgs-',\n",
    "        job_config=job_config,\n",
    "    )\n",
    "load_job.result()"
   ]
  },
  {
   "cell_type": "code",
   "execution_count": 9,
   "metadata": {},
   "outputs": [],
   "source": [
    "load_job.errors"
   ]
  },
  {
   "cell_type": "markdown",
   "metadata": {},
   "source": [
    "## 1.11. Creating Names-Country Gender Table"
   ]
  },
  {
   "cell_type": "code",
   "execution_count": 34,
   "metadata": {},
   "outputs": [],
   "source": [
    "schema_Name_gen = [\n",
    "    bigquery.SchemaField('index', 'INTEGER', 'NULLABLE', None, ()),\n",
    "    bigquery.SchemaField('name_first', 'STRING', 'NULLABLE', None, ()),\n",
    "    bigquery.SchemaField('name_last', 'STRING', 'NULLABLE', None, ()),\n",
    "    bigquery.SchemaField('country_code', 'STRING', 'NULLABLE', None, ()),\n",
    "    bigquery.SchemaField('name_first_har', 'STRING', 'NULLABLE', None, ()),\n",
    "    bigquery.SchemaField('name_last_har', 'STRING', 'NULLABLE', None, ()),\n",
    "    bigquery.SchemaField('predicted_gender', 'STRING', 'NULLABLE', None, ()),\n",
    "    bigquery.SchemaField('gender_scale', 'FLOAT', 'NULLABLE', None, ()),\n",
    "    bigquery.SchemaField('score_gender', 'FLOAT', 'NULLABLE', None, ())\n",
    "]"
   ]
  },
  {
   "cell_type": "code",
   "execution_count": 35,
   "metadata": {},
   "outputs": [],
   "source": [
    "job_config = bigquery.LoadJobConfig()\n",
    "job_config.skip_leading_rows = 1\n",
    "job_config.max_bad_records = 300\n",
    "job_config.source_format = bigquery.SourceFormat.CSV\n",
    "job_config.schema = schema_Name_gen\n",
    "dataset_ref = client.dataset('usptobias_dataset')"
   ]
  },
  {
   "cell_type": "code",
   "execution_count": 36,
   "metadata": {},
   "outputs": [
    {
     "data": {
      "text/plain": [
       "<google.cloud.bigquery.job.LoadJob at 0x7fb45c575ef0>"
      ]
     },
     "execution_count": 36,
     "metadata": {},
     "output_type": "execute_result"
    }
   ],
   "source": [
    "table_ref = dataset_ref.table('6_names_gender')\n",
    "load_job = client.load_table_from_uri(\n",
    "        source_uris='gs://uspto-data/genderCountry_processed.csv',\n",
    "        destination=table_ref,\n",
    "        # job_id=job_id,\n",
    "        job_id_prefix='lgs-',\n",
    "        job_config=job_config,\n",
    "    )\n",
    "load_job.result()"
   ]
  },
  {
   "cell_type": "code",
   "execution_count": null,
   "metadata": {},
   "outputs": [],
   "source": [
    "load_job.errors[:10]"
   ]
  },
  {
   "cell_type": "markdown",
   "metadata": {},
   "source": [
    "## 1.12. Creating Final Names-Origin Table"
   ]
  },
  {
   "cell_type": "code",
   "execution_count": 15,
   "metadata": {},
   "outputs": [],
   "source": [
    "schema_Name_org = [\n",
    "    bigquery.SchemaField('index', 'INTEGER', 'NULLABLE', None, ()),\n",
    "    bigquery.SchemaField('name_first', 'STRING', 'NULLABLE', None, ()),\n",
    "    bigquery.SchemaField('name_last', 'STRING', 'NULLABLE', None, ()),\n",
    "    bigquery.SchemaField('country_code', 'STRING', 'NULLABLE', None, ()),\n",
    "    bigquery.SchemaField('name_first_har', 'STRING', 'NULLABLE', None, ()),\n",
    "    bigquery.SchemaField('name_last_har', 'STRING', 'NULLABLE', None, ()),\n",
    "    bigquery.SchemaField('country_origin', 'STRING', 'NULLABLE', None, ()),\n",
    "    bigquery.SchemaField('sub_region_origin', 'STRING', 'NULLABLE', None, ()),\n",
    "    bigquery.SchemaField('top_region_origin', 'STRING', 'NULLABLE', None, ())\n",
    "]"
   ]
  },
  {
   "cell_type": "code",
   "execution_count": 16,
   "metadata": {},
   "outputs": [],
   "source": [
    "job_config = bigquery.LoadJobConfig()\n",
    "job_config.skip_leading_rows = 1\n",
    "job_config.max_bad_records = 300\n",
    "job_config.source_format = bigquery.SourceFormat.CSV\n",
    "job_config.schema = schema_Name_org\n",
    "dataset_ref = client.dataset('usptobias_dataset')"
   ]
  },
  {
   "cell_type": "code",
   "execution_count": 17,
   "metadata": {},
   "outputs": [
    {
     "data": {
      "text/plain": [
       "<google.cloud.bigquery.job.LoadJob at 0x7fc174952320>"
      ]
     },
     "execution_count": 17,
     "metadata": {},
     "output_type": "execute_result"
    }
   ],
   "source": [
    "table_ref = dataset_ref.table('6_names_origin')\n",
    "load_job = client.load_table_from_uri(\n",
    "        source_uris='gs://uspto-data/final_origin_processed.csv',\n",
    "        destination=table_ref,\n",
    "        # job_id=job_id,\n",
    "        job_id_prefix='lgs-',\n",
    "        job_config=job_config,\n",
    "    )\n",
    "load_job.result()"
   ]
  },
  {
   "cell_type": "markdown",
   "metadata": {},
   "source": [
    "# 1.13. Creating Countries - GPD per Capita table"
   ]
  },
  {
   "cell_type": "code",
   "execution_count": 64,
   "metadata": {},
   "outputs": [
    {
     "name": "stdout",
     "output_type": "stream",
     "text": [
      "264\n"
     ]
    },
    {
     "data": {
      "text/html": [
       "<div>\n",
       "<style scoped>\n",
       "    .dataframe tbody tr th:only-of-type {\n",
       "        vertical-align: middle;\n",
       "    }\n",
       "\n",
       "    .dataframe tbody tr th {\n",
       "        vertical-align: top;\n",
       "    }\n",
       "\n",
       "    .dataframe thead th {\n",
       "        text-align: right;\n",
       "    }\n",
       "</style>\n",
       "<table border=\"1\" class=\"dataframe\">\n",
       "  <thead>\n",
       "    <tr style=\"text-align: right;\">\n",
       "      <th></th>\n",
       "      <th>country_name</th>\n",
       "      <th>country_code</th>\n",
       "      <th>gdppc</th>\n",
       "    </tr>\n",
       "  </thead>\n",
       "  <tbody>\n",
       "    <tr>\n",
       "      <th>0</th>\n",
       "      <td>Aruba</td>\n",
       "      <td>AW</td>\n",
       "      <td>35498.982089</td>\n",
       "    </tr>\n",
       "    <tr>\n",
       "      <th>1</th>\n",
       "      <td>Afghanistan</td>\n",
       "      <td>AF</td>\n",
       "      <td>1806.763930</td>\n",
       "    </tr>\n",
       "  </tbody>\n",
       "</table>\n",
       "</div>"
      ],
      "text/plain": [
       "  country_name country_code         gdppc\n",
       "0        Aruba           AW  35498.982089\n",
       "1  Afghanistan           AF   1806.763930"
      ]
     },
     "metadata": {},
     "output_type": "display_data"
    }
   ],
   "source": [
    "import pandas as pd\n",
    "df_ = pd.read_csv('./data/countries_gdp_per_capita.csv', skiprows=2,\n",
    "                  header=1, usecols=['Country Name', 'Country Code', '2012'])\\\n",
    "        .rename(columns={'Country Name':'country_name', 'Country Code':'country_code', '2012':'gdppc'})\n",
    "\n",
    "df_map = pd.read_csv(\"./data/country-codes.csv\", usecols=['ISO3166-1-Alpha-3', 'ISO3166-1-Alpha-2'])\\\n",
    "           .rename(columns={'ISO3166-1-Alpha-3':'iso3', 'ISO3166-1-Alpha-2':'iso2'})\n",
    "df_map = (df_map[df_map.iso3!=df_map.iso2]).drop_duplicates().set_index('iso3')\n",
    "df_['country_code'] = df_.country_code.map(df_map.to_dict()['iso2'])\n",
    "\n",
    "print(df_.shape[0])\n",
    "display(df_.head(2))\n",
    "df_.to_csv('./data/countries_gdp_per_capita_2012.csv', index=False, encoding='utf-8')"
   ]
  },
  {
   "cell_type": "code",
   "execution_count": 2,
   "metadata": {},
   "outputs": [
    {
     "data": {
      "text/html": [
       "<div>\n",
       "<style scoped>\n",
       "    .dataframe tbody tr th:only-of-type {\n",
       "        vertical-align: middle;\n",
       "    }\n",
       "\n",
       "    .dataframe tbody tr th {\n",
       "        vertical-align: top;\n",
       "    }\n",
       "\n",
       "    .dataframe thead th {\n",
       "        text-align: right;\n",
       "    }\n",
       "</style>\n",
       "<table border=\"1\" class=\"dataframe\">\n",
       "  <thead>\n",
       "    <tr style=\"text-align: right;\">\n",
       "      <th></th>\n",
       "      <th>country_name</th>\n",
       "      <th>country_code</th>\n",
       "      <th>gdppc</th>\n",
       "    </tr>\n",
       "  </thead>\n",
       "  <tbody>\n",
       "    <tr>\n",
       "      <th>0</th>\n",
       "      <td>Aruba</td>\n",
       "      <td>AW</td>\n",
       "      <td>35498.982089</td>\n",
       "    </tr>\n",
       "    <tr>\n",
       "      <th>1</th>\n",
       "      <td>Afghanistan</td>\n",
       "      <td>AF</td>\n",
       "      <td>1806.763930</td>\n",
       "    </tr>\n",
       "    <tr>\n",
       "      <th>2</th>\n",
       "      <td>Angola</td>\n",
       "      <td>AO</td>\n",
       "      <td>6772.528333</td>\n",
       "    </tr>\n",
       "    <tr>\n",
       "      <th>3</th>\n",
       "      <td>Albania</td>\n",
       "      <td>AL</td>\n",
       "      <td>10526.255328</td>\n",
       "    </tr>\n",
       "    <tr>\n",
       "      <th>4</th>\n",
       "      <td>Andorra</td>\n",
       "      <td>AD</td>\n",
       "      <td>NaN</td>\n",
       "    </tr>\n",
       "  </tbody>\n",
       "</table>\n",
       "</div>"
      ],
      "text/plain": [
       "  country_name country_code         gdppc\n",
       "0        Aruba           AW  35498.982089\n",
       "1  Afghanistan           AF   1806.763930\n",
       "2       Angola           AO   6772.528333\n",
       "3      Albania           AL  10526.255328\n",
       "4      Andorra           AD           NaN"
      ]
     },
     "execution_count": 2,
     "metadata": {},
     "output_type": "execute_result"
    }
   ],
   "source": [
    "import pandas as pd\n",
    "df_1 = pd.read_csv('./data/countries_gdp_per_capita_2012.csv')\n",
    "\n",
    "df_1.head()"
   ]
  },
  {
   "cell_type": "code",
   "execution_count": 8,
   "metadata": {},
   "outputs": [
    {
     "data": {
      "text/html": [
       "<div>\n",
       "<style scoped>\n",
       "    .dataframe tbody tr th:only-of-type {\n",
       "        vertical-align: middle;\n",
       "    }\n",
       "\n",
       "    .dataframe tbody tr th {\n",
       "        vertical-align: top;\n",
       "    }\n",
       "\n",
       "    .dataframe thead th {\n",
       "        text-align: right;\n",
       "    }\n",
       "</style>\n",
       "<table border=\"1\" class=\"dataframe\">\n",
       "  <thead>\n",
       "    <tr style=\"text-align: right;\">\n",
       "      <th></th>\n",
       "      <th>country_name</th>\n",
       "      <th>country_code</th>\n",
       "      <th>gdppc</th>\n",
       "    </tr>\n",
       "  </thead>\n",
       "  <tbody>\n",
       "    <tr>\n",
       "      <th>144</th>\n",
       "      <td>Macao SAR, China</td>\n",
       "      <td>MO</td>\n",
       "      <td>126618.471775</td>\n",
       "    </tr>\n",
       "    <tr>\n",
       "      <th>198</th>\n",
       "      <td>Qatar</td>\n",
       "      <td>QA</td>\n",
       "      <td>122674.723654</td>\n",
       "    </tr>\n",
       "    <tr>\n",
       "      <th>142</th>\n",
       "      <td>Luxembourg</td>\n",
       "      <td>LU</td>\n",
       "      <td>91622.177417</td>\n",
       "    </tr>\n",
       "    <tr>\n",
       "      <th>29</th>\n",
       "      <td>Brunei Darussalam</td>\n",
       "      <td>BN</td>\n",
       "      <td>83725.421026</td>\n",
       "    </tr>\n",
       "    <tr>\n",
       "      <th>125</th>\n",
       "      <td>Kuwait</td>\n",
       "      <td>KW</td>\n",
       "      <td>80209.814532</td>\n",
       "    </tr>\n",
       "    <tr>\n",
       "      <th>206</th>\n",
       "      <td>Singapore</td>\n",
       "      <td>SG</td>\n",
       "      <td>78978.822854</td>\n",
       "    </tr>\n",
       "    <tr>\n",
       "      <th>175</th>\n",
       "      <td>Norway</td>\n",
       "      <td>NO</td>\n",
       "      <td>65447.495825</td>\n",
       "    </tr>\n",
       "    <tr>\n",
       "      <th>50</th>\n",
       "      <td>Cayman Islands</td>\n",
       "      <td>KY</td>\n",
       "      <td>63666.612362</td>\n",
       "    </tr>\n",
       "    <tr>\n",
       "      <th>210</th>\n",
       "      <td>San Marino</td>\n",
       "      <td>SM</td>\n",
       "      <td>61073.159245</td>\n",
       "    </tr>\n",
       "    <tr>\n",
       "      <th>6</th>\n",
       "      <td>United Arab Emirates</td>\n",
       "      <td>AE</td>\n",
       "      <td>58961.202011</td>\n",
       "    </tr>\n",
       "    <tr>\n",
       "      <th>35</th>\n",
       "      <td>Switzerland</td>\n",
       "      <td>CH</td>\n",
       "      <td>57849.583988</td>\n",
       "    </tr>\n",
       "    <tr>\n",
       "      <th>25</th>\n",
       "      <td>Bermuda</td>\n",
       "      <td>BM</td>\n",
       "      <td>53137.215071</td>\n",
       "    </tr>\n",
       "    <tr>\n",
       "      <th>249</th>\n",
       "      <td>United States</td>\n",
       "      <td>US</td>\n",
       "      <td>51603.497261</td>\n",
       "    </tr>\n",
       "    <tr>\n",
       "      <th>94</th>\n",
       "      <td>Hong Kong SAR, China</td>\n",
       "      <td>HK</td>\n",
       "      <td>51344.503026</td>\n",
       "    </tr>\n",
       "    <tr>\n",
       "      <th>168</th>\n",
       "      <td>North America</td>\n",
       "      <td>NaN</td>\n",
       "      <td>50666.432227</td>\n",
       "    </tr>\n",
       "    <tr>\n",
       "      <th>203</th>\n",
       "      <td>Saudi Arabia</td>\n",
       "      <td>SA</td>\n",
       "      <td>50491.547402</td>\n",
       "    </tr>\n",
       "    <tr>\n",
       "      <th>174</th>\n",
       "      <td>Netherlands</td>\n",
       "      <td>NL</td>\n",
       "      <td>47272.103019</td>\n",
       "    </tr>\n",
       "    <tr>\n",
       "      <th>12</th>\n",
       "      <td>Austria</td>\n",
       "      <td>AT</td>\n",
       "      <td>46457.345777</td>\n",
       "    </tr>\n",
       "    <tr>\n",
       "      <th>109</th>\n",
       "      <td>Ireland</td>\n",
       "      <td>IE</td>\n",
       "      <td>46283.123749</td>\n",
       "    </tr>\n",
       "    <tr>\n",
       "      <th>56</th>\n",
       "      <td>Denmark</td>\n",
       "      <td>DK</td>\n",
       "      <td>44803.962237</td>\n",
       "    </tr>\n",
       "    <tr>\n",
       "      <th>221</th>\n",
       "      <td>Sweden</td>\n",
       "      <td>SE</td>\n",
       "      <td>44774.386897</td>\n",
       "    </tr>\n",
       "    <tr>\n",
       "      <th>53</th>\n",
       "      <td>Germany</td>\n",
       "      <td>DE</td>\n",
       "      <td>43564.148017</td>\n",
       "    </tr>\n",
       "    <tr>\n",
       "      <th>180</th>\n",
       "      <td>Oman</td>\n",
       "      <td>OM</td>\n",
       "      <td>43436.877778</td>\n",
       "    </tr>\n",
       "    <tr>\n",
       "      <th>11</th>\n",
       "      <td>Australia</td>\n",
       "      <td>AU</td>\n",
       "      <td>42826.789580</td>\n",
       "    </tr>\n",
       "    <tr>\n",
       "      <th>15</th>\n",
       "      <td>Belgium</td>\n",
       "      <td>BE</td>\n",
       "      <td>42435.909251</td>\n",
       "    </tr>\n",
       "    <tr>\n",
       "      <th>33</th>\n",
       "      <td>Canada</td>\n",
       "      <td>CA</td>\n",
       "      <td>42189.196110</td>\n",
       "    </tr>\n",
       "    <tr>\n",
       "      <th>112</th>\n",
       "      <td>Iceland</td>\n",
       "      <td>IS</td>\n",
       "      <td>41926.341936</td>\n",
       "    </tr>\n",
       "    <tr>\n",
       "      <th>93</th>\n",
       "      <td>High income</td>\n",
       "      <td>NaN</td>\n",
       "      <td>41832.652000</td>\n",
       "    </tr>\n",
       "    <tr>\n",
       "      <th>20</th>\n",
       "      <td>Bahrain</td>\n",
       "      <td>BH</td>\n",
       "      <td>41754.689662</td>\n",
       "    </tr>\n",
       "    <tr>\n",
       "      <th>73</th>\n",
       "      <td>Finland</td>\n",
       "      <td>FI</td>\n",
       "      <td>40620.176066</td>\n",
       "    </tr>\n",
       "    <tr>\n",
       "      <th>...</th>\n",
       "      <td>...</td>\n",
       "      <td>...</td>\n",
       "      <td>...</td>\n",
       "    </tr>\n",
       "    <tr>\n",
       "      <th>166</th>\n",
       "      <td>Malawi</td>\n",
       "      <td>MW</td>\n",
       "      <td>1107.970550</td>\n",
       "    </tr>\n",
       "    <tr>\n",
       "      <th>32</th>\n",
       "      <td>Central African Republic</td>\n",
       "      <td>CF</td>\n",
       "      <td>1083.689925</td>\n",
       "    </tr>\n",
       "    <tr>\n",
       "      <th>163</th>\n",
       "      <td>Mozambique</td>\n",
       "      <td>MZ</td>\n",
       "      <td>1046.360735</td>\n",
       "    </tr>\n",
       "    <tr>\n",
       "      <th>171</th>\n",
       "      <td>Niger</td>\n",
       "      <td>NE</td>\n",
       "      <td>876.275999</td>\n",
       "    </tr>\n",
       "    <tr>\n",
       "      <th>14</th>\n",
       "      <td>Burundi</td>\n",
       "      <td>BI</td>\n",
       "      <td>762.422480</td>\n",
       "    </tr>\n",
       "    <tr>\n",
       "      <th>41</th>\n",
       "      <td>Congo, Dem. Rep.</td>\n",
       "      <td>CD</td>\n",
       "      <td>719.914259</td>\n",
       "    </tr>\n",
       "    <tr>\n",
       "      <th>164</th>\n",
       "      <td>Mauritania</td>\n",
       "      <td>MR</td>\n",
       "      <td>364.672757</td>\n",
       "    </tr>\n",
       "    <tr>\n",
       "      <th>4</th>\n",
       "      <td>Andorra</td>\n",
       "      <td>AD</td>\n",
       "      <td>NaN</td>\n",
       "    </tr>\n",
       "    <tr>\n",
       "      <th>9</th>\n",
       "      <td>American Samoa</td>\n",
       "      <td>AS</td>\n",
       "      <td>NaN</td>\n",
       "    </tr>\n",
       "    <tr>\n",
       "      <th>36</th>\n",
       "      <td>Channel Islands</td>\n",
       "      <td>NaN</td>\n",
       "      <td>NaN</td>\n",
       "    </tr>\n",
       "    <tr>\n",
       "      <th>48</th>\n",
       "      <td>Cuba</td>\n",
       "      <td>CU</td>\n",
       "      <td>NaN</td>\n",
       "    </tr>\n",
       "    <tr>\n",
       "      <th>54</th>\n",
       "      <td>Djibouti</td>\n",
       "      <td>DJ</td>\n",
       "      <td>NaN</td>\n",
       "    </tr>\n",
       "    <tr>\n",
       "      <th>67</th>\n",
       "      <td>Eritrea</td>\n",
       "      <td>ER</td>\n",
       "      <td>NaN</td>\n",
       "    </tr>\n",
       "    <tr>\n",
       "      <th>76</th>\n",
       "      <td>Faroe Islands</td>\n",
       "      <td>FO</td>\n",
       "      <td>NaN</td>\n",
       "    </tr>\n",
       "    <tr>\n",
       "      <th>82</th>\n",
       "      <td>Gibraltar</td>\n",
       "      <td>GI</td>\n",
       "      <td>NaN</td>\n",
       "    </tr>\n",
       "    <tr>\n",
       "      <th>89</th>\n",
       "      <td>Greenland</td>\n",
       "      <td>GL</td>\n",
       "      <td>NaN</td>\n",
       "    </tr>\n",
       "    <tr>\n",
       "      <th>91</th>\n",
       "      <td>Guam</td>\n",
       "      <td>GU</td>\n",
       "      <td>NaN</td>\n",
       "    </tr>\n",
       "    <tr>\n",
       "      <th>106</th>\n",
       "      <td>Isle of Man</td>\n",
       "      <td>IM</td>\n",
       "      <td>NaN</td>\n",
       "    </tr>\n",
       "    <tr>\n",
       "      <th>108</th>\n",
       "      <td>Not classified</td>\n",
       "      <td>NaN</td>\n",
       "      <td>NaN</td>\n",
       "    </tr>\n",
       "    <tr>\n",
       "      <th>135</th>\n",
       "      <td>Liechtenstein</td>\n",
       "      <td>LI</td>\n",
       "      <td>NaN</td>\n",
       "    </tr>\n",
       "    <tr>\n",
       "      <th>145</th>\n",
       "      <td>St. Martin (French part)</td>\n",
       "      <td>MF</td>\n",
       "      <td>NaN</td>\n",
       "    </tr>\n",
       "    <tr>\n",
       "      <th>147</th>\n",
       "      <td>Monaco</td>\n",
       "      <td>MC</td>\n",
       "      <td>NaN</td>\n",
       "    </tr>\n",
       "    <tr>\n",
       "      <th>162</th>\n",
       "      <td>Northern Mariana Islands</td>\n",
       "      <td>MP</td>\n",
       "      <td>NaN</td>\n",
       "    </tr>\n",
       "    <tr>\n",
       "      <th>170</th>\n",
       "      <td>New Caledonia</td>\n",
       "      <td>NC</td>\n",
       "      <td>NaN</td>\n",
       "    </tr>\n",
       "    <tr>\n",
       "      <th>191</th>\n",
       "      <td>Korea, Dem. People’s Rep.</td>\n",
       "      <td>KP</td>\n",
       "      <td>NaN</td>\n",
       "    </tr>\n",
       "    <tr>\n",
       "      <th>197</th>\n",
       "      <td>French Polynesia</td>\n",
       "      <td>PF</td>\n",
       "      <td>NaN</td>\n",
       "    </tr>\n",
       "    <tr>\n",
       "      <th>211</th>\n",
       "      <td>Somalia</td>\n",
       "      <td>SO</td>\n",
       "      <td>NaN</td>\n",
       "    </tr>\n",
       "    <tr>\n",
       "      <th>225</th>\n",
       "      <td>Syrian Arab Republic</td>\n",
       "      <td>SY</td>\n",
       "      <td>NaN</td>\n",
       "    </tr>\n",
       "    <tr>\n",
       "      <th>253</th>\n",
       "      <td>British Virgin Islands</td>\n",
       "      <td>VG</td>\n",
       "      <td>NaN</td>\n",
       "    </tr>\n",
       "    <tr>\n",
       "      <th>254</th>\n",
       "      <td>Virgin Islands (U.S.)</td>\n",
       "      <td>VI</td>\n",
       "      <td>NaN</td>\n",
       "    </tr>\n",
       "  </tbody>\n",
       "</table>\n",
       "<p>264 rows × 3 columns</p>\n",
       "</div>"
      ],
      "text/plain": [
       "                  country_name country_code          gdppc\n",
       "144           Macao SAR, China           MO  126618.471775\n",
       "198                      Qatar           QA  122674.723654\n",
       "142                 Luxembourg           LU   91622.177417\n",
       "29           Brunei Darussalam           BN   83725.421026\n",
       "125                     Kuwait           KW   80209.814532\n",
       "206                  Singapore           SG   78978.822854\n",
       "175                     Norway           NO   65447.495825\n",
       "50              Cayman Islands           KY   63666.612362\n",
       "210                 San Marino           SM   61073.159245\n",
       "6         United Arab Emirates           AE   58961.202011\n",
       "35                 Switzerland           CH   57849.583988\n",
       "25                     Bermuda           BM   53137.215071\n",
       "249              United States           US   51603.497261\n",
       "94        Hong Kong SAR, China           HK   51344.503026\n",
       "168              North America          NaN   50666.432227\n",
       "203               Saudi Arabia           SA   50491.547402\n",
       "174                Netherlands           NL   47272.103019\n",
       "12                     Austria           AT   46457.345777\n",
       "109                    Ireland           IE   46283.123749\n",
       "56                     Denmark           DK   44803.962237\n",
       "221                     Sweden           SE   44774.386897\n",
       "53                     Germany           DE   43564.148017\n",
       "180                       Oman           OM   43436.877778\n",
       "11                   Australia           AU   42826.789580\n",
       "15                     Belgium           BE   42435.909251\n",
       "33                      Canada           CA   42189.196110\n",
       "112                    Iceland           IS   41926.341936\n",
       "93                 High income          NaN   41832.652000\n",
       "20                     Bahrain           BH   41754.689662\n",
       "73                     Finland           FI   40620.176066\n",
       "..                         ...          ...            ...\n",
       "166                     Malawi           MW    1107.970550\n",
       "32    Central African Republic           CF    1083.689925\n",
       "163                 Mozambique           MZ    1046.360735\n",
       "171                      Niger           NE     876.275999\n",
       "14                     Burundi           BI     762.422480\n",
       "41            Congo, Dem. Rep.           CD     719.914259\n",
       "164                 Mauritania           MR     364.672757\n",
       "4                      Andorra           AD            NaN\n",
       "9               American Samoa           AS            NaN\n",
       "36             Channel Islands          NaN            NaN\n",
       "48                        Cuba           CU            NaN\n",
       "54                    Djibouti           DJ            NaN\n",
       "67                     Eritrea           ER            NaN\n",
       "76               Faroe Islands           FO            NaN\n",
       "82                   Gibraltar           GI            NaN\n",
       "89                   Greenland           GL            NaN\n",
       "91                        Guam           GU            NaN\n",
       "106                Isle of Man           IM            NaN\n",
       "108             Not classified          NaN            NaN\n",
       "135              Liechtenstein           LI            NaN\n",
       "145   St. Martin (French part)           MF            NaN\n",
       "147                     Monaco           MC            NaN\n",
       "162   Northern Mariana Islands           MP            NaN\n",
       "170              New Caledonia           NC            NaN\n",
       "191  Korea, Dem. People’s Rep.           KP            NaN\n",
       "197           French Polynesia           PF            NaN\n",
       "211                    Somalia           SO            NaN\n",
       "225       Syrian Arab Republic           SY            NaN\n",
       "253     British Virgin Islands           VG            NaN\n",
       "254      Virgin Islands (U.S.)           VI            NaN\n",
       "\n",
       "[264 rows x 3 columns]"
      ]
     },
     "execution_count": 8,
     "metadata": {},
     "output_type": "execute_result"
    }
   ],
   "source": [
    "df_1.sort_values(by=['gdppc'], ascending=False)"
   ]
  },
  {
   "cell_type": "code",
   "execution_count": 78,
   "metadata": {},
   "outputs": [],
   "source": [
    "schema_Name_org = [\n",
    "    bigquery.SchemaField('country_name', 'STRING', 'NULLABLE', None, ()),\n",
    "    bigquery.SchemaField('country_code', 'STRING', 'NULLABLE', None, ()),\n",
    "    bigquery.SchemaField('gdppc', 'FLOAT', 'NULLABLE', None, ())\n",
    "]"
   ]
  },
  {
   "cell_type": "code",
   "execution_count": 79,
   "metadata": {},
   "outputs": [],
   "source": [
    "job_config = bigquery.LoadJobConfig()\n",
    "job_config.skip_leading_rows = 1\n",
    "job_config.max_bad_records = 10\n",
    "job_config.source_format = bigquery.SourceFormat.CSV\n",
    "job_config.schema = schema_Name_org\n",
    "dataset_ref = client.dataset('adding_data')"
   ]
  },
  {
   "cell_type": "code",
   "execution_count": 80,
   "metadata": {},
   "outputs": [
    {
     "data": {
      "text/plain": [
       "<google.cloud.bigquery.job.LoadJob at 0x231bfb646a0>"
      ]
     },
     "execution_count": 80,
     "metadata": {},
     "output_type": "execute_result"
    }
   ],
   "source": [
    "table_ref = dataset_ref.table('17_countries_gdp')\n",
    "load_job = client.load_table_from_uri(\n",
    "        source_uris='gs://uspto-data/countries_gdp_per_capita_2012.csv',\n",
    "        destination=table_ref,\n",
    "        # job_id=job_id,\n",
    "        job_id_prefix='lgs-',\n",
    "        job_config=job_config,\n",
    "    )\n",
    "load_job.result()"
   ]
  },
  {
   "cell_type": "markdown",
   "metadata": {},
   "source": [
    "# 1.14. Creating transactions-category tabel\n",
    "\n",
    "This table has been extracted from the [USPTO PAIR dataset webpage - Appendix B](https://www.uspto.gov/sites/default/files/documents/Appendix%20B.pdf)"
   ]
  },
  {
   "cell_type": "code",
   "execution_count": 82,
   "metadata": {},
   "outputs": [
    {
     "data": {
      "text/html": [
       "<div>\n",
       "<style scoped>\n",
       "    .dataframe tbody tr th:only-of-type {\n",
       "        vertical-align: middle;\n",
       "    }\n",
       "\n",
       "    .dataframe tbody tr th {\n",
       "        vertical-align: top;\n",
       "    }\n",
       "\n",
       "    .dataframe thead th {\n",
       "        text-align: right;\n",
       "    }\n",
       "</style>\n",
       "<table border=\"1\" class=\"dataframe\">\n",
       "  <thead>\n",
       "    <tr style=\"text-align: right;\">\n",
       "      <th></th>\n",
       "      <th>code</th>\n",
       "      <th>category</th>\n",
       "    </tr>\n",
       "  </thead>\n",
       "  <tbody>\n",
       "    <tr>\n",
       "      <th>0</th>\n",
       "      <td>DOCK</td>\n",
       "      <td>EX</td>\n",
       "    </tr>\n",
       "    <tr>\n",
       "      <th>1</th>\n",
       "      <td>FWDX</td>\n",
       "      <td>EX</td>\n",
       "    </tr>\n",
       "    <tr>\n",
       "      <th>2</th>\n",
       "      <td>WIDS</td>\n",
       "      <td>AA</td>\n",
       "    </tr>\n",
       "  </tbody>\n",
       "</table>\n",
       "</div>"
      ],
      "text/plain": [
       "   code category\n",
       "0  DOCK       EX\n",
       "1  FWDX       EX\n",
       "2  WIDS       AA"
      ]
     },
     "execution_count": 82,
     "metadata": {},
     "output_type": "execute_result"
    }
   ],
   "source": [
    "df_ = pd.read_csv('./data/transaction_category3.csv')\n",
    "df_.head(3)"
   ]
  },
  {
   "cell_type": "code",
   "execution_count": 83,
   "metadata": {},
   "outputs": [],
   "source": [
    "schema_Name_org = [\n",
    "    bigquery.SchemaField('transaction', 'STRING', 'NULLABLE', None, ()),\n",
    "    bigquery.SchemaField('category', 'STRING', 'NULLABLE', None, ())\n",
    "]"
   ]
  },
  {
   "cell_type": "code",
   "execution_count": 84,
   "metadata": {},
   "outputs": [],
   "source": [
    "job_config = bigquery.LoadJobConfig()\n",
    "job_config.skip_leading_rows = 1\n",
    "job_config.max_bad_records = 10\n",
    "job_config.source_format = bigquery.SourceFormat.CSV\n",
    "job_config.schema = schema_Name_org\n",
    "dataset_ref = client.dataset('adding_data')"
   ]
  },
  {
   "cell_type": "code",
   "execution_count": 85,
   "metadata": {},
   "outputs": [
    {
     "data": {
      "text/plain": [
       "<google.cloud.bigquery.job.LoadJob at 0x231c01d3358>"
      ]
     },
     "execution_count": 85,
     "metadata": {},
     "output_type": "execute_result"
    }
   ],
   "source": [
    "table_ref = dataset_ref.table('18_transaction_category')\n",
    "load_job = client.load_table_from_uri(\n",
    "        source_uris='gs://uspto-data/transaction_category3.csv',\n",
    "        destination=table_ref,\n",
    "        # job_id=job_id,\n",
    "        job_id_prefix='lgs-',\n",
    "        job_config=job_config,\n",
    "    )\n",
    "load_job.result()"
   ]
  },
  {
   "cell_type": "code",
   "execution_count": null,
   "metadata": {},
   "outputs": [],
   "source": []
  }
 ],
 "metadata": {
  "kernelspec": {
   "display_name": "Python 3",
   "language": "python",
   "name": "python3"
  },
  "language_info": {
   "codemirror_mode": {
    "name": "ipython",
    "version": 3
   },
   "file_extension": ".py",
   "mimetype": "text/x-python",
   "name": "python",
   "nbconvert_exporter": "python",
   "pygments_lexer": "ipython3",
   "version": "3.7.1"
  }
 },
 "nbformat": 4,
 "nbformat_minor": 2
}
