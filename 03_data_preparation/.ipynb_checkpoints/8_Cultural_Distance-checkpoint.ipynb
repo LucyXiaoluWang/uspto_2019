{
 "cells": [
  {
   "cell_type": "code",
   "execution_count": 3,
   "metadata": {},
   "outputs": [],
   "source": [
    "import pandas as pd\n",
    "import numpy as np\n",
    "from google.cloud import bigquery"
   ]
  },
  {
   "cell_type": "code",
   "execution_count": 4,
   "metadata": {},
   "outputs": [],
   "source": [
    "%load_ext google.cloud.bigquery\n",
    "\n",
    "from IPython.display import clear_output\n",
    "from tqdm import tqdm\n",
    "import time\n",
    "\n",
    "import matplotlib.pyplot as plt\n",
    "from matplotlib import ticker\n",
    "import seaborn as sns\n",
    "\n",
    "sns.set(style='darkgrid', font_scale=1.5)\n",
    "current_palette = sns.color_palette('deep')\n"
   ]
  },
  {
   "cell_type": "markdown",
   "metadata": {},
   "source": [
    "### Preparing the csv file containing Cultural Dimensions for all the countries"
   ]
  },
  {
   "cell_type": "markdown",
   "metadata": {},
   "source": [
    "***Source:*** The original csv file containing cultural dimension data was downloaded from [GEERT HOFSTEDE](https://geerthofstede.com/research-and-vsm/dimension-data-matrix/) Website.\n",
    "For more information about this cultural dimensions please refer to its original paper *Hofstede, G.H. (1980), Culture Consequences: International Differences in Work-related. Values, Sage Publications, London.*\n",
    "*\n",
    "\n",
    "**List of Cultural Dimensions:**\n",
    "1. Power Distance Index (PDI)\n",
    "2. Individualism Index (IDV)\n",
    "3. Masculinity Index (MAS)\n",
    "4. Uncertainty Avoidance Index (UAI)\n",
    "5. Long Term Orientation Index (LTO)\n",
    "6. Indulgence versus Restraint Index (IVR)\n",
    "\n",
    "\n",
    "**Important Note:** We modified the original dataset to be able to match the largest group of countries. The modification includes:\n",
    "\n",
    "1. Modifying the country codes to match with the standard ISO3166-1-Alpha-2 codes.\n",
    "2. Modifying the cultural dimensions for the following countries:\n",
    "    1. East Africa Countries: In the original dataset, there exists one row that includes cultural distance for east africa. However, the author also tried to have a more detailed (yet incomplete) version of the cultural dimensions for some of the countries in east africa region. Thus we decided to replace the values of countries in east africa region with the \"East Africa\" row.\n",
    "    2. West Africa Countries: Please refer to (2.A.)\n",
    "    3. Arab Countries: Please refer to (2.A.)\n",
    "    4. Isreal: Since Isreal could be an important country and only one cultural dimension (Indulgence versus Restraint Index - IVR) is missing, we replaced this missing value with the average of all other countries after removing nulls\n"
   ]
  },
  {
   "cell_type": "code",
   "execution_count": 26,
   "metadata": {},
   "outputs": [
    {
     "name": "stdout",
     "output_type": "stream",
     "text": [
      "277\n"
     ]
    },
    {
     "data": {
      "text/html": [
       "<div>\n",
       "<style scoped>\n",
       "    .dataframe tbody tr th:only-of-type {\n",
       "        vertical-align: middle;\n",
       "    }\n",
       "\n",
       "    .dataframe tbody tr th {\n",
       "        vertical-align: top;\n",
       "    }\n",
       "\n",
       "    .dataframe thead th {\n",
       "        text-align: right;\n",
       "    }\n",
       "</style>\n",
       "<table border=\"1\" class=\"dataframe\">\n",
       "  <thead>\n",
       "    <tr style=\"text-align: right;\">\n",
       "      <th></th>\n",
       "      <th>country_code</th>\n",
       "      <th>country</th>\n",
       "      <th>pdi</th>\n",
       "      <th>idv</th>\n",
       "      <th>mas</th>\n",
       "      <th>uai</th>\n",
       "      <th>lto</th>\n",
       "      <th>ivr</th>\n",
       "      <th>iso2</th>\n",
       "      <th>official_name_en</th>\n",
       "    </tr>\n",
       "  </thead>\n",
       "  <tbody>\n",
       "    <tr>\n",
       "      <th>0</th>\n",
       "      <td>AFE</td>\n",
       "      <td>Africa East</td>\n",
       "      <td>64</td>\n",
       "      <td>27</td>\n",
       "      <td>41</td>\n",
       "      <td>52</td>\n",
       "      <td>32</td>\n",
       "      <td>40</td>\n",
       "      <td>NaN</td>\n",
       "      <td>NaN</td>\n",
       "    </tr>\n",
       "    <tr>\n",
       "      <th>1</th>\n",
       "      <td>AFW</td>\n",
       "      <td>Africa West</td>\n",
       "      <td>77</td>\n",
       "      <td>20</td>\n",
       "      <td>46</td>\n",
       "      <td>54</td>\n",
       "      <td>9</td>\n",
       "      <td>78</td>\n",
       "      <td>NaN</td>\n",
       "      <td>NaN</td>\n",
       "    </tr>\n",
       "    <tr>\n",
       "      <th>2</th>\n",
       "      <td>ALB</td>\n",
       "      <td>Albania</td>\n",
       "      <td>#NULL!</td>\n",
       "      <td>#NULL!</td>\n",
       "      <td>#NULL!</td>\n",
       "      <td>#NULL!</td>\n",
       "      <td>61</td>\n",
       "      <td>15</td>\n",
       "      <td>AL</td>\n",
       "      <td>Albania</td>\n",
       "    </tr>\n",
       "  </tbody>\n",
       "</table>\n",
       "</div>"
      ],
      "text/plain": [
       "  country_code      country     pdi     idv     mas     uai lto ivr iso2  \\\n",
       "0          AFE  Africa East      64      27      41      52  32  40  NaN   \n",
       "1          AFW  Africa West      77      20      46      54   9  78  NaN   \n",
       "2          ALB      Albania  #NULL!  #NULL!  #NULL!  #NULL!  61  15   AL   \n",
       "\n",
       "  official_name_en  \n",
       "0              NaN  \n",
       "1              NaN  \n",
       "2          Albania  "
      ]
     },
     "metadata": {},
     "output_type": "display_data"
    }
   ],
   "source": [
    "data_folder = './data/'\n",
    "# Loading the initial table\n",
    "df_cultural = pd.read_csv(data_folder+'Hofstede_6_cultural_dimensions.csv',\n",
    "                  usecols=['country_code', 'country', 'pdi','idv','mas','uai','lto','ivr'])\n",
    "# Mapping the country codes to \"ISO3166-1-Alpha-2\" codes\n",
    "df_map = pd.read_csv(data_folder+\"country_codes.csv\", usecols=['ISO3166-1-Alpha-2', 'official_name_en'])\\\n",
    "           .rename(columns={'ISO3166-1-Alpha-2':'iso2'})\n",
    "df_map = (df_map).drop_duplicates()\n",
    "df_cultural = pd.merge(df_cultural, df_map, left_on='country', right_on='official_name_en', how='outer')#.drop(columns=['iso3'])\n",
    "print(df_cultural.shape[0])\n",
    "display(df_cultural.head(3))\n",
    "\n",
    "# Saving the resulting dataframe\n",
    "df_cultural.to_csv(data_folder+'6_cultural_dimensions_processed.csv', index=False, encoding='utf-8')"
   ]
  },
  {
   "cell_type": "markdown",
   "metadata": {},
   "source": [
    "## Creating the BigQuery table"
   ]
  },
  {
   "cell_type": "code",
   "execution_count": 9,
   "metadata": {},
   "outputs": [
    {
     "data": {
      "text/plain": [
       "<google.cloud.bigquery.job.LoadJob at 0x25e76cd3a58>"
      ]
     },
     "execution_count": 9,
     "metadata": {},
     "output_type": "execute_result"
    }
   ],
   "source": [
    "# Before running this line, make sure that you have defined the environmental variable...\n",
    "# ...\"GOOGLE_APPLICATION_CREDENTIALS\" which points to the JSON file containing authentication key with a valid access key\n",
    "client = bigquery.Client()\n",
    "\n",
    "schema_Name_org = [\n",
    "    bigquery.SchemaField('pdi', 'STRING', 'NULLABLE', None, ()),\n",
    "    bigquery.SchemaField('country_code', 'STRING', 'NULLABLE', None, ()),\n",
    "    bigquery.SchemaField('gdppc', 'FLOAT', 'NULLABLE', None, ())\n",
    "]\n",
    "\n",
    "dataset_id = 'data_preparation'\n",
    "job_config = bigquery.LoadJobConfig()\n",
    "job_config.skip_leading_rows = 1\n",
    "job_config.max_bad_records = 10\n",
    "job_config.source_format = bigquery.SourceFormat.CSV\n",
    "job_config.schema = schema_Name_org\n",
    "\n",
    "dataset_ref = client.dataset(dataset_id)\n",
    "table_ref = dataset_ref.table('6_gdppc_country')\n",
    "load_job = client.load_table_from_uri(\n",
    "        source_uris='gs://uspto-data/data_preparation/8_cultural_dimensions_processed_null_removed.csv',\n",
    "        destination=table_ref,\n",
    "        # job_id=job_id,\n",
    "        job_id_prefix='lgs-',\n",
    "        job_config=job_config,\n",
    "    )\n",
    "load_job.result()"
   ]
  }
 ],
 "metadata": {
  "kernelspec": {
   "display_name": "Python 3",
   "language": "python",
   "name": "python3"
  },
  "language_info": {
   "codemirror_mode": {
    "name": "ipython",
    "version": 3
   },
   "file_extension": ".py",
   "mimetype": "text/x-python",
   "name": "python",
   "nbconvert_exporter": "python",
   "pygments_lexer": "ipython3",
   "version": "3.7.1"
  }
 },
 "nbformat": 4,
 "nbformat_minor": 2
}
