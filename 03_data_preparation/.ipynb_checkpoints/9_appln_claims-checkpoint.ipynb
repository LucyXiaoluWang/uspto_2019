{
 "cells": [
  {
   "cell_type": "code",
   "execution_count": 1,
   "metadata": {},
   "outputs": [],
   "source": [
    "import pandas as pd\n",
    "import os\n",
    "import glob\n",
    "import re\n",
    "import numpy as np\n",
    "from tqdm import tqdm"
   ]
  },
  {
   "cell_type": "markdown",
   "metadata": {},
   "source": [
    "# Counting Number of Claims and their text size"
   ]
  },
  {
   "cell_type": "markdown",
   "metadata": {},
   "source": [
    "## 1. Checking the Validity of Claims data in Patent dataset\n",
    "\n",
    "### 1.1. One-to-One Correspondence between Publications and Claims\n",
    "Here, we first count the number of publications that doesn't have any claims data, and then will check if there are only one claim data point per publication (we expect to get one claim per publication, since all of publications exist together in that field)"
   ]
  },
  {
   "cell_type": "code",
   "execution_count": 4,
   "metadata": {},
   "outputs": [
    {
     "data": {
      "text/html": [
       "<div>\n",
       "<style scoped>\n",
       "    .dataframe tbody tr th:only-of-type {\n",
       "        vertical-align: middle;\n",
       "    }\n",
       "\n",
       "    .dataframe tbody tr th {\n",
       "        vertical-align: top;\n",
       "    }\n",
       "\n",
       "    .dataframe thead th {\n",
       "        text-align: right;\n",
       "    }\n",
       "</style>\n",
       "<table border=\"1\" class=\"dataframe\">\n",
       "  <thead>\n",
       "    <tr style=\"text-align: right;\">\n",
       "      <th></th>\n",
       "      <th>nb_claims_null</th>\n",
       "      <th>nb_total</th>\n",
       "    </tr>\n",
       "  </thead>\n",
       "  <tbody>\n",
       "    <tr>\n",
       "      <th>0</th>\n",
       "      <td>78</td>\n",
       "      <td>12844747</td>\n",
       "    </tr>\n",
       "  </tbody>\n",
       "</table>\n",
       "</div>"
      ],
      "text/plain": [
       "   nb_claims_null  nb_total\n",
       "0              78  12844747"
      ]
     },
     "execution_count": 4,
     "metadata": {},
     "output_type": "execute_result"
    }
   ],
   "source": [
    "%%bigquery\n",
    "\n",
    "SELECT \n",
    "    COUNT(CASE WHEN claims.text='' THEN 1 END) nb_claims_null,\n",
    "    COUNT(claims.text) nb_total\n",
    "\n",
    "FROM `patents-public-data.patents.publications_201809`, UNNEST(claims_localized) as claims\n",
    "LIMIT 10"
   ]
  },
  {
   "cell_type": "markdown",
   "metadata": {},
   "source": [
    "So, there are only **78** publications without any data for claims and thus shows that we have the claims data for almost all of the publications."
   ]
  },
  {
   "cell_type": "code",
   "execution_count": 5,
   "metadata": {},
   "outputs": [
    {
     "data": {
      "text/html": [
       "<div>\n",
       "<style scoped>\n",
       "    .dataframe tbody tr th:only-of-type {\n",
       "        vertical-align: middle;\n",
       "    }\n",
       "\n",
       "    .dataframe tbody tr th {\n",
       "        vertical-align: top;\n",
       "    }\n",
       "\n",
       "    .dataframe thead th {\n",
       "        text-align: right;\n",
       "    }\n",
       "</style>\n",
       "<table border=\"1\" class=\"dataframe\">\n",
       "  <thead>\n",
       "    <tr style=\"text-align: right;\">\n",
       "      <th></th>\n",
       "      <th>nb_invalid</th>\n",
       "      <th>nb_total</th>\n",
       "    </tr>\n",
       "  </thead>\n",
       "  <tbody>\n",
       "    <tr>\n",
       "      <th>0</th>\n",
       "      <td>0</td>\n",
       "      <td>12844747</td>\n",
       "    </tr>\n",
       "  </tbody>\n",
       "</table>\n",
       "</div>"
      ],
      "text/plain": [
       "   nb_invalid  nb_total\n",
       "0           0  12844747"
      ]
     },
     "execution_count": 5,
     "metadata": {},
     "output_type": "execute_result"
    }
   ],
   "source": [
    "%%bigquery\n",
    "\n",
    "SELECT\n",
    "    COUNT(CASE WHEN nb_claims>1 THEN 1 END) nb_invalid,\n",
    "    COUNT(publn_nr) nb_total\n",
    "FROM (\n",
    "    SELECT \n",
    "        publication_number publn_nr,\n",
    "        COUNT(claims) nb_claims\n",
    "    FROM `patents-public-data.patents.publications_201809`, UNNEST(claims_localized) as claims\n",
    "    GROUP BY publn_nr\n",
    ")\n",
    "LIMIT 10"
   ]
  },
  {
   "cell_type": "markdown",
   "metadata": {},
   "source": [
    "Again, we can see that here we have one-to-one coreespondence between publication and claims for all of the publications. Thus, the quality of data is very good."
   ]
  },
  {
   "cell_type": "markdown",
   "metadata": {},
   "source": [
    "### 1.2. Structure of numbering of the claims\n",
    "\n",
    "Here, we will first check the structure of claims for all publications after the year **2000**:"
   ]
  },
  {
   "cell_type": "code",
   "execution_count": 6,
   "metadata": {},
   "outputs": [],
   "source": [
    "%%bigquery df_claims\n",
    "\n",
    "WITH table_a AS(\n",
    "SELECT \n",
    "    publication_number publn_nr, application_number appln_nr, country_code cntr_code,\n",
    "    cl.text claim_text,\n",
    "    kind_code, application_kind appln_kind, pct_number, publication_date publn_date\n",
    "FROM `patents-public-data.patents.publications`, UNNEST(claims_localized) cl\n",
    "WHERE cl.text!=''\n",
    "AND publication_date>20000000\n",
    ")\n",
    "\n",
    "SELECT *\n",
    "FROM table_a\n",
    "LIMIT 10"
   ]
  },
  {
   "cell_type": "code",
   "execution_count": 7,
   "metadata": {},
   "outputs": [
    {
     "data": {
      "text/html": [
       "<div>\n",
       "<style scoped>\n",
       "    .dataframe tbody tr th:only-of-type {\n",
       "        vertical-align: middle;\n",
       "    }\n",
       "\n",
       "    .dataframe tbody tr th {\n",
       "        vertical-align: top;\n",
       "    }\n",
       "\n",
       "    .dataframe thead th {\n",
       "        text-align: right;\n",
       "    }\n",
       "</style>\n",
       "<table border=\"1\" class=\"dataframe\">\n",
       "  <thead>\n",
       "    <tr style=\"text-align: right;\">\n",
       "      <th></th>\n",
       "      <th>publn_nr</th>\n",
       "      <th>appln_nr</th>\n",
       "      <th>cntr_code</th>\n",
       "      <th>claim_text</th>\n",
       "      <th>kind_code</th>\n",
       "      <th>appln_kind</th>\n",
       "      <th>pct_number</th>\n",
       "      <th>publn_date</th>\n",
       "    </tr>\n",
       "  </thead>\n",
       "  <tbody>\n",
       "    <tr>\n",
       "      <th>0</th>\n",
       "      <td>US-2016143905-A1</td>\n",
       "      <td>US-201514982807-A</td>\n",
       "      <td>US</td>\n",
       "      <td>1 - 11 . (canceled) \\n     \\n     \\n         1...</td>\n",
       "      <td>A1</td>\n",
       "      <td>A</td>\n",
       "      <td></td>\n",
       "      <td>20160526</td>\n",
       "    </tr>\n",
       "    <tr>\n",
       "      <th>1</th>\n",
       "      <td>US-2016175259-A1</td>\n",
       "      <td>US-201514804168-A</td>\n",
       "      <td>US</td>\n",
       "      <td>What is claimed is: \\n     \\n         1 . A na...</td>\n",
       "      <td>A1</td>\n",
       "      <td>A</td>\n",
       "      <td></td>\n",
       "      <td>20160623</td>\n",
       "    </tr>\n",
       "  </tbody>\n",
       "</table>\n",
       "</div>"
      ],
      "text/plain": [
       "           publn_nr           appln_nr cntr_code  \\\n",
       "0  US-2016143905-A1  US-201514982807-A        US   \n",
       "1  US-2016175259-A1  US-201514804168-A        US   \n",
       "\n",
       "                                          claim_text kind_code appln_kind  \\\n",
       "0  1 - 11 . (canceled) \\n     \\n     \\n         1...        A1          A   \n",
       "1  What is claimed is: \\n     \\n         1 . A na...        A1          A   \n",
       "\n",
       "  pct_number  publn_date  \n",
       "0               20160526  \n",
       "1               20160623  "
      ]
     },
     "execution_count": 7,
     "metadata": {},
     "output_type": "execute_result"
    }
   ],
   "source": [
    "df_claims.head(2)"
   ]
  },
  {
   "cell_type": "code",
   "execution_count": 30,
   "metadata": {},
   "outputs": [
    {
     "data": {
      "text/plain": [
       "'1 - 11 . (canceled) \\n     \\n     \\n         12 . A pharmaceutical composition comprising a heterocyclic compound represented by the formula (I) or a pharmaceutically acceptable salt thereof as an active ingredient and a pharmaceutically acceptable carrier: \\n       \\n         \\n           \\n           \\n               \\n               \\n           \\n         \\n         wherein \\n         A is a lower alkylene group; \\n       \\n       \\n         \\n           \\n           \\n               \\n               \\n           \\n         \\n         in the monocyclic heterocycle containing Q is \\n       \\n       \\n         \\n           \\n           \\n               \\n               \\n           \\n         \\n         wherein \\n         R 2′  is the following group \\n       \\n       \\n         \\n           \\n           \\n               \\n               \\n           \\n         \\n         wherein \\n         Y 1′  is a lower alkylene group, \\n         R 3′  is \\n         (1) an alkyl group, \\n         (2) a cycloalkyl group optionally substituted by a lower alkyl group, \\n         (3) a phenyl group, \\n         (4) a phenyl lower alkyl group \\n         (5) a lower alkoxy group, \\n         (6) a cycloalkyloxy group, \\n         (7) an amino group optionally having 1 or 2 substituents selected from the group consisting of an alkyl group and a phenyl lower alkyl group, or \\n         (8) a piperidyl group optionally having a piperidyl group; \\n       \\n       \\n         \\n           \\n           \\n               \\n               \\n           \\n         \\n         at the 3-position and the 4-position of the bicyclic heterocycle skeleton containing Z and \\n         W is —CH═CH— or \\n       \\n       \\n         \\n           \\n           \\n               \\n               \\n           \\n         \\n         wherein R 6  and R 7  are the same or different and each is a hydrogen or a lower alkyl group; \\n       \\n       \\n         \\n           \\n           \\n               \\n               \\n           \\n         \\n         wherein \\n         R 2  is a hydrogen or \\n         the following group \\n       \\n       \\n         \\n           \\n           \\n               \\n               \\n           \\n         \\n         wherein \\n         Y′ is a lower alkylene group optionally substituted by \\n         (1) a lower alkoxycarbonyl group or \\n         (2) a lower alkyl group, \\n         Y 2  is a lower alkylene group, \\n         Y 3  is a single bond or a lower alkylene group optionally substituted by a lower alkyl group, \\n         R 3  is \\n         (1) an alkyl group, \\n         (2) a halogen-substituted lower alkyl group, \\n         (3) an alkenyl group, \\n         (4) an amino lower alkyl group, \\n         (5) a cycloalkyl group, \\n         (6) a phenyl group, \\n         (7) a phenyl lower alkyl group, \\n         (8) a piperidyl group optionally having 1 or 2 substituents selected from the group consisting of a lower alkyl group and a piperidyl group, \\n         (9) a halogen-substituted piperidyl group, \\n         (10) a morpholinyl group, \\n         (11) a pyrrolidinyl group, \\n         (12) a tetrahydropyranyl group, \\n         (13) a fury) group, \\n         (14) a thienyl group, \\n         (15) a pyridyl group, \\n         (16) a pyrimidinyl group, \\n         (17) a pyridazinyl group, \\n         (18) a benzofuryl group, \\n         (19) a quinolyl group, \\n         (20) a lower alkoxycarbonyl lower alkyl group, \\n         (21) a lower alkoxy lower alkoxy lower alkyl group, \\n         (22) a lower alkoxy lower alkoxy lower alkoxy lower alkyl group, \\n         (23) an amino group optionally having 1 or 2 substituents selected from the group consisting of an alkyl group, a cycloalkyl group, a cycloalkyl lower alkyl group, a lower alkenyl group, a halogen-substituted lower alkyl group, a lower alkoxy group, a lower alkoxy lower alkyl group, a lower alkoxycarbonyl lower alkyl group, a phenyl lower alkyl group, a phenyl lower alkoxy group, a furyl lower alkyl group, a pyridyl lower alkyl group, a hydroxy-substituted lower alkyl group, \\n         (24) an amino lower alkyl group optionally having a lower alkylcarbonyl group, \\n         (25) a piperazinyl group optionally having a lower alkyl group, or \\n         (26) the following group \\n       \\n       \\n         \\n           \\n           \\n               \\n               \\n           \\n         \\n         wherein Ac is an alkylene group, and other symbols are as defined above, \\n         R 4  is \\n         (1) an alkyl group, \\n         (2) a phenyl group, \\n         (3) a phenyl lower alkyl group, \\n         (4) a halogen-substituted lower alkyl group, or \\n         (5) a cycloalkyl group, \\n         R 5  is \\n         (1) a hydrogen, \\n         (2) a lower alkyl group, \\n         (3) a halogen-substituted lower alkyl group, \\n         (4) a phenyl lower alkyl group, \\n         (5) a phenyl lower alkoxy lower alkyl group, \\n         (6) a tri-lower alkylsilyl group, \\n         (7) a tetrahydropyranyl group, or \\n         (8) a phosphono group, \\n         R 10  is \\n         (1) an alkenyl group, \\n         (2) a phenyl lower alkyl group, \\n         (3) a hydroxy-substituted lower alkyl group, \\n         (4) a cycloalkyl group, \\n         (5) an amino lower alkyl group optionally having 1 or 2 substituents selected from the group consisting of an amino lower alkylcarbonyl group and a lower alkylcarbonyl group, \\n         (6) a pyrrolidinyl group optionally having an amino lower alkylcarbonyl group, \\n         (7) an alkoxy group, \\n         (8) a lower alkoxy lower alkoxy lower alkyl group, \\n         (9) a lower alkoxy lower alkoxy lower alkoxy lower alkyl group, \\n         (10) a phenyl lower alkoxy group, \\n         (11) an amino group optionally having 1 or 2 substituents selected from the group consisting of an alkyl group, a hydroxy-substituted lower alkyl group and a phenyl lower alkyl group, \\n         (12) a morpholino group, \\n         (13) a piperazinyl group optionally having a lower alkyl group, \\n         (14) a piperidyl group optionally having a piperidyl group, or \\n         (15) a cycloalkyloxy group; \\n         provided when \\n       \\n       \\n         \\n           \\n           \\n               \\n               \\n           \\n         \\n       \\n       then\\n R 2  is not a hydrogen. \\n \\n     \\n     \\n         13 . The pharmaceutical composition according to  claim 12 , wherein the heterocyclic compound represented by the formula (I) is a compound represented by the formula (II) \\n       \\n         \\n           \\n           \\n               \\n               \\n           \\n         \\n         wherein each symbol is as defined in  claim 12 . \\n       \\n     \\n     \\n         14 . The pharmaceutical composition according to  claim 12 , wherein the heterocyclic compound represented by the formula (I) is a compound represented by the formula (III) \\n       \\n         \\n           \\n           \\n               \\n               \\n           \\n         \\n         wherein \\n       \\n       \\n         \\n           \\n           \\n               \\n               \\n           \\n         \\n         wherein \\n         R 2a  is \\n         the following group \\n       \\n       \\n         \\n           \\n           \\n               \\n               \\n           \\n         \\n         wherein \\n         Y 1a  is a lower alkylene group, \\n         Y 2a  is a lower alkylene group, \\n         R 3a  is \\n         (1) an alkyl group, \\n         (2) a cycloalkyl group, \\n         (3) a piperidyl group optionally having 1 or 2 substituents selected from the group consisting of a lower alkyl group, \\n         (4) a tetrahydropyranyl group, \\n         (5) a lower alkoxycarbonyl lower alkyl group, \\n         (6) a lower alkoxy lower alkoxy lower alkyl group \\n         (7) an amino lower alkyl group optionally having a lower alkylcarbonyl group, or \\n         (8) the following group \\n       \\n       \\n         \\n           \\n           \\n               \\n               \\n           \\n         \\n         wherein Ac′ is an alkylene group, Y 1a  is a lower alkylene group and other symbols are as defined in  claim 12 , \\n         R 4a  is \\n         (1) an alkyl group, or \\n         (2) a cycloalkyl group; and \\n         A is a lower alkylene group. \\n       \\n     \\n     \\n         15 . The pharmaceutical composition according to  claim 13 , wherein\\n R 2  is   the following group   \\n       \\n         \\n           \\n           \\n               \\n               \\n           \\n         \\n         wherein \\n         Y 1a  is a lower alkylene group, \\n         Y 2a  is a lower alkylene group, \\n         R 3a′  is \\n         (1) an alkyl group, \\n         (2) a cycloalkyl group \\n         (3) a piperidyl group optionally having 1 or 2 substituents selected from the group consisting of a lower alkyl group, \\n         (4) a tetrahydropyranyl group, \\n         (5) a lower alkoxycarbonyl lower alkyl group, \\n         (6) a lower alkoxy lower alkoxy lower alkyl group \\n         (7) an amino lower alkyl group optionally having a lower alkylcarbonyl group, \\n         R 4a  is \\n         (1) an alkyl group, or \\n         (2) a cycloalkyl group. \\n       \\n     \\n     \\n         16 . A method for treating disease selected from the group consisting of schizophrenia, treatment-resistant, refractory or chronic schizophrenia, cognitive impairment in schizophrenia and cognitive impairment caused by treatment-resistant, refractory or chronic schizophrenia comprising administering a heterocyclic compound represented by the formula (I) or a pharmaceutically acceptable salt thereof to a human or animal: \\n       \\n         \\n           \\n           \\n               \\n               \\n           \\n         \\n         wherein \\n         A is a lower alkylene group; \\n       \\n       \\n         \\n           \\n           \\n               \\n               \\n           \\n         \\n         in the monocyclic heterocycle containing Q is \\n       \\n       \\n         \\n           \\n           \\n               \\n               \\n           \\n         \\n         wherein \\n         R 2′  is the following group \\n       \\n       \\n         \\n           \\n           \\n               \\n               \\n           \\n         \\n         wherein \\n         Y 1′  is a lower alkylene group, \\n         R 3′  is \\n         (1) an alkyl group, \\n         (2) a cycloalkyl group optionally substituted by a lower alkyl group, \\n         (3) a phenyl group, \\n         (4) a phenyl lower alkyl group \\n         (5) a lower alkoxy group, \\n         (6) a cycloalkyloxy group, \\n         (7) an amino group optionally having 1 or 2 substituents selected from the group consisting of an alkyl group and a phenyl lower alkyl group, or \\n         (8) a piperidyl group optionally having a piperidyl group; \\n       \\n       \\n         \\n           \\n           \\n               \\n               \\n           \\n         \\n         at the 3-position and the 4-position of the bicyclic heterocycle skeleton containing Z and W is —CH═CH— or \\n       \\n       \\n         \\n           \\n           \\n               \\n               \\n           \\n         \\n         wherein R 6  and R 7  are the same or different and each is a hydrogen or a lower alkyl group; \\n       \\n       \\n         \\n           \\n           \\n               \\n               \\n           \\n         \\n         wherein \\n         R 2  is a hydrogen or \\n         the following group \\n       \\n       \\n         \\n           \\n           \\n               \\n               \\n           \\n         \\n         wherein \\n         Y′ is a lower alkylene group optionally substituted by \\n         (1) a lower alkoxycarbonyl group or \\n         (2) a lower alkyl group, \\n         Y 2  is a lower alkylene group, \\n         Y 3  is a single bond or a lower alkylene group optionally substituted by a lower alkyl group, \\n         R 3  is \\n         (1) an alkyl group, \\n         (2) a halogen-substituted lower alkyl group, \\n         (3) an alkenyl group, \\n         (4) an amino lower alkyl group, \\n         (5) a cycloalkyl group, \\n         (6) a phenyl group, \\n         (7) a phenyl lower alkyl group, \\n         (8) a piperidyl group optionally having 1 or 2 substituents selected from the group consisting of a lower alkyl group and a piperidyl group, \\n         (9) a halogen-substituted piperidyl group, \\n         (10) a morpholinyl group, \\n         (11) a pyrrolidinyl group, \\n         (12) a tetrahydropyranyl group, \\n         (13) a fury) group, \\n         (14) a thienyl group, \\n         (15) a pyridyl group, \\n         (16) a pyrimidinyl group, \\n         (17) a pyridazinyl group, \\n         (18) a benzofuryl group, \\n         (19) a quinolyl group, \\n         (20) a lower alkoxycarbonyl lower alkyl group, \\n         (21) a lower alkoxy lower alkoxy lower alkyl group, \\n         (22) a lower alkoxy lower alkoxy lower alkoxy lower alkyl group, \\n         (23) an amino group optionally having 1 or 2 substituents selected from the group consisting of an alkyl group, a cycloalkyl group, a cycloalkyl lower alkyl group, a lower alkenyl group, a halogen-substituted lower alkyl group, a lower alkoxy group, a lower alkoxy lower alkyl group, a lower alkoxycarbonyl lower alkyl group, a phenyl lower alkyl group, a phenyl lower alkoxy group, a furyl lower alkyl group, a pyridyl lower alkyl group, a hydroxy-substituted lower alkyl group, \\n         (24) an amino lower alkyl group optionally having a lower alkylcarbonyl group, \\n         (25) a piperazinyl group optionally having a lower alkyl group, or \\n         (26) the following group \\n       \\n       \\n         \\n           \\n           \\n               \\n               \\n           \\n         \\n         wherein Ac is an alkylene group, and other symbols are as defined above, \\n         R 4  is \\n         (1) an alkyl group, \\n         (2) a phenyl group, \\n         (3) a phenyl lower alkyl group, \\n         (4) a halogen-substituted lower alkyl group, or \\n         (5) a cycloalkyl group, \\n         R 5  is \\n         (1) a hydrogen, \\n         (2) a lower alkyl group, \\n         (3) a halogen-substituted lower alkyl group, \\n         (4) a phenyl lower alkyl group, \\n         (5) a phenyl lower alkoxy lower alkyl group, \\n         (6) a tri-lower alkylsilyl group, \\n         (7) a tetrahydropyranyl group, or \\n         (8) a phosphono group, \\n         R 10  is \\n         (1) an alkenyl group, \\n         (2) a phenyl lower alkyl group, \\n         (3) a hydroxy-substituted lower alkyl group, \\n         (4) a cycloalkyl group, \\n         (5) an amino lower alkyl group optionally having 1 or 2 substituents selected from the group consisting of an amino lower alkylcarbonyl group and a lower alkylcarbonyl group, \\n         (6) a pyrrolidinyl group optionally having an amino lower alkylcarbonyl group, \\n         (7) an alkoxy group, \\n         (8) a lower alkoxy lower alkoxy lower alkyl group, \\n         (9) a lower alkoxy lower alkoxy lower alkoxy lower alkyl group, \\n         (10) a phenyl lower alkoxy group, \\n         (11) an amino group optionally having 1 or 2 substituents selected from the group consisting of an alkyl group, a hydroxy-substituted lower alkyl group and a phenyl lower alkyl group, \\n         (12) a morpholino group, \\n         (13) a piperazinyl group optionally having a lower alkyl group, \\n         (14) a piperidyl group optionally having a piperidyl group, or \\n         (15) a cycloalkyloxy group; \\n         provided when \\n       \\n       \\n         \\n           \\n           \\n               \\n               \\n           \\n         \\n       \\n       then\\n R 2  is not a hydrogen. \\n \\n     \\n     \\n         17 . The method according to  claim 16 , wherein the heterocyclic compound represented by the formula (I) is a compound represented by the formula (II) \\n       \\n         \\n           \\n           \\n               \\n               \\n           \\n         \\n         wherein each symbol is as defined in  claim 12 . \\n       \\n     \\n     \\n         18 . The method according to  claim 16 , wherein the heterocyclic compound represented by the formula (I) is a compound represented by the formula (III) \\n       \\n         \\n           \\n           \\n               \\n               \\n           \\n         \\n         wherein \\n       \\n       \\n         \\n           \\n           \\n               \\n               \\n           \\n         \\n         wherein \\n         R 2a  is \\n         the following group \\n       \\n       \\n         \\n           \\n           \\n               \\n               \\n           \\n         \\n         wherein \\n         Y 1a  is a lower alkylene group, \\n         Y 2a  is a lower alkylene group, \\n         R 3a  is \\n         (1) an alkyl group, \\n         (2) a cycloalkyl group, \\n         (3) a piperidyl group optionally having 1 or 2 substituents selected from the group consisting of a lower alkyl group, \\n         (4) a tetrahydropyranyl group, \\n         (5) a lower alkoxycarbonyl lower alkyl group, \\n         (6) a lower alkoxy lower alkoxy lower alkyl group \\n         (7) an amino lower alkyl group optionally having a lower alkylcarbonyl group, or \\n         (8) the following group \\n       \\n       \\n         \\n           \\n           \\n               \\n               \\n           \\n         \\n         wherein Ac′ is an alkylene group, Y 1a  is a lower alkylene group and other symbols are as defined in  claim 12 , \\n         R 4a  is \\n         (1) an alkyl group, or \\n         (2) a cycloalkyl group; and \\n         A is a lower alkylene group. \\n       \\n     \\n     \\n         19 . The method according to  claim 17 , wherein\\n R 2  is   the following group   \\n       \\n         \\n           \\n           \\n               \\n               \\n           \\n         \\n         wherein \\n         Y 1a  is a lower alkylene group, \\n         Y 2a  is a lower alkylene group, \\n         R 3a′  is \\n         (1) an alkyl group, \\n         (2) a cycloalkyl group \\n         (3) a piperidyl group optionally having 1 or 2 substituents selected from the group consisting of a lower alkyl group, \\n         (4) a tetrahydropyranyl group, \\n         (5) a lower alkoxycarbonyl lower alkyl group, \\n         (6) a lower alkoxy lower alkoxy lower alkyl group \\n         (7) an amino lower alkyl group optionally having a lower alkylcarbonyl group, \\n         R 4a  is \\n         (1) an alkyl group, or \\n         (2) a cycloalkyl group.'"
      ]
     },
     "execution_count": 30,
     "metadata": {},
     "output_type": "execute_result"
    }
   ],
   "source": [
    "df_claims.iloc[0,3]"
   ]
  },
  {
   "cell_type": "code",
   "execution_count": 10,
   "metadata": {},
   "outputs": [
    {
     "data": {
      "text/plain": [
       "'1 - 11 . (canceled) \\n     \\n     \\n         12 . A pharmaceutical composition comprising a heterocyclic compound represented by the formula (I) or a pharmaceutically acceptable salt thereof as an active...'"
      ]
     },
     "execution_count": 10,
     "metadata": {},
     "output_type": "execute_result"
    }
   ],
   "source": [
    "df_claims.iloc[0,3][:200]+'...'"
   ]
  },
  {
   "cell_type": "code",
   "execution_count": 14,
   "metadata": {},
   "outputs": [
    {
     "data": {
      "text/html": [
       "<div>\n",
       "<style scoped>\n",
       "    .dataframe tbody tr th:only-of-type {\n",
       "        vertical-align: middle;\n",
       "    }\n",
       "\n",
       "    .dataframe tbody tr th {\n",
       "        vertical-align: top;\n",
       "    }\n",
       "\n",
       "    .dataframe thead th {\n",
       "        text-align: right;\n",
       "    }\n",
       "</style>\n",
       "<table border=\"1\" class=\"dataframe\">\n",
       "  <thead>\n",
       "    <tr style=\"text-align: right;\">\n",
       "      <th></th>\n",
       "      <th>publn_nr</th>\n",
       "      <th>appln_nr</th>\n",
       "      <th>cntr_code</th>\n",
       "      <th>claim_text</th>\n",
       "      <th>kind_code</th>\n",
       "      <th>appln_kind</th>\n",
       "      <th>pct_number</th>\n",
       "      <th>publn_date</th>\n",
       "    </tr>\n",
       "  </thead>\n",
       "  <tbody>\n",
       "    <tr>\n",
       "      <th>0</th>\n",
       "      <td>US-7332611-B2</td>\n",
       "      <td>US-38215706-A</td>\n",
       "      <td>US</td>\n",
       "      <td>1. A N-thiolated 2-oxazolidinone compound sele...</td>\n",
       "      <td>B2</td>\n",
       "      <td>A</td>\n",
       "      <td></td>\n",
       "      <td>20080219</td>\n",
       "    </tr>\n",
       "    <tr>\n",
       "      <th>1</th>\n",
       "      <td>US-7758960-B2</td>\n",
       "      <td>US-38298809-A</td>\n",
       "      <td>US</td>\n",
       "      <td>1. A fiber having filaments comprising a mixtu...</td>\n",
       "      <td>B2</td>\n",
       "      <td>A</td>\n",
       "      <td></td>\n",
       "      <td>20100720</td>\n",
       "    </tr>\n",
       "  </tbody>\n",
       "</table>\n",
       "</div>"
      ],
      "text/plain": [
       "        publn_nr       appln_nr cntr_code  \\\n",
       "0  US-7332611-B2  US-38215706-A        US   \n",
       "1  US-7758960-B2  US-38298809-A        US   \n",
       "\n",
       "                                          claim_text kind_code appln_kind  \\\n",
       "0  1. A N-thiolated 2-oxazolidinone compound sele...        B2          A   \n",
       "1  1. A fiber having filaments comprising a mixtu...        B2          A   \n",
       "\n",
       "  pct_number  publn_date  \n",
       "0               20080219  \n",
       "1               20100720  "
      ]
     },
     "execution_count": 14,
     "metadata": {},
     "output_type": "execute_result"
    }
   ],
   "source": [
    "%%bigquery\n",
    "\n",
    "WITH table_a AS(\n",
    "SELECT \n",
    "    publication_number publn_nr, application_number appln_nr, country_code cntr_code,\n",
    "    cl.text claim_text,\n",
    "    kind_code, application_kind appln_kind, pct_number, publication_date publn_date\n",
    "FROM `patents-public-data.patents.publications`, UNNEST(claims_localized) cl\n",
    "WHERE cl.text!=''\n",
    "AND publication_date>20000000\n",
    ")\n",
    "\n",
    "SELECT *\n",
    "FROM table_a\n",
    "WHERE REGEXP_EXTRACT(claim_text, r'^(\\d+)\\..*$') IS NOT NULL\n",
    "LIMIT 2"
   ]
  },
  {
   "cell_type": "code",
   "execution_count": 21,
   "metadata": {},
   "outputs": [
    {
     "data": {
      "text/html": [
       "<div>\n",
       "<style scoped>\n",
       "    .dataframe tbody tr th:only-of-type {\n",
       "        vertical-align: middle;\n",
       "    }\n",
       "\n",
       "    .dataframe tbody tr th {\n",
       "        vertical-align: top;\n",
       "    }\n",
       "\n",
       "    .dataframe thead th {\n",
       "        text-align: right;\n",
       "    }\n",
       "</style>\n",
       "<table border=\"1\" class=\"dataframe\">\n",
       "  <thead>\n",
       "    <tr style=\"text-align: right;\">\n",
       "      <th></th>\n",
       "      <th>publn_nr</th>\n",
       "      <th>appln_nr</th>\n",
       "      <th>cntr_code</th>\n",
       "      <th>claim_text</th>\n",
       "      <th>kind_code</th>\n",
       "      <th>appln_kind</th>\n",
       "      <th>pct_number</th>\n",
       "      <th>publn_date</th>\n",
       "    </tr>\n",
       "  </thead>\n",
       "  <tbody>\n",
       "    <tr>\n",
       "      <th>0</th>\n",
       "      <td>US-2012321743-A1</td>\n",
       "      <td>US-201113521186-A</td>\n",
       "      <td>US</td>\n",
       "      <td>1 - 15 . (canceled)</td>\n",
       "      <td>A1</td>\n",
       "      <td>A</td>\n",
       "      <td>PCT/US2011/026204</td>\n",
       "      <td>20121220</td>\n",
       "    </tr>\n",
       "    <tr>\n",
       "      <th>1</th>\n",
       "      <td>US-2018354590-A1</td>\n",
       "      <td>US-201715619507-A</td>\n",
       "      <td>US</td>\n",
       "      <td>1 - The embodiments of the invention in which ...</td>\n",
       "      <td>A1</td>\n",
       "      <td>A</td>\n",
       "      <td></td>\n",
       "      <td>20181213</td>\n",
       "    </tr>\n",
       "  </tbody>\n",
       "</table>\n",
       "</div>"
      ],
      "text/plain": [
       "           publn_nr           appln_nr cntr_code  \\\n",
       "0  US-2012321743-A1  US-201113521186-A        US   \n",
       "1  US-2018354590-A1  US-201715619507-A        US   \n",
       "\n",
       "                                          claim_text kind_code appln_kind  \\\n",
       "0                                1 - 15 . (canceled)        A1          A   \n",
       "1  1 - The embodiments of the invention in which ...        A1          A   \n",
       "\n",
       "          pct_number  publn_date  \n",
       "0  PCT/US2011/026204    20121220  \n",
       "1                       20181213  "
      ]
     },
     "execution_count": 21,
     "metadata": {},
     "output_type": "execute_result"
    }
   ],
   "source": [
    "%%bigquery\n",
    "\n",
    "WITH table_a AS(\n",
    "SELECT \n",
    "    publication_number publn_nr, application_number appln_nr, country_code cntr_code,\n",
    "    cl.text claim_text,\n",
    "    kind_code, application_kind appln_kind, pct_number, publication_date publn_date\n",
    "FROM `patents-public-data.patents.publications`, UNNEST(claims_localized) cl\n",
    "WHERE cl.text!=''\n",
    "AND publication_date>20000000\n",
    ")\n",
    "\n",
    "SELECT *\n",
    "FROM table_a\n",
    "WHERE REGEXP_EXTRACT(claim_text, r'^(\\d+)\\s+\\-.*$') IS NOT NULL\n",
    "LIMIT 2"
   ]
  },
  {
   "cell_type": "code",
   "execution_count": 22,
   "metadata": {},
   "outputs": [
    {
     "data": {
      "text/html": [
       "<div>\n",
       "<style scoped>\n",
       "    .dataframe tbody tr th:only-of-type {\n",
       "        vertical-align: middle;\n",
       "    }\n",
       "\n",
       "    .dataframe tbody tr th {\n",
       "        vertical-align: top;\n",
       "    }\n",
       "\n",
       "    .dataframe thead th {\n",
       "        text-align: right;\n",
       "    }\n",
       "</style>\n",
       "<table border=\"1\" class=\"dataframe\">\n",
       "  <thead>\n",
       "    <tr style=\"text-align: right;\">\n",
       "      <th></th>\n",
       "      <th>publn_nr</th>\n",
       "      <th>appln_nr</th>\n",
       "      <th>cntr_code</th>\n",
       "      <th>claim_text</th>\n",
       "      <th>kind_code</th>\n",
       "      <th>appln_kind</th>\n",
       "      <th>pct_number</th>\n",
       "      <th>publn_date</th>\n",
       "    </tr>\n",
       "  </thead>\n",
       "  <tbody>\n",
       "    <tr>\n",
       "      <th>0</th>\n",
       "      <td>US-2011203022-P1</td>\n",
       "      <td>US-65881310-V</td>\n",
       "      <td>US</td>\n",
       "      <td>1 . A new variety of Azalea plant named ‘MNIHA...</td>\n",
       "      <td>P1</td>\n",
       "      <td>V</td>\n",
       "      <td></td>\n",
       "      <td>20110818</td>\n",
       "    </tr>\n",
       "    <tr>\n",
       "      <th>1</th>\n",
       "      <td>US-2011183341-A1</td>\n",
       "      <td>US-201113075062-A</td>\n",
       "      <td>US</td>\n",
       "      <td>1 . A method of diagnosing a subject as suffer...</td>\n",
       "      <td>A1</td>\n",
       "      <td>A</td>\n",
       "      <td></td>\n",
       "      <td>20110728</td>\n",
       "    </tr>\n",
       "  </tbody>\n",
       "</table>\n",
       "</div>"
      ],
      "text/plain": [
       "           publn_nr           appln_nr cntr_code  \\\n",
       "0  US-2011203022-P1      US-65881310-V        US   \n",
       "1  US-2011183341-A1  US-201113075062-A        US   \n",
       "\n",
       "                                          claim_text kind_code appln_kind  \\\n",
       "0  1 . A new variety of Azalea plant named ‘MNIHA...        P1          V   \n",
       "1  1 . A method of diagnosing a subject as suffer...        A1          A   \n",
       "\n",
       "  pct_number  publn_date  \n",
       "0               20110818  \n",
       "1               20110728  "
      ]
     },
     "execution_count": 22,
     "metadata": {},
     "output_type": "execute_result"
    }
   ],
   "source": [
    "%%bigquery\n",
    "\n",
    "WITH table_a AS(\n",
    "SELECT \n",
    "    publication_number publn_nr, application_number appln_nr, country_code cntr_code,\n",
    "    cl.text claim_text,\n",
    "    kind_code, application_kind appln_kind, pct_number, publication_date publn_date\n",
    "FROM `patents-public-data.patents.publications`, UNNEST(claims_localized) cl\n",
    "WHERE cl.text!=''\n",
    "AND publication_date>20000000\n",
    ")\n",
    "\n",
    "SELECT *\n",
    "FROM table_a\n",
    "WHERE  REGEXP_EXTRACT(claim_text, r'^(\\d+)\\s+\\..*$') IS NOT NULL\n",
    "LIMIT 2"
   ]
  },
  {
   "cell_type": "code",
   "execution_count": 29,
   "metadata": {},
   "outputs": [
    {
     "data": {
      "text/html": [
       "<div>\n",
       "<style scoped>\n",
       "    .dataframe tbody tr th:only-of-type {\n",
       "        vertical-align: middle;\n",
       "    }\n",
       "\n",
       "    .dataframe tbody tr th {\n",
       "        vertical-align: top;\n",
       "    }\n",
       "\n",
       "    .dataframe thead th {\n",
       "        text-align: right;\n",
       "    }\n",
       "</style>\n",
       "<table border=\"1\" class=\"dataframe\">\n",
       "  <thead>\n",
       "    <tr style=\"text-align: right;\">\n",
       "      <th></th>\n",
       "      <th>nb_cases</th>\n",
       "      <th>nb_total</th>\n",
       "    </tr>\n",
       "  </thead>\n",
       "  <tbody>\n",
       "    <tr>\n",
       "      <th>0</th>\n",
       "      <td>18429</td>\n",
       "      <td>10597145</td>\n",
       "    </tr>\n",
       "  </tbody>\n",
       "</table>\n",
       "</div>"
      ],
      "text/plain": [
       "   nb_cases  nb_total\n",
       "0     18429  10597145"
      ]
     },
     "execution_count": 29,
     "metadata": {},
     "output_type": "execute_result"
    }
   ],
   "source": [
    "%%bigquery\n",
    "\n",
    "WITH table_a AS(\n",
    "SELECT \n",
    "    publication_number publn_nr, application_number appln_nr, country_code cntr_code,\n",
    "    cl.text claim_text,\n",
    "    kind_code, application_kind appln_kind, pct_number, publication_date publn_date\n",
    "FROM `patents-public-data.patents.publications`, UNNEST(claims_localized) cl\n",
    "WHERE cl.text!=''\n",
    "AND publication_date>20000000\n",
    ")\n",
    "\n",
    "SELECT\n",
    "    COUNT(CASE WHEN REGEXP_EXTRACT(claim_text, r'^(\\d+).*$') IS NOT NULL OR \n",
    "                    REGEXP_EXTRACT(claim_text, r'^(\\d+).*$')!=''\n",
    "               THEN 1 END) AS nb_cases,\n",
    "    COUNT(publn_nr) nb_total\n",
    "    \n",
    "FROM table_a\n",
    "LIMIT 2"
   ]
  },
  {
   "cell_type": "markdown",
   "metadata": {},
   "source": [
    "As we can see, for the majority of publications, the structure of claims starts with an opening (e.g. \"What is claimed is:...\") and then followed by `\\n` (new line) and numbering for each claim.\n",
    "Out of **~106M** patents, only **18K** starts with a number, which we can safely ignore."
   ]
  },
  {
   "cell_type": "markdown",
   "metadata": {},
   "source": [
    "## 2. Creating Raw Table For Extraction\n",
    "\n",
    "Here, we will create the raw table to later extract to CSV files and run the Python algorithm on it."
   ]
  },
  {
   "cell_type": "code",
   "execution_count": 9,
   "metadata": {},
   "outputs": [
    {
     "data": {
      "text/plain": [
       "<google.cloud.bigquery.table.RowIterator at 0x1ec2d884710>"
      ]
     },
     "execution_count": 9,
     "metadata": {},
     "output_type": "execute_result"
    }
   ],
   "source": [
    "client = bigquery.Client()\n",
    "# Creating Job Config\n",
    "job_config = bigquery.QueryJobConfig()\n",
    "#job_config.dry_run = True\n",
    "job_config.use_query_cache = False\n",
    "# Set configuration.query.writeDisposition\n",
    "job_config.write_disposition = 'WRITE_TRUNCATE'\n",
    "\n",
    "# Set the destination table\n",
    "dataset_id = 'data_preparation'\n",
    "table_id = '9_google_patents_claims_raw'\n",
    "table_ref = client.dataset(dataset_id).table(table_id)\n",
    "job_config.destination = table_ref\n",
    "\n",
    "query=\"\"\"\n",
    "WITH table_a AS(\n",
    "SELECT * EXCEPT(row_num)\n",
    "FROM(\n",
    "    SELECT \n",
    "        publication_number publn_nr, \n",
    "        application_number appln_nr, \n",
    "        country_code,\n",
    "        cl.text claim_text,\n",
    "        kind_code, \n",
    "        application_kind appln_kind, \n",
    "        publication_date as publn_date,\n",
    "        filing_date,\n",
    "        grant_date,\n",
    "        pct_number pct_nr, \n",
    "        ROW_NUMBER() OVER(PARTITION BY application_number ORDER BY publication_date ASC) row_num\n",
    "    FROM `patents-public-data.patents.publications`, UNNEST(claims_localized) cl\n",
    "    WHERE cl.text!=''\n",
    "    AND publication_date>20000000 and publication_date<20150000\n",
    ")\n",
    "WHERE row_num=1\n",
    ")\n",
    "SELECT \n",
    "    appln_nr,\n",
    "    publn_nr,\n",
    "    country_code, \n",
    "    kind_code, \n",
    "    appln_kind,\n",
    "    publn_date, \n",
    "    filing_date,\n",
    "    grant_date,\n",
    "    pct_nr,\n",
    "    claim_text\n",
    "FROM \n",
    "    table_a\n",
    "\"\"\"\n",
    "\n",
    "# Defining the query\n",
    "query_job = client.query(query, location='US', job_config=job_config)\n",
    "\n",
    "query_job.result()"
   ]
  },
  {
   "cell_type": "markdown",
   "metadata": {},
   "source": [
    "### 2.2. Exporting to CSV"
   ]
  },
  {
   "cell_type": "code",
   "execution_count": 11,
   "metadata": {},
   "outputs": [
    {
     "name": "stdout",
     "output_type": "stream",
     "text": [
      "Extract job has b8fe65e5-d18f-48cd-b875-e0691f4b3357 started!\n",
      "Job has finished and table 2_google_patents_claims_raw.csv_*.gz has been exported to uspto-data bucket!\n"
     ]
    }
   ],
   "source": [
    "### Exporting the Final Table\n",
    "client = bigquery.Client()\n",
    "\n",
    "# Set Source table\n",
    "project_id = 'usptobias'\n",
    "dataset_id = 'data_preparation'\n",
    "table_id = '9_google_patents_claims_raw'\n",
    "table_ref = client.dataset(dataset_id, project=project_id).table(table_id)\n",
    "\n",
    "# Set Destination\n",
    "dest_bucket = 'uspto-data'\n",
    "dest_folder = 'data_preparation'\n",
    "dest_file_name = '2_google_patents_claims_raw.csv_*.gz'\n",
    "dest_uri = \"gs://{0}/{1}/{2}\".format(dest_bucket, dest_folder, dest_file_name)\n",
    "\n",
    "job_config = bigquery.job.ExtractJobConfig()\n",
    "job_config.compression = 'GZIP'\n",
    "\n",
    "extract_job = client.extract_table(table_ref, dest_uri, location='US', job_config = job_config)\n",
    "print('Extract job has {} started!'.format(extract_job.job_id))\n",
    "extract_job.result()\n",
    "print('Job has finished and table {} has been exported to {} bucket!'.format(dest_file_name, dest_bucket))"
   ]
  },
  {
   "cell_type": "markdown",
   "metadata": {},
   "source": [
    "## 2.3. Copying CSV files from Google Bucket"
   ]
  },
  {
   "cell_type": "code",
   "execution_count": null,
   "metadata": {},
   "outputs": [],
   "source": [
    "!gsutil cp gs://uspto-data/data_preparation/2_google_patents_claims_raw.csv_*.gz ./data/"
   ]
  },
  {
   "cell_type": "markdown",
   "metadata": {},
   "source": [
    "# 3. Main Algorithm to Count Number of Independent Claims Per Application ID and Their Average Number of Words"
   ]
  },
  {
   "cell_type": "code",
   "execution_count": 2,
   "metadata": {},
   "outputs": [],
   "source": [
    "path = './data/'\n",
    "all_files = glob.glob(path + \"2_google_patents_claims_raw.csv_*.gz\")"
   ]
  },
  {
   "cell_type": "code",
   "execution_count": 4,
   "metadata": {},
   "outputs": [],
   "source": [
    "def mean(list_):\n",
    "    return round(np.mean(np.array(list_)), 2)"
   ]
  },
  {
   "cell_type": "markdown",
   "metadata": {},
   "source": [
    "## 3.1. Running the algorithm on a sample of dataset"
   ]
  },
  {
   "cell_type": "code",
   "execution_count": 7,
   "metadata": {},
   "outputs": [],
   "source": [
    "df_raw = pd.read_csv(all_files[0], compression='gzip').iloc[:100]"
   ]
  },
  {
   "cell_type": "code",
   "execution_count": 9,
   "metadata": {},
   "outputs": [
    {
     "data": {
      "text/html": [
       "<div>\n",
       "<style scoped>\n",
       "    .dataframe tbody tr th:only-of-type {\n",
       "        vertical-align: middle;\n",
       "    }\n",
       "\n",
       "    .dataframe tbody tr th {\n",
       "        vertical-align: top;\n",
       "    }\n",
       "\n",
       "    .dataframe thead th {\n",
       "        text-align: right;\n",
       "    }\n",
       "</style>\n",
       "<table border=\"1\" class=\"dataframe\">\n",
       "  <thead>\n",
       "    <tr style=\"text-align: right;\">\n",
       "      <th></th>\n",
       "      <th></th>\n",
       "      <th>extracts</th>\n",
       "    </tr>\n",
       "    <tr>\n",
       "      <th></th>\n",
       "      <th>match</th>\n",
       "      <th></th>\n",
       "    </tr>\n",
       "  </thead>\n",
       "  <tbody>\n",
       "    <tr>\n",
       "      <th rowspan=\"5\" valign=\"top\">0</th>\n",
       "      <th>0</th>\n",
       "      <td>1. A flash memory device, comprising: a memory...</td>\n",
       "    </tr>\n",
       "    <tr>\n",
       "      <th>1</th>\n",
       "      <td>2. The flash memory device according to claim ...</td>\n",
       "    </tr>\n",
       "    <tr>\n",
       "      <th>2</th>\n",
       "      <td>3. The flash memory device according to claim ...</td>\n",
       "    </tr>\n",
       "    <tr>\n",
       "      <th>3</th>\n",
       "      <td>4. The flash memory device according to claim ...</td>\n",
       "    </tr>\n",
       "    <tr>\n",
       "      <th>4</th>\n",
       "      <td>5. The flash memory device according to claim ...</td>\n",
       "    </tr>\n",
       "    <tr>\n",
       "      <th rowspan=\"5\" valign=\"top\">1</th>\n",
       "      <th>0</th>\n",
       "      <td>1 . An electronic accessory for an electronic ...</td>\n",
       "    </tr>\n",
       "    <tr>\n",
       "      <th>1</th>\n",
       "      <td>2 . The electronic accessory of claim 1 , wher...</td>\n",
       "    </tr>\n",
       "    <tr>\n",
       "      <th>2</th>\n",
       "      <td>3 . The electronic accessory of claim 1 , wher...</td>\n",
       "    </tr>\n",
       "    <tr>\n",
       "      <th>3</th>\n",
       "      <td>4 . The electronic accessory of claim 1 , wher...</td>\n",
       "    </tr>\n",
       "    <tr>\n",
       "      <th>4</th>\n",
       "      <td>5 . The electronic accessory of claim 1 , wher...</td>\n",
       "    </tr>\n",
       "  </tbody>\n",
       "</table>\n",
       "</div>"
      ],
      "text/plain": [
       "                                                  extracts\n",
       "  match                                                   \n",
       "0 0      1. A flash memory device, comprising: a memory...\n",
       "  1      2. The flash memory device according to claim ...\n",
       "  2      3. The flash memory device according to claim ...\n",
       "  3      4. The flash memory device according to claim ...\n",
       "  4      5. The flash memory device according to claim ...\n",
       "1 0      1 . An electronic accessory for an electronic ...\n",
       "  1      2 . The electronic accessory of claim 1 , wher...\n",
       "  2      3 . The electronic accessory of claim 1 , wher...\n",
       "  3      4 . The electronic accessory of claim 1 , wher...\n",
       "  4      5 . The electronic accessory of claim 1 , wher..."
      ]
     },
     "execution_count": 9,
     "metadata": {},
     "output_type": "execute_result"
    }
   ],
   "source": [
    "df_raw.claim_text = df_raw.claim_text.str.replace(r'\\s+', ' ')\n",
    "df_ext = df_raw.claim_text.str.extractall(r'(\\d+\\s*\\..*?)(?=\\s+\\d+\\s*\\.|$)').rename(columns={0:'extracts'})\n",
    "df_ext.head(10)"
   ]
  },
  {
   "cell_type": "code",
   "execution_count": 10,
   "metadata": {},
   "outputs": [
    {
     "data": {
      "text/html": [
       "<div>\n",
       "<style scoped>\n",
       "    .dataframe tbody tr th:only-of-type {\n",
       "        vertical-align: middle;\n",
       "    }\n",
       "\n",
       "    .dataframe tbody tr th {\n",
       "        vertical-align: top;\n",
       "    }\n",
       "\n",
       "    .dataframe thead th {\n",
       "        text-align: right;\n",
       "    }\n",
       "</style>\n",
       "<table border=\"1\" class=\"dataframe\">\n",
       "  <thead>\n",
       "    <tr style=\"text-align: right;\">\n",
       "      <th></th>\n",
       "      <th>appln_nr</th>\n",
       "      <th>publn_nr</th>\n",
       "      <th>country_code</th>\n",
       "      <th>kind_code</th>\n",
       "      <th>appln_kind</th>\n",
       "      <th>publn_date</th>\n",
       "      <th>filing_date</th>\n",
       "      <th>grant_date</th>\n",
       "      <th>pct_nr</th>\n",
       "      <th>word_avg</th>\n",
       "      <th>claim_counts</th>\n",
       "    </tr>\n",
       "  </thead>\n",
       "  <tbody>\n",
       "    <tr>\n",
       "      <th>0</th>\n",
       "      <td>US-28810699-A</td>\n",
       "      <td>US-6115289-A</td>\n",
       "      <td>US</td>\n",
       "      <td>A</td>\n",
       "      <td>A</td>\n",
       "      <td>20000905</td>\n",
       "      <td>19990408</td>\n",
       "      <td>20000905</td>\n",
       "      <td>NaN</td>\n",
       "      <td>189.00</td>\n",
       "      <td>1</td>\n",
       "    </tr>\n",
       "    <tr>\n",
       "      <th>1</th>\n",
       "      <td>US-201213725332-A</td>\n",
       "      <td>US-2013109227-A1</td>\n",
       "      <td>US</td>\n",
       "      <td>A1</td>\n",
       "      <td>A</td>\n",
       "      <td>20130502</td>\n",
       "      <td>20121221</td>\n",
       "      <td>0</td>\n",
       "      <td>NaN</td>\n",
       "      <td>229.00</td>\n",
       "      <td>3</td>\n",
       "    </tr>\n",
       "    <tr>\n",
       "      <th>2</th>\n",
       "      <td>US-17116005-A</td>\n",
       "      <td>US-2007006105-A1</td>\n",
       "      <td>US</td>\n",
       "      <td>A1</td>\n",
       "      <td>A</td>\n",
       "      <td>20070104</td>\n",
       "      <td>20050630</td>\n",
       "      <td>0</td>\n",
       "      <td>NaN</td>\n",
       "      <td>72.25</td>\n",
       "      <td>4</td>\n",
       "    </tr>\n",
       "  </tbody>\n",
       "</table>\n",
       "</div>"
      ],
      "text/plain": [
       "            appln_nr          publn_nr country_code kind_code appln_kind  \\\n",
       "0      US-28810699-A      US-6115289-A           US         A          A   \n",
       "1  US-201213725332-A  US-2013109227-A1           US        A1          A   \n",
       "2      US-17116005-A  US-2007006105-A1           US        A1          A   \n",
       "\n",
       "   publn_date  filing_date  grant_date pct_nr  word_avg  claim_counts  \n",
       "0    20000905     19990408    20000905    NaN    189.00             1  \n",
       "1    20130502     20121221           0    NaN    229.00             3  \n",
       "2    20070104     20050630           0    NaN     72.25             4  "
      ]
     },
     "execution_count": 10,
     "metadata": {},
     "output_type": "execute_result"
    }
   ],
   "source": [
    "word_avg = []\n",
    "claim_counts = []\n",
    "idx = []\n",
    "for row in df_ext.groupby(level=0):\n",
    "    sents_len = []\n",
    "    n_indp = 0\n",
    "    for r in row[1].reset_index(level=0, drop=True).iterrows():\n",
    "        txt = r[1].loc['extracts']\n",
    "        if not re.match(r'.*(?i)(claim\\s*\\d+).*', txt):\n",
    "            word_p = re.compile(r'\\w+')\n",
    "            sents_len.append(len(word_p.findall(txt)))\n",
    "            n_indp += 1\n",
    "    word_avg.append(mean(sents_len))\n",
    "    claim_counts.append(n_indp)\n",
    "    idx.append(row[0])\n",
    "df_ = pd.merge(df_raw.drop(columns=['claim_text']),\n",
    "               pd.DataFrame(dict(idx=idx, word_avg=word_avg, claim_counts=claim_counts)), \n",
    "               left_index=True, right_on='idx', how='inner').drop(columns=['idx'])\n",
    "df_.head(3)"
   ]
  },
  {
   "cell_type": "markdown",
   "metadata": {},
   "source": [
    "## 3.2. Running the algorithm on the whole dataset"
   ]
  },
  {
   "cell_type": "code",
   "execution_count": null,
   "metadata": {},
   "outputs": [
    {
     "name": "stderr",
     "output_type": "stream",
     "text": [
      "  0%|          | 0/73734 [00:00<?, ?it/s]<ipython-input-5-44e97e3fe129>:18: DeprecationWarning: Flags not at the start of the expression '.*(?i)(claim\\\\s*\\\\d+).' (truncated)\n",
      "  if not re.match(r'.*(?i)(claim\\s*\\d+).*', txt):\n",
      "  1%|          | 586/73734 [00:01<03:54, 312.45it/s] /root/anaconda3/envs/02_nlp/lib/python3.8/site-packages/numpy/core/fromnumeric.py:3256: RuntimeWarning: Mean of empty slice.\n",
      "  return _methods._mean(a, axis=axis, dtype=dtype,\n",
      "/root/anaconda3/envs/02_nlp/lib/python3.8/site-packages/numpy/core/_methods.py:161: RuntimeWarning: invalid value encountered in double_scalars\n",
      "  ret = ret.dtype.type(ret / rcount)\n",
      "100%|██████████| 73734/73734 [03:34<00:00, 343.79it/s]\n",
      "100%|██████████| 73806/73806 [03:35<00:00, 342.46it/s]\n",
      "100%|██████████| 74073/74073 [03:34<00:00, 344.82it/s]\n",
      "100%|██████████| 73481/73481 [03:36<00:00, 338.75it/s]\n",
      "100%|██████████| 73064/73064 [03:35<00:00, 338.66it/s]\n",
      "100%|██████████| 74085/74085 [03:44<00:00, 330.55it/s]\n",
      "100%|██████████| 73695/73695 [03:36<00:00, 340.50it/s]\n",
      "100%|██████████| 73640/73640 [03:39<00:00, 335.28it/s]\n",
      "100%|██████████| 73910/73910 [03:39<00:00, 337.42it/s]\n",
      "100%|██████████| 73822/73822 [03:38<00:00, 338.43it/s]\n",
      "100%|██████████| 73702/73702 [03:37<00:00, 339.55it/s]\n",
      "100%|██████████| 74030/74030 [03:37<00:00, 339.61it/s]\n",
      " 58%|█████▊    | 42455/73779 [02:02<01:29, 348.66it/s]"
     ]
    }
   ],
   "source": [
    "df_raw = pd.DataFrame()\n",
    "\n",
    "for file in all_files:\n",
    "    f_name = re.match(r'(.*).gz', file)[1]\n",
    "    df_raw = pd.read_csv(file, compression='gzip')\n",
    "    \n",
    "    df_raw.claim_text = df_raw.claim_text.str.replace(r'\\s+', ' ')\n",
    "    df_ext = df_raw.claim_text.str.extractall(r'(\\d+\\s*\\..*?)(?=\\s+\\d+\\s*\\.|$)').rename(columns={0:'extracts'})\n",
    "\n",
    "    word_avg = []\n",
    "    claim_counts = []\n",
    "    idx = []\n",
    "    for row in tqdm(df_ext.groupby(level=0)):\n",
    "        sents_len = []\n",
    "        n_indp = 0\n",
    "        for r in row[1].reset_index(level=0, drop=True).iterrows():\n",
    "            txt = r[1].loc['extracts']\n",
    "            if not re.match(r'.*(?i)(claim\\s*\\d+).*', txt):\n",
    "                word_p = re.compile(r'\\w+')\n",
    "                sents_len.append(len(word_p.findall(txt)))\n",
    "                n_indp += 1\n",
    "        word_avg.append(mean(sents_len))\n",
    "        claim_counts.append(n_indp)\n",
    "        idx.append(row[0])\n",
    "    df_ = pd.merge(df_raw.drop(columns=['claim_text']),\n",
    "                   pd.DataFrame(dict(idx=idx, word_avg=word_avg, claim_counts=claim_counts)), \n",
    "                   left_index=True, right_on='idx', how='inner').drop(columns=['idx'])\n",
    "    df_.to_csv(f_name+'.csv', encoding='utf-8', index=False)"
   ]
  },
  {
   "cell_type": "markdown",
   "metadata": {},
   "source": [
    "## 3.3. Copying the export files to Bucket"
   ]
  },
  {
   "cell_type": "code",
   "execution_count": null,
   "metadata": {},
   "outputs": [],
   "source": [
    "!gsutil cp 2_google_patents_claims_raw.csv_*.csv gs://uspto-data/data_preparation/"
   ]
  },
  {
   "cell_type": "markdown",
   "metadata": {},
   "source": [
    "# 4. Creating Final table in Google BigQuery"
   ]
  },
  {
   "cell_type": "code",
   "execution_count": 18,
   "metadata": {},
   "outputs": [],
   "source": [
    "# Before running this line, make sure that you have defined the environment variable...\n",
    "# ...\"GOOGLE_APPLICATION_CREDENTIALS\" which points to the JSON file containing authentication key\n",
    "client = bigquery.Client()\n",
    "# Initializing the Job_config\n",
    "job_config = bigquery.LoadJobConfig()\n",
    "job_config.skip_leading_rows = 1\n",
    "job_config.max_bad_records = 10\n",
    "job_config.source_format = bigquery.SourceFormat.CSV\n",
    "dataset_ref = client.dataset('data_preparation')"
   ]
  },
  {
   "cell_type": "code",
   "execution_count": 20,
   "metadata": {},
   "outputs": [
    {
     "data": {
      "text/plain": [
       "<google.cloud.bigquery.job.LoadJob at 0x1ec2d8b1da0>"
      ]
     },
     "execution_count": 20,
     "metadata": {},
     "output_type": "execute_result"
    }
   ],
   "source": [
    "client = bigquery.Client()\n",
    "\n",
    "schema_Name_org = [\n",
    "    bigquery.SchemaField('appln_nr', 'STRING', 'NULLABLE', None, ()),\n",
    "    bigquery.SchemaField('publn_nr', 'STRING', 'NULLABLE', None, ()),\n",
    "    bigquery.SchemaField('country_code', 'STRING', 'NULLABLE', None, ()),\n",
    "    bigquery.SchemaField('kind_code', 'STRING', 'NULLABLE', None, ()),\n",
    "    bigquery.SchemaField('appln_kind', 'STRING', 'NULLABLE', None, ()),\n",
    "    bigquery.SchemaField('publn_date', 'INTEGER', 'NULLABLE', None, ()),\n",
    "    bigquery.SchemaField('filing_date', 'INTEGER', 'NULLABLE', None, ()),\n",
    "    bigquery.SchemaField('grant_date', 'INTEGER', 'NULLABLE', None, ()),\n",
    "    bigquery.SchemaField('pct_nr', 'STRING', 'NULLABLE', None, ()),\n",
    "    bigquery.SchemaField('word_avg', 'FLOAT', 'NULLABLE', None, ()),\n",
    "    bigquery.SchemaField('claim_counts', 'INTEGER', 'NULLABLE', None, ())\n",
    "]\n",
    "\n",
    "dataset_id = 'data_preparation'\n",
    "job_config = bigquery.LoadJobConfig()\n",
    "job_config.skip_leading_rows = 1\n",
    "job_config.max_bad_records = 10\n",
    "job_config.source_format = bigquery.SourceFormat.CSV\n",
    "job_config.schema = schema_Name_org\n",
    "\n",
    "dataset_ref = client.dataset(dataset_id)\n",
    "table_ref = dataset_ref.table('9_google_patents_claims')\n",
    "load_job = client.load_table_from_uri(\n",
    "        source_uris='gs://uspto-data/data_preparatio/2_google_patents_claims_raw.csv_*.csv',\n",
    "        destination=table_ref,\n",
    "        # job_id=job_id,\n",
    "        job_id_prefix='lgs-',\n",
    "        job_config=job_config,\n",
    "    )\n",
    "load_job.result()\n",
    "load_job.result()"
   ]
  }
 ],
 "metadata": {
  "kernelspec": {
   "display_name": "Python 3",
   "language": "python",
   "name": "python3"
  },
  "language_info": {
   "codemirror_mode": {
    "name": "ipython",
    "version": 3
   },
   "file_extension": ".py",
   "mimetype": "text/x-python",
   "name": "python",
   "nbconvert_exporter": "python",
   "pygments_lexer": "ipython3",
   "version": "3.7.1"
  }
 },
 "nbformat": 4,
 "nbformat_minor": 4
}
