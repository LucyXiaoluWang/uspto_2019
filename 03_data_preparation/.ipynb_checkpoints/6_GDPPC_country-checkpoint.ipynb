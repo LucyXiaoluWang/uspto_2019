{
 "cells": [
  {
   "cell_type": "code",
   "execution_count": 2,
   "metadata": {},
   "outputs": [],
   "source": [
    "import pandas as pd\n",
    "import numpy as np\n",
    "from google.cloud import bigquery"
   ]
  },
  {
   "cell_type": "code",
   "execution_count": null,
   "metadata": {},
   "outputs": [],
   "source": [
    "%load_ext google.cloud.bigquery\n",
    "\n",
    "from IPython.display import clear_output\n",
    "from tqdm import tqdm\n",
    "import time\n",
    "\n",
    "import matplotlib.pyplot as plt\n",
    "from matplotlib import ticker\n",
    "import seaborn as sns\n",
    "\n",
    "sns.set(style='darkgrid', font_scale=1.5)\n",
    "current_palette = sns.color_palette('deep')\n"
   ]
  },
  {
   "cell_type": "markdown",
   "metadata": {},
   "source": [
    "### Preparing the csv file containing GDP per capita information for all the countries for the year 2012"
   ]
  },
  {
   "cell_type": "markdown",
   "metadata": {},
   "source": [
    "***Source:*** The original csv file containing GDP per capita data was downloaded from [World Bank data](https://data.worldbank.org/indicator/ny.gdp.pcap.pp.cd?view=map) 2012.\n"
   ]
  },
  {
   "cell_type": "code",
   "execution_count": 5,
   "metadata": {},
   "outputs": [
    {
     "name": "stdout",
     "output_type": "stream",
     "text": [
      "264\n"
     ]
    },
    {
     "data": {
      "text/html": [
       "<div>\n",
       "<style scoped>\n",
       "    .dataframe tbody tr th:only-of-type {\n",
       "        vertical-align: middle;\n",
       "    }\n",
       "\n",
       "    .dataframe tbody tr th {\n",
       "        vertical-align: top;\n",
       "    }\n",
       "\n",
       "    .dataframe thead th {\n",
       "        text-align: right;\n",
       "    }\n",
       "</style>\n",
       "<table border=\"1\" class=\"dataframe\">\n",
       "  <thead>\n",
       "    <tr style=\"text-align: right;\">\n",
       "      <th></th>\n",
       "      <th>country_name</th>\n",
       "      <th>country_code</th>\n",
       "      <th>gdppc</th>\n",
       "    </tr>\n",
       "  </thead>\n",
       "  <tbody>\n",
       "    <tr>\n",
       "      <th>0</th>\n",
       "      <td>Aruba</td>\n",
       "      <td>AW</td>\n",
       "      <td>35498.982089</td>\n",
       "    </tr>\n",
       "    <tr>\n",
       "      <th>1</th>\n",
       "      <td>Afghanistan</td>\n",
       "      <td>AF</td>\n",
       "      <td>1806.763930</td>\n",
       "    </tr>\n",
       "  </tbody>\n",
       "</table>\n",
       "</div>"
      ],
      "text/plain": [
       "  country_name country_code         gdppc\n",
       "0        Aruba           AW  35498.982089\n",
       "1  Afghanistan           AF   1806.763930"
      ]
     },
     "metadata": {},
     "output_type": "display_data"
    }
   ],
   "source": [
    "data_folder = './data/'\n",
    "# Loading the initial table\n",
    "df_gdp = pd.read_csv(data_folder+'country_gdpPerCapita.csv', skiprows=2,\n",
    "                  header=1, usecols=['Country Name', 'Country Code', '2012'])\\\n",
    "        .rename(columns={'Country Name':'country_name', 'Country Code':'country_code', '2012':'gdppc'})\n",
    "# Mapping the country codes to \"ISO3166-1-Alpha-2\" codes\n",
    "df_map = pd.read_csv(data_folder+\"country_codes.csv\", usecols=['ISO3166-1-Alpha-3', 'ISO3166-1-Alpha-2'])\\\n",
    "           .rename(columns={'ISO3166-1-Alpha-3':'iso3', 'ISO3166-1-Alpha-2':'iso2'})\n",
    "df_map = (df_map[df_map.iso3!=df_map.iso2]).drop_duplicates().set_index('iso3')\n",
    "df_gdp['country_code'] = df_gdp.country_code.map(df_map.to_dict()['iso2'])\n",
    "print(df_gdp.shape[0])\n",
    "display(df_gdp.head(2))\n",
    "\n",
    "# Saving the resulting dataframe\n",
    "df_gdp.to_csv(data_folder+'country_gdpPerCapita_2012.csv', index=False, encoding='utf-8')"
   ]
  },
  {
   "cell_type": "markdown",
   "metadata": {},
   "source": [
    "## Creating the BigQuery table"
   ]
  },
  {
   "cell_type": "code",
   "execution_count": 9,
   "metadata": {},
   "outputs": [
    {
     "data": {
      "text/plain": [
       "<google.cloud.bigquery.job.LoadJob at 0x25e76cd3a58>"
      ]
     },
     "execution_count": 9,
     "metadata": {},
     "output_type": "execute_result"
    }
   ],
   "source": [
    "# Before running this line, make sure that you have defined the environmental variable...\n",
    "# ...\"GOOGLE_APPLICATION_CREDENTIALS\" which points to the JSON file containing authentication key with a valid access key\n",
    "client = bigquery.Client()\n",
    "\n",
    "schema_Name_org = [\n",
    "    bigquery.SchemaField('country_name', 'STRING', 'NULLABLE', None, ()),\n",
    "    bigquery.SchemaField('country_code', 'STRING', 'NULLABLE', None, ()),\n",
    "    bigquery.SchemaField('gdppc', 'FLOAT', 'NULLABLE', None, ())\n",
    "]\n",
    "\n",
    "dataset_id = 'data_preparation'\n",
    "job_config = bigquery.LoadJobConfig()\n",
    "job_config.skip_leading_rows = 1\n",
    "job_config.max_bad_records = 10\n",
    "job_config.source_format = bigquery.SourceFormat.CSV\n",
    "job_config.schema = schema_Name_org\n",
    "\n",
    "dataset_ref = client.dataset(dataset_id)\n",
    "table_ref = dataset_ref.table('6_gdppc_country')\n",
    "load_job = client.load_table_from_uri(\n",
    "        source_uris='gs://uspto-data/data_preparation/6_country_gdpPerCapita_2012.csv',\n",
    "        destination=table_ref,\n",
    "        # job_id=job_id,\n",
    "        job_id_prefix='lgs-',\n",
    "        job_config=job_config,\n",
    "    )\n",
    "load_job.result()"
   ]
  }
 ],
 "metadata": {
  "kernelspec": {
   "display_name": "Python 3",
   "language": "python",
   "name": "python3"
  },
  "language_info": {
   "codemirror_mode": {
    "name": "ipython",
    "version": 3
   },
   "file_extension": ".py",
   "mimetype": "text/x-python",
   "name": "python",
   "nbconvert_exporter": "python",
   "pygments_lexer": "ipython3",
   "version": "3.7.1"
  }
 },
 "nbformat": 4,
 "nbformat_minor": 2
}
