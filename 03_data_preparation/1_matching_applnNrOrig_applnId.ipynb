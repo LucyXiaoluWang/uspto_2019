{
 "cells": [
  {
   "cell_type": "code",
   "execution_count": 8,
   "metadata": {},
   "outputs": [
    {
     "name": "stdout",
     "output_type": "stream",
     "text": [
      "The google.cloud.bigquery extension is already loaded. To reload it, use:\n",
      "  %reload_ext google.cloud.bigquery\n"
     ]
    }
   ],
   "source": [
    "import pandas as pd\n",
    "import numpy as np\n",
    "from google.cloud import bigquery\n",
    "%load_ext google.cloud.bigquery\n",
    "\n",
    "import matplotlib.pyplot as plt\n",
    "from matplotlib import ticker\n",
    "import seaborn as sns\n",
    "sns.set(style='darkgrid', font_scale=1.5)\n",
    "current_palette = sns.color_palette('deep')"
   ]
  },
  {
   "cell_type": "markdown",
   "metadata": {},
   "source": [
    "# 1. Investigating how to extract `appln_nr`"
   ]
  },
  {
   "cell_type": "code",
   "execution_count": 3,
   "metadata": {},
   "outputs": [
    {
     "data": {
      "text/html": [
       "<div>\n",
       "<style scoped>\n",
       "    .dataframe tbody tr th:only-of-type {\n",
       "        vertical-align: middle;\n",
       "    }\n",
       "\n",
       "    .dataframe tbody tr th {\n",
       "        vertical-align: top;\n",
       "    }\n",
       "\n",
       "    .dataframe thead th {\n",
       "        text-align: right;\n",
       "    }\n",
       "</style>\n",
       "<table border=\"1\" class=\"dataframe\">\n",
       "  <thead>\n",
       "    <tr style=\"text-align: right;\">\n",
       "      <th></th>\n",
       "      <th>nb_appln_auth_matched</th>\n",
       "      <th>nb_publn_auth_matched</th>\n",
       "      <th>nb_appln_kind_matched</th>\n",
       "      <th>nb_publn_kind_matched</th>\n",
       "      <th>nb_total</th>\n",
       "    </tr>\n",
       "  </thead>\n",
       "  <tbody>\n",
       "    <tr>\n",
       "      <th>0</th>\n",
       "      <td>108185073</td>\n",
       "      <td>112527100</td>\n",
       "      <td>112492646</td>\n",
       "      <td>75692551</td>\n",
       "      <td>112527100</td>\n",
       "    </tr>\n",
       "  </tbody>\n",
       "</table>\n",
       "</div>"
      ],
      "text/plain": [
       "   nb_appln_auth_matched  nb_publn_auth_matched  nb_appln_kind_matched  \\\n",
       "0              108185073              112527100              112492646   \n",
       "\n",
       "   nb_publn_kind_matched   nb_total  \n",
       "0               75692551  112527100  "
      ]
     },
     "execution_count": 3,
     "metadata": {},
     "output_type": "execute_result"
    }
   ],
   "source": [
    "%%bigquery\n",
    "WITH t1 AS(\n",
    "    SELECT a.application_number AS appln_nr_orig, a.publication_number AS publn_nr_orig, country_code AS appln_auth, application_kind AS appln_kind, \n",
    "    PC.application_number AS prior_appln_nr_orig, PC.publication_number AS prior_publn_nr_orig\n",
    "    FROM `patents-public-data.patents.publications` AS a, UNNEST(a.priority_claim) AS PC\n",
    "), t2 AS(\n",
    "    SELECT DISTINCT\n",
    "        appln_nr_orig,\n",
    "        publn_nr_orig,\n",
    "        appln_auth,\n",
    "        appln_kind\n",
    "    FROM t1\n",
    ")\n",
    "\n",
    "SELECT\n",
    "    COUNT(CASE WHEN REGEXP_EXTRACT(appln_nr_orig, r'(\\w{2})-.*-.*')=appln_auth THEN 1 END) AS nb_appln_auth_matched,\n",
    "    COUNT(CASE WHEN REGEXP_EXTRACT(publn_nr_orig, r'(\\w{2})-.*-.*')=appln_auth THEN 1 END) AS nb_publn_auth_matched,\n",
    "    COUNT(CASE WHEN REGEXP_EXTRACT(appln_nr_orig, r'\\w{2}-.*-(\\w{1}).*')=appln_kind THEN 1 END) AS nb_appln_kind_matched,\n",
    "    COUNT(CASE WHEN REGEXP_EXTRACT(publn_nr_orig, r'\\w{2}-.*-(\\w{1}).*')=appln_kind THEN 1 END) AS nb_publn_kind_matched,\n",
    "    COUNT(*) AS nb_total\n",
    "FROM t2"
   ]
  },
  {
   "cell_type": "markdown",
   "metadata": {},
   "source": [
    "Thus, this shows that for extracting `appln_kind` we should use `application_number` field, but for extracting `appln_auth` we must use `publication_number`!"
   ]
  },
  {
   "cell_type": "markdown",
   "metadata": {},
   "source": [
    "# 2. Creating `1_matching_applnNr_applnId` table"
   ]
  },
  {
   "cell_type": "markdown",
   "metadata": {},
   "source": [
    "## 2.1. Creating Initial matching table"
   ]
  },
  {
   "cell_type": "code",
   "execution_count": 27,
   "metadata": {},
   "outputs": [
    {
     "data": {
      "text/plain": [
       "<google.cloud.bigquery.table.RowIterator at 0x1bfa7025b70>"
      ]
     },
     "execution_count": 27,
     "metadata": {},
     "output_type": "execute_result"
    }
   ],
   "source": [
    "client = bigquery.Client()\n",
    "# Creating Job Config\n",
    "job_config = bigquery.QueryJobConfig()\n",
    "#job_config.dry_run = True\n",
    "job_config.use_query_cache = False\n",
    "# Set configuration.query.writeDisposition\n",
    "job_config.write_disposition = 'WRITE_TRUNCATE'\n",
    "\n",
    "# Set the destination table\n",
    "dataset_id = 'data_preparation'\n",
    "table_id = '1_matching_initial'\n",
    "table_ref = client.dataset(dataset_id).table(table_id)\n",
    "job_config.destination = table_ref\n",
    "query=\"\"\"\n",
    "WITH t1 AS(\n",
    "    SELECT \n",
    "        a.application_number AS appln_nr_orig, a.publication_number AS publn_nr_orig, \n",
    "        PC.application_number AS prior_appln_nr_orig, PC.publication_number AS prior_publn_nr_orig\n",
    "    FROM `patents-public-data.patents.publications` AS a, UNNEST(a.priority_claim) AS PC\n",
    "), t2 AS(\n",
    "    SELECT DISTINCT\n",
    "        appln_nr_orig,\n",
    "        publn_nr_orig\n",
    "    FROM t1\n",
    "), t3 AS(\n",
    "    SELECT DISTINCT\n",
    "        prior_appln_nr_orig AS appln_nr_orig,\n",
    "        prior_publn_nr_orig AS publn_nr_orig\n",
    "    FROM t1\n",
    "), t4 AS(\n",
    "    SELECT DISTINCT *\n",
    "    FROM(\n",
    "        (SELECT appln_nr_orig, publn_nr_orig\n",
    "        FROM t2) UNION ALL\n",
    "        (SELECT appln_nr_orig, publn_nr_orig\n",
    "        FROM t3)\n",
    "    )\n",
    "), t5 AS(\n",
    "    SELECT DISTINCT \n",
    "        appln_nr_orig,\n",
    "        appln_nr,\n",
    "        (CASE WHEN appln_auth_p IS NOT NULL THEN appln_auth_p ELSE appln_auth_a END) AS appln_auth,\n",
    "        appln_kind\n",
    "    FROM(\n",
    "        SELECT DISTINCT\n",
    "            appln_nr_orig,\n",
    "            REGEXP_EXTRACT(appln_nr_orig, r'\\w{{2}}-(.*)-.*') AS appln_nr,\n",
    "            REGEXP_EXTRACT(publn_nr_orig, r'(\\w{{2}})-.*-.*') AS appln_auth_p,\n",
    "            REGEXP_EXTRACT(appln_nr_orig, r'(\\w{{2}})-.*-.*') AS appln_auth_a,\n",
    "            REGEXP_EXTRACT(appln_nr_orig, r'\\w{{2}}-.*-(\\w{{1}}).*') AS appln_kind\n",
    "        FROM t4\n",
    "    )\n",
    "    #WHERE appln_auth IS NOT NULL\n",
    "), t6 AS(\n",
    "    SELECT DISTINCT\n",
    "      appln_id, \n",
    "      appln_nr, \n",
    "      appln_auth,\n",
    "      REGEXP_EXTRACT(appln_kind, r'(\\w{{1}}).*') AS appln_kind,\n",
    "      receiving_office\n",
    "    FROM `{0}.patstat.tls201`\n",
    "), t7 AS(\n",
    "    SELECT *\n",
    "    FROM t5\n",
    "    FULL OUTER JOIN t6 USING(appln_nr, appln_auth, appln_kind)\n",
    "), t8 AS(\n",
    "    SELECT \n",
    "        appln_id, \n",
    "        ANY_VALUE(appln_kind) AS appln_kind, \n",
    "        ANY_VALUE(appln_auth) AS appln_auth, \n",
    "        ARRAY_AGG(appln_nr_orig) AS appln_nr_orig, \n",
    "        ANY_VALUE(appln_nr) AS appln_nr\n",
    "    FROM t7\n",
    "    GROUP BY appln_id\n",
    "    HAVING COUNT(t7.appln_nr_orig)>1\n",
    "), t9 AS(\n",
    "    SELECT \n",
    "        appln_nr_orig,\n",
    "        ANY_VALUE(appln_id) AS appln_id\n",
    "    FROM t7\n",
    "    GROUP BY appln_nr_orig\n",
    "    HAVING COUNT(t7.appln_id)>1\n",
    "), t10 AS(\n",
    "    SELECT \n",
    "        t8.appln_id,\n",
    "        t8.appln_kind,\n",
    "        t8.appln_auth,\n",
    "        t8.appln_nr,\n",
    "        appln_nr_orig_ex AS appln_nr_orig\n",
    "    FROM t8, UNNEST(t8.appln_nr_orig) AS appln_nr_orig_ex\n",
    "    LEFT JOIN t6 USING(appln_id)\n",
    "    WHERE t6.receiving_office = REGEXP_EXTRACT(appln_nr_orig_ex, r'(\\w{{2}})-.*-.*')\n",
    "), t11 AS(\n",
    "    SELECT a.*\n",
    "    FROM(\n",
    "        SELECT \n",
    "            t7.appln_id,\n",
    "            t7.appln_kind,\n",
    "            t7.appln_auth,\n",
    "            t7.appln_nr,\n",
    "            t7.appln_nr_orig\n",
    "        FROM t7\n",
    "        LEFT JOIN t8 USING(appln_id)\n",
    "        WHERE t8.appln_kind IS NULL\n",
    "    ) AS a\n",
    "    LEFT JOIN t9 USING(appln_nr_orig)\n",
    "    WHERE t9.appln_id IS NULL\n",
    "\n",
    ")\n",
    "\n",
    "SELECT DISTINCT *\n",
    "FROM(\n",
    "    (SELECT * FROM t11) UNION ALL\n",
    "    (SELECT * FROM t10)\n",
    ")\n",
    "\n",
    "\"\"\".format(project_id)\n",
    "\n",
    "# Defining the query\n",
    "query_job = client.query(query, location='US', job_config=job_config)\n",
    "\n",
    "query_job.result()"
   ]
  },
  {
   "cell_type": "markdown",
   "metadata": {},
   "source": [
    "## 2.2. Creating final matching table"
   ]
  },
  {
   "cell_type": "code",
   "execution_count": 4,
   "metadata": {},
   "outputs": [
    {
     "data": {
      "text/plain": [
       "<google.cloud.bigquery.table.RowIterator at 0x1bfa4206898>"
      ]
     },
     "execution_count": 4,
     "metadata": {},
     "output_type": "execute_result"
    }
   ],
   "source": [
    "client = bigquery.Client()\n",
    "# Creating Job Config\n",
    "job_config = bigquery.QueryJobConfig()\n",
    "#job_config.dry_run = True\n",
    "job_config.use_query_cache = False\n",
    "# Set configuration.query.writeDisposition\n",
    "job_config.write_disposition = 'WRITE_TRUNCATE'\n",
    "\n",
    "# Set the destination table\n",
    "project_id = 'usptobias'\n",
    "dataset_id = 'data_preparation'\n",
    "table_id = '1_matching_applnNr_applnId'\n",
    "table_ref = client.dataset(dataset_id).table(table_id)\n",
    "job_config.destination = table_ref\n",
    "query=\"\"\"\n",
    "WITH t1 AS(\n",
    "    SELECT \n",
    "        a.application_number AS appln_nr_orig, a.publication_number AS publn_nr_orig, \n",
    "        PC.application_number AS prior_appln_nr_orig, PC.publication_number AS prior_publn_nr_orig\n",
    "    FROM `patents-public-data.patents.publications` AS a, UNNEST(a.priority_claim) AS PC\n",
    "), t2 AS(\n",
    "    SELECT DISTINCT\n",
    "        appln_nr_orig,\n",
    "        publn_nr_orig\n",
    "    FROM t1\n",
    "), t3 AS(\n",
    "    SELECT DISTINCT\n",
    "        prior_appln_nr_orig AS appln_nr_orig,\n",
    "        prior_publn_nr_orig AS publn_nr_orig\n",
    "    FROM t1\n",
    "), t4 AS(\n",
    "    SELECT DISTINCT *\n",
    "    FROM(\n",
    "        (SELECT appln_nr_orig, publn_nr_orig\n",
    "        FROM t2) UNION ALL\n",
    "        (SELECT appln_nr_orig, publn_nr_orig\n",
    "        FROM t3)\n",
    "    )\n",
    "), t5 AS(\n",
    "    SELECT DISTINCT \n",
    "        appln_nr_orig,\n",
    "        appln_nr,\n",
    "        (CASE WHEN appln_auth_p IS NOT NULL THEN appln_auth_p ELSE appln_auth_a END) AS appln_auth,\n",
    "        appln_kind\n",
    "    FROM(\n",
    "        SELECT DISTINCT\n",
    "            appln_nr_orig,\n",
    "            REGEXP_EXTRACT(appln_nr_orig, r'\\w{{2}}-(.*)-.*') AS appln_nr,\n",
    "            REGEXP_EXTRACT(publn_nr_orig, r'(\\w{{2}})-.*-.*') AS appln_auth_p,\n",
    "            REGEXP_EXTRACT(appln_nr_orig, r'(\\w{{2}})-.*-.*') AS appln_auth_a,\n",
    "            REGEXP_EXTRACT(appln_nr_orig, r'\\w{{2}}-.*-(\\w{{1}}).*') AS appln_kind\n",
    "        FROM t4\n",
    "    )\n",
    "    #WHERE appln_auth IS NOT NULL\n",
    "), t6 AS(\n",
    "    SELECT DISTINCT\n",
    "      appln_id, \n",
    "      appln_nr, \n",
    "      appln_auth,\n",
    "      REGEXP_EXTRACT(appln_kind, r'(\\w{{1}}).*') AS appln_kind,\n",
    "      receiving_office\n",
    "    FROM `{0}.patstat.tls201`\n",
    "), t7 AS(\n",
    "    SELECT *\n",
    "    FROM t5\n",
    "    FULL OUTER JOIN t6 USING(appln_nr, appln_auth, appln_kind)\n",
    "), t8 AS(\n",
    "    SELECT \n",
    "        appln_id, \n",
    "        ANY_VALUE(appln_kind) AS appln_kind, \n",
    "        ANY_VALUE(appln_auth) AS appln_auth, \n",
    "        ARRAY_AGG(appln_nr_orig) AS appln_nr_orig, \n",
    "        ANY_VALUE(appln_nr) AS appln_nr\n",
    "    FROM t7\n",
    "    GROUP BY appln_id\n",
    "    HAVING COUNT(t7.appln_nr_orig)>1\n",
    "), t9 AS(\n",
    "    SELECT \n",
    "        appln_nr_orig,\n",
    "        ANY_VALUE(appln_id) AS appln_id\n",
    "    FROM t7\n",
    "    GROUP BY appln_nr_orig\n",
    "    HAVING COUNT(t7.appln_id)>1\n",
    "), t10 AS(\n",
    "    SELECT \n",
    "        t8.appln_id,\n",
    "        t8.appln_kind,\n",
    "        t8.appln_auth,\n",
    "        t8.appln_nr,\n",
    "        appln_nr_orig_ex AS appln_nr_orig\n",
    "    FROM t8, UNNEST(t8.appln_nr_orig) AS appln_nr_orig_ex\n",
    "    LEFT JOIN t6 USING(appln_id)\n",
    "    WHERE t6.receiving_office = REGEXP_EXTRACT(appln_nr_orig_ex, r'(\\w{{2}})-.*-.*')\n",
    "), t11 AS(\n",
    "    SELECT a.*\n",
    "    FROM(\n",
    "        SELECT \n",
    "            t7.appln_id,\n",
    "            t7.appln_kind,\n",
    "            t7.appln_auth,\n",
    "            t7.appln_nr,\n",
    "            t7.appln_nr_orig\n",
    "        FROM t7\n",
    "        LEFT JOIN t8 USING(appln_id)\n",
    "        WHERE t8.appln_kind IS NULL\n",
    "    ) AS a\n",
    "    LEFT JOIN t9 USING(appln_nr_orig)\n",
    "    WHERE t9.appln_id IS NULL\n",
    "\n",
    "), t12 AS(\n",
    "    SELECT DISTINCT *\n",
    "    FROM(\n",
    "        (SELECT * FROM t11) UNION ALL\n",
    "        (SELECT * FROM t10)\n",
    "    )\n",
    ")\n",
    "\n",
    "SELECT DISTINCT *\n",
    "FROM t12\n",
    "WHERE (appln_id IS NOT NULL) AND (appln_nr_orig IS NOT NULL)\n",
    "\"\"\".format(project_id)\n",
    "\n",
    "# Defining the query\n",
    "query_job = client.query(query, location='US', job_config=job_config)\n",
    "\n",
    "query_job.result()"
   ]
  },
  {
   "cell_type": "markdown",
   "metadata": {},
   "source": [
    "# 3. Investigation the quality of matching"
   ]
  },
  {
   "cell_type": "code",
   "execution_count": 28,
   "metadata": {},
   "outputs": [],
   "source": [
    "%%bigquery df_2\n",
    "SELECT\n",
    "    COUNT(CASE WHEN appln_id IS NULL THEN 1 END) AS nb_not_matched,\n",
    "    COUNT(CASE WHEN (appln_nr_orig IS NULL) AND (appln_id>900000000) THEN 1 END) AS nb_artificial_not_existed,\n",
    "    COUNT(CASE WHEN (appln_nr_orig IS NULL) AND (appln_id<=900000000) THEN 1 END) AS nb_docdb_not_existed,\n",
    "    COUNT(appln_nr) AS nb_total\n",
    "FROM `usptobias.data_preparation.1_matching_initial`\n",
    "LIMIT 10"
   ]
  },
  {
   "cell_type": "code",
   "execution_count": 7,
   "metadata": {},
   "outputs": [
    {
     "name": "stdout",
     "output_type": "stream",
     "text": [
      "There were 3,976,244 cases with an \"Application Number\" in GOOGLE PATENTS but no corresponding \"Application ID\" in PATSTAT.\n",
      "\n",
      "There were 1,884,651 cases with no corresponding \"Application Number\" in GOOGLE PATENTS but an artificial \"Application ID\" in PATSTAT.\n",
      "\n",
      "There were 2,017,903 cases with no corresponding \"Application Number\" in GOOGLE PATENTS but an DOCDB \"Application ID\" in PATSTAT.\n",
      "\n"
     ]
    }
   ],
   "source": [
    "print('There were {:,} cases with an \"Application Number\" in GOOGLE PATENTS but no corresponding \"Application ID\" in PATSTAT.\\n'\n",
    "      .format(df_2.loc[0, 'nb_not_matched']))\n",
    "print('There were {:,} cases with no corresponding \"Application Number\" in GOOGLE PATENTS but an artificial \"Application ID\" in PATSTAT.\\n'\n",
    "      .format(df_2.loc[0, 'nb_artificial_not_existed']))\n",
    "print('There were {:,} cases with no corresponding \"Application Number\" in GOOGLE PATENTS but an DOCDB \"Application ID\" in PATSTAT.\\n'\n",
    "      .format(df_2.loc[0, 'nb_docdb_not_existed']))"
   ]
  },
  {
   "cell_type": "code",
   "execution_count": 9,
   "metadata": {},
   "outputs": [
    {
     "data": {
      "image/png": "[encoded data removed]",
      "text/plain": [
       "<Figure size 432x720 with 1 Axes>"
      ]
     },
     "metadata": {
      "needs_background": "light"
     },
     "output_type": "display_data"
    }
   ],
   "source": [
    "## Plotting the percentage of unchanged\n",
    "fig, ax = plt.subplots(1, 1, figsize=(6,10))\n",
    "df_2['matched'] = df_2.iloc[:,3] - df_2.iloc[:,:3].sum(axis=1)\n",
    "df_plot = df_2.iloc[:,np.r_[0:3,4]]\n",
    "df_plot.index = ['Applications']\n",
    "df_plot.columns = ['No corresponding Application ID in PATSTAT', 'No match in Google Patent (Artificial ID)', \n",
    "                   'No match in Google Patent (DOCDB ID)', 'Correctly Matched']\n",
    "df_plot.plot(ax=ax, kind='bar', stacked=True, colormap='viridis')\n",
    "ax.bar\n",
    "#ax.set_xlabel('Sex', fontsize=18)\n",
    "ax.set_ylabel('Counts', fontsize=20)\n",
    "ax.set_title('Checking the Quality of Mapping', fontsize=20)\n",
    "ax.legend(#['First', 'Second', 'Third'], # you can send a list to change the legends\n",
    "          loc='center left', bbox_to_anchor=(1., 0.5)) # bbox_to_anchor is for putting legend outside the plot\n",
    "#ax.set_yscale('log')\n",
    "#ax.set_ylim(1e5,1e8)\n",
    "ax.yaxis.set_major_formatter(ticker.StrMethodFormatter('{x:,.0f}'))\n",
    "ax.set_xticklabels(ax.get_xticklabels(), fontdict={'fontsize':20}, rotation = 'horizontal')\n",
    "\n",
    "\n",
    "plt.show()"
   ]
  }
 ],
 "metadata": {
  "kernelspec": {
   "display_name": "Python 3",
   "language": "python",
   "name": "python3"
  },
  "language_info": {
   "codemirror_mode": {
    "name": "ipython",
    "version": 3
   },
   "file_extension": ".py",
   "mimetype": "text/x-python",
   "name": "python",
   "nbconvert_exporter": "python",
   "pygments_lexer": "ipython3",
   "version": "3.7.1"
  }
 },
 "nbformat": 4,
 "nbformat_minor": 2
}
