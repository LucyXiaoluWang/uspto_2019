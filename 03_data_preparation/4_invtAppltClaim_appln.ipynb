{
 "cells": [
  {
   "cell_type": "code",
   "execution_count": 2,
   "metadata": {},
   "outputs": [],
   "source": [
    "import pandas as pd\n",
    "import numpy as np\n",
    "from google.cloud import bigquery"
   ]
  },
  {
   "cell_type": "markdown",
   "metadata": {},
   "source": [
    "### Creating a table for \"Number of inventors, applicants, and claims per application\""
   ]
  },
  {
   "cell_type": "code",
   "execution_count": 3,
   "metadata": {},
   "outputs": [
    {
     "data": {
      "text/plain": [
       "<google.cloud.bigquery.table.RowIterator at 0x25c916af828>"
      ]
     },
     "execution_count": 3,
     "metadata": {},
     "output_type": "execute_result"
    }
   ],
   "source": [
    "client = bigquery.Client()\n",
    "# Creating Job Config\n",
    "job_config = bigquery.QueryJobConfig()\n",
    "#job_config.dry_run = True\n",
    "job_config.use_query_cache = False\n",
    "# Set configuration.query.writeDisposition\n",
    "job_config.write_disposition = 'WRITE_TRUNCATE'\n",
    "\n",
    "# Set the destination table\n",
    "project_id = 'usptobias'\n",
    "dataset_id = 'data_preparation'\n",
    "table_id = '4_invtAppltClaim_appln'\n",
    "\n",
    "table_ref = client.dataset(dataset_id).table(table_id)\n",
    "job_config.destination = table_ref\n",
    "\n",
    "query= \"\"\"\n",
    "WITH t1 AS(\n",
    "    SELECT pat_publn_id, publn_auth, publn_kind, appln_id, publn_date, publn_claims, publn_first_grant\n",
    "    FROM `{0}.patstat.tls211`\n",
    "), publn_invt_applt AS(\n",
    "    SELECT \n",
    "        pat_publn_id,\n",
    "        COUNT(DISTINCT CASE WHEN applt_seq_nr>0 THEN person_id END) AS nb_applt,\n",
    "        COUNT(DISTINCT CASE WHEN invt_seq_nr>0 THEN person_id END) AS nb_invt\n",
    "    FROM `{0}.patstat.tls227`\n",
    "    GROUP BY pat_publn_id\n",
    "), t2 AS(\n",
    "    SELECT *\n",
    "    FROM t1\n",
    "    INNER JOIN publn_invt_applt USING(pat_publn_id)\n",
    ")\n",
    "\n",
    "SELECT \n",
    "    appln_id,\n",
    "    ANY_VALUE(publn_auth) AS publn_auth, \n",
    "    ANY_VALUE(publn_kind) AS publn_kind,\n",
    "    MAX(CASE WHEN rank=1 THEN nb_applt END) AS nb_applt,\n",
    "    MAX(CASE WHEN rank=1 THEN nb_invt END) AS nb_invt,\n",
    "    IFNULL(MAX(CASE WHEN rank=1 THEN publn_claims END), 0) AS publn_claims_earliest,\n",
    "    IFNULL(MAX(CASE WHEN publn_first_grant='Y' THEN publn_claims END), 0) AS publn_claims_grant,\n",
    "    ANY_VALUE(CASE WHEN rank=1 THEN publn_date END) AS publn_date_earliest,\n",
    "    ANY_VALUE(CASE WHEN publn_first_grant='Y' THEN publn_date END) AS publn_date_grant\n",
    "FROM(\n",
    "    SELECT *, \n",
    "    ROW_NUMBER() OVER(PARTITION BY appln_id ORDER BY publn_date ASC) AS rank\n",
    "    FROM t2\n",
    ")\n",
    "GROUP BY appln_id\n",
    "\"\"\".format(project_id)\n",
    "\n",
    "# Defining the query\n",
    "query_job = client.query(query, location='US', job_config=job_config)\n",
    "\n",
    "query_job.result()"
   ]
  }
 ],
 "metadata": {
  "kernelspec": {
   "display_name": "Python 3",
   "language": "python",
   "name": "python3"
  },
  "language_info": {
   "codemirror_mode": {
    "name": "ipython",
    "version": 3
   },
   "file_extension": ".py",
   "mimetype": "text/x-python",
   "name": "python",
   "nbconvert_exporter": "python",
   "pygments_lexer": "ipython3",
   "version": "3.7.1"
  }
 },
 "nbformat": 4,
 "nbformat_minor": 2
}
