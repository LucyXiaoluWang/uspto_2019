{
 "cells": [
  {
   "cell_type": "code",
   "execution_count": 2,
   "metadata": {},
   "outputs": [],
   "source": [
    "from google.cloud import bigquery\n",
    "from schema import Schema"
   ]
  },
  {
   "cell_type": "markdown",
   "metadata": {},
   "source": [
    "## Initializing the Client and Job Config"
   ]
  },
  {
   "cell_type": "code",
   "execution_count": 3,
   "metadata": {},
   "outputs": [],
   "source": [
    "# Before running this line, make sure that you have defined the environment variable...\n",
    "# ...\"GOOGLE_APPLICATION_CREDENTIALS\" which points to the JSON file containing authentication key\n",
    "client = bigquery.Client()"
   ]
  },
  {
   "cell_type": "code",
   "execution_count": 3,
   "metadata": {},
   "outputs": [],
   "source": [
    "# Initializing the Job_config\n",
    "job_config = bigquery.LoadJobConfig()\n",
    "job_config.skip_leading_rows = 1\n",
    "job_config.max_bad_records = 10\n",
    "job_config.source_format = bigquery.SourceFormat.CSV\n",
    "dataset_ref = client.dataset('patstat')"
   ]
  },
  {
   "cell_type": "markdown",
   "metadata": {},
   "source": [
    "## Creating Tables"
   ]
  },
  {
   "cell_type": "code",
   "execution_count": 6,
   "metadata": {},
   "outputs": [
    {
     "name": "stdout",
     "output_type": "stream",
     "text": [
      "Step 0 has started! tls204 is creating...\n"
     ]
    }
   ],
   "source": [
    "# List of Tables to be loaded\n",
    "[\n",
    "    'tls201', # TLS201_APPL\n",
    "    'tls202', # TLS202_APPLN_TITLE\n",
    "    'tls203', # TLS203_APPLN_ABSTR\n",
    "    'tls204', # TLS204_APPLN_PRIOR\n",
    "    'tls205', # TLS205_TECH_REL\n",
    "    'tls206', # TLS206_PERSON\n",
    "    'tls207', # TLS207_PERS_APPLN\n",
    "    'tls209', # TLS209_APPLN_IPC\n",
    "    'tls210', # TLS210_APPLN_N_CLS\n",
    "    'tls211', # TLS211_PAT_PUBLN\n",
    "    'tls212', # TLS212_CITATION\n",
    "    'tls214', # TLS214_NPL_PUBLN\n",
    "    'tls215', # TLS215_CITN_CATEG\n",
    "    'tls216', # TLS216_APPLN_CONTN\n",
    "    'tls222', # TLS222_APPLN_JP_CLASS\n",
    "    'tls223', # TLS223_APPLN_DOCUS\n",
    "    'tls224', # TLS224_APPLN_CPC\n",
    "    'tls226', # TLS226_PERSON_ORIG\n",
    "    'tls227', # TLS227_PERS_PUBLN\n",
    "    'tls229', # TLS229_APPLN_NACE2\n",
    "    'tls230', # TLS230_APPLN_TECHN_FIELD\n",
    "    'tls231', # TLS231_INPADOC_LEGAL_EVENT\n",
    "    'tls801', # TLS801_COUNTRY\n",
    "    'tls803', # TLS803_LEGAL_EVENT_CODE\n",
    "    'tls901', # TLS901_TECHN_FIELD_IPC\n",
    "    'tls902', # TLS902_IPC_NACE2\n",
    "    'tls904', # TLS904_NUTS\n",
    "    'tls906'  # TLS906_PERSON\n",
    "]\n",
    "\n",
    "# Google Bucket directory address, which contains all data files\n",
    "#gs_add = 'gs://patstat_2018g/new/'\n",
    "gs_add = 'gs://patstat_2018g/'\n",
    "\n",
    "dataset_id = 'PATSTAT'\n",
    "dataset_ref = client.dataset(dataset_id=dataset_id)\n",
    "\n",
    "# Loading the tables in the list\n",
    "for i, table_id in enumerate(tables_list):\n",
    "    # Creating the table\n",
    "    print('Step {} has started! {} is creating...'.format(i, table_id))\n",
    "    table_ref = dataset_ref.table(table_id)\n",
    "    if table_id in [t.table_id for t in list(client.list_tables(dataset_ref))]:\n",
    "        client.delete_table(table_ref)\n",
    "\n",
    "    client.create_table(bigquery.Table(table_ref, schema=getattr(Schema(),table_id)))\n",
    "\n",
    "    # Adding files to the table from GCP bucket\n",
    "    table_ref = dataset_ref.table(table_id)\n",
    "    job_config.schema = getattr(Schema(),table_id)\n",
    "    \n",
    "    load_job = client.load_table_from_uri(\n",
    "        source_uris=gs_add+table_id+'_*.gz',\n",
    "        destination=table_ref,\n",
    "        # job_id=job_id,\n",
    "        job_id_prefix='lgs-',\n",
    "        job_config=job_config,\n",
    "    )\n",
    "    load_job.result()"
   ]
  },
  {
   "cell_type": "code",
   "execution_count": null,
   "metadata": {},
   "outputs": [],
   "source": [
    "load_job.errors"
   ]
  }
 ],
 "metadata": {
  "kernelspec": {
   "display_name": "Python 3",
   "language": "python",
   "name": "python3"
  },
  "language_info": {
   "codemirror_mode": {
    "name": "ipython",
    "version": 3
   },
   "file_extension": ".py",
   "mimetype": "text/x-python",
   "name": "python",
   "nbconvert_exporter": "python",
   "pygments_lexer": "ipython3",
   "version": "3.7.1"
  }
 },
 "nbformat": 4,
 "nbformat_minor": 2
}
