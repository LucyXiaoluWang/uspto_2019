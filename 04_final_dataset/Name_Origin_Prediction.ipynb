{
 "cells": [
  {
   "cell_type": "code",
   "execution_count": 1,
   "metadata": {},
   "outputs": [],
   "source": [
    "import openapi_client\n",
    "import pandas as pd\n",
    "import numpy as np\n",
    "import time\n",
    "from tqdm import tqdm\n",
    "import os\n",
    "import re\n",
    "import zipfile\n",
    "\n",
    "from google.cloud import bigquery"
   ]
  },
  {
   "cell_type": "code",
   "execution_count": 2,
   "metadata": {},
   "outputs": [],
   "source": [
    "# Configure API key authorization: api_key\n",
    "# More Info: https://api.namsor.com/namsor/faces/viewapikey.xhtml\n",
    "configuration = openapi_client.Configuration()\n",
    "configuration.api_key['X-API-KEY'] = 'YOUR_API_KEY' # Replace with your API KEY. \n",
    "\n",
    "# create an instance of the API class\n",
    "api_instance = openapi_client.PersonalApi(openapi_client.ApiClient(configuration))"
   ]
  },
  {
   "cell_type": "markdown",
   "metadata": {},
   "source": [
    "# Prediction of Country of Origin\n",
    "\n",
    "In this notebook we will predict the country of origin for the names using the NamSor API. For this purpose we will use two different methods available in the NamSor API: `Diaspora` and `Origin`.\n",
    "\n",
    "The first method (`Diaspora`) is more accurate and requires three different inputs for the prediction: **First Name**, **Last Name**, and **Country of Residence**. However, since we don't have access to the **Country of residence** for all of our names, in order to have the country of origins' precidtion for all the names, we use the second method (`Origin`), which requires only two inputs (**First Name**, **Last Name**)."
   ]
  },
  {
   "cell_type": "markdown",
   "metadata": {},
   "source": [
    "# 1. Predicting the Country of Origin (Using `Origin` method)"
   ]
  },
  {
   "cell_type": "markdown",
   "metadata": {},
   "source": [
    "## 1.1. Loading raw (first name, last name) pairs\n",
    "\n",
    "**Note:** For running this section you need to first download the `gs://uspto-data/final_dataset/raw_name_pairs.csv` file and add it under the following directory: `./data_namsor/`"
   ]
  },
  {
   "cell_type": "code",
   "execution_count": 20,
   "metadata": {},
   "outputs": [
    {
     "name": "stdout",
     "output_type": "stream",
     "text": [
      "Number of rows: 3,229,517\n"
     ]
    },
    {
     "data": {
      "text/html": [
       "<div>\n",
       "<style scoped>\n",
       "    .dataframe tbody tr th:only-of-type {\n",
       "        vertical-align: middle;\n",
       "    }\n",
       "\n",
       "    .dataframe tbody tr th {\n",
       "        vertical-align: top;\n",
       "    }\n",
       "\n",
       "    .dataframe thead th {\n",
       "        text-align: right;\n",
       "    }\n",
       "</style>\n",
       "<table border=\"1\" class=\"dataframe\">\n",
       "  <thead>\n",
       "    <tr style=\"text-align: right;\">\n",
       "      <th></th>\n",
       "      <th>name_first</th>\n",
       "      <th>name_last</th>\n",
       "    </tr>\n",
       "  </thead>\n",
       "  <tbody>\n",
       "    <tr>\n",
       "      <th>0</th>\n",
       "      <td>TADAMICHI</td>\n",
       "      <td>HATTORI</td>\n",
       "    </tr>\n",
       "    <tr>\n",
       "      <th>1</th>\n",
       "      <td>VLADIMIR</td>\n",
       "      <td>POUTCHKOV</td>\n",
       "    </tr>\n",
       "    <tr>\n",
       "      <th>2</th>\n",
       "      <td>CORINA</td>\n",
       "      <td>KLOSS</td>\n",
       "    </tr>\n",
       "    <tr>\n",
       "      <th>3</th>\n",
       "      <td>SHAHBAZ</td>\n",
       "      <td>ABBAS</td>\n",
       "    </tr>\n",
       "    <tr>\n",
       "      <th>4</th>\n",
       "      <td>YUDI</td>\n",
       "      <td>GAO</td>\n",
       "    </tr>\n",
       "  </tbody>\n",
       "</table>\n",
       "</div>"
      ],
      "text/plain": [
       "  name_first  name_last\n",
       "0  TADAMICHI    HATTORI\n",
       "1   VLADIMIR  POUTCHKOV\n",
       "2     CORINA      KLOSS\n",
       "3    SHAHBAZ      ABBAS\n",
       "4       YUDI        GAO"
      ]
     },
     "execution_count": 20,
     "metadata": {},
     "output_type": "execute_result"
    }
   ],
   "source": [
    "# Loading the names\n",
    "df_names = pd.read_csv('./data_namsor/raw_name_pairs.csv', low_memory=False)\n",
    "print('Number of rows: {:,}'.format(df_names.shape[0]))\n",
    "df_names.head()"
   ]
  },
  {
   "cell_type": "code",
   "execution_count": 21,
   "metadata": {},
   "outputs": [],
   "source": [
    "### Preprocessing the names\n",
    "# Handling NaN values\n",
    "df_names.name_first[df_names.name_first.isna()] = ''\n",
    "df_names.name_last[df_names.name_last.isna()] = ''\n",
    "# Replacing special characters\n",
    "df_names.name_first = df_names.name_first.str.replace(r'[\\*\\@\\#\\!\\%\\^\\&\\(\\)\\$\\.\\,]+', '', regex=True)\n",
    "df_names.name_last = df_names.name_last.str.replace(r'[\\*\\@\\#\\!\\%\\^\\&\\(\\)\\$\\.\\,]+', '', regex=True)"
   ]
  },
  {
   "cell_type": "markdown",
   "metadata": {},
   "source": [
    "## 1.2. Requesting the NamSor API for the prediction"
   ]
  },
  {
   "cell_type": "code",
   "execution_count": 80,
   "metadata": {},
   "outputs": [],
   "source": [
    "### Resuming from the last processed name\n",
    "N = df_names.shape[0]\n",
    "# Finding the lastest available index, for continuing the request\n",
    "files_list = [root+'/'+file for root, directory, files in os.walk('./data_namsor') for file in files if re.search(r'^(names\\_origin\\_check\\_\\d+)\\.csv$', file)]\n",
    "idx_start = -1\n",
    "for file in files_list:\n",
    "    idx_start = max(idx_start, pd.read_csv(file, usecols=['index'])['index'].max())\n",
    "idx_start += 1\n",
    "# batch size anf number of request to be saved in each step\n",
    "batch_size = 1000\n",
    "check_point_steps = 50000\n",
    "error_log = []\n",
    "# create an instance of the API class\n",
    "api_instance = openapi_client.PersonalApi(openapi_client.ApiClient(configuration))\n",
    "df_origin = pd.DataFrame(columns=['index','first_name', 'last_name', 'country_origin', 'country_origin_alt', \n",
    "                                  'score', 'sub_region_origin', 'top_region_origin'])"
   ]
  },
  {
   "cell_type": "code",
   "execution_count": null,
   "metadata": {},
   "outputs": [],
   "source": [
    "# Requesting from NamSor API for the `Origin` prediction\n",
    "start_time = time.perf_counter()\n",
    "pbar = tqdm(total=(N-idx_start))\n",
    "\n",
    "for i in range(idx_start, N, batch_size):\n",
    "    names_list = [dict(firstName=x, lastName=y) for k, (x, y) in df_names.iloc[i:i+batch_size, :].iterrows()]\n",
    "    batch_first_last_name_in = openapi_client.BatchFirstLastNameIn(names_list)\n",
    "    try:\n",
    "        api_response = api_instance.origin_batch(batch_first_last_name_in=batch_first_last_name_in)\n",
    "        for j, dic in enumerate(api_response.personal_names):\n",
    "            data = pd.DataFrame(dict(index=i+j,first_name=[dic.first_name], last_name=[dic.last_name], \n",
    "                                     country_origin=[dic.country_origin], country_origin_alt=[dic.country_origin_alt], \n",
    "                                     score=[dic.score], sub_region_origin=[dic.sub_region_origin], \n",
    "                                     top_region_origin=[dic.top_region_origin]))\n",
    "            df_origin = df_origin.append(data, ignore_index=True)\n",
    "            pbar.update(1)\n",
    "    except:\n",
    "        error_log.append(dict(range_idx=(i,i+batch_size), names_list=names_list, df_portion=df_names.iloc[i:i+batch_size,:]))\n",
    "        data = pd.DataFrame(dict(index=[idx for idx in range(i, i+batch_size)], \n",
    "                                 first_name=[np.nan for idx in range(i,i+batch_size)], \n",
    "                                 last_name=[np.nan for idx in range(i,i+batch_size)], \n",
    "                                 country_origin=[np.nan for idx in range(i,i+batch_size)], \n",
    "                                 country_origin_alt=[np.nan for idx in range(i,i+batch_size)], \n",
    "                                 score=[np.nan for idx in range(i,i+batch_size)], \n",
    "                                 sub_region_origin=[np.nan for idx in range(i,i+batch_size)], \n",
    "                                 top_region_origin=[np.nan for idx in range(i,i+batch_size)]))\n",
    "        df_origin = df_origin.append(data, ignore_index=True)\n",
    "        pbar.update(batch_size)\n",
    "        \n",
    "    if (i+batch_size)%check_point_steps==0:\n",
    "        df_origin.to_csv('./data_namsor/names_origin_check_{}.csv'.format(i//check_point_steps), encoding='UTF-8',index=False)\n",
    "        df_origin = pd.DataFrame(columns=['index','first_name', 'last_name', 'country_origin', \n",
    "                                          'country_origin_alt', 'score', 'sub_region_origin', 'top_region_origin'])\n",
    "df_origin.to_csv('./data_namsor/names_origin_check_{}.csv'.format(i//check_point_steps+1), encoding='UTF-8',index=False)\n",
    "pbar.close()\n",
    "stop_time = time.perf_counter()\n",
    "print('\\nTotal processing time was {:,} hours and {:,} mintues!'.format((stop_time-start_time)//3600 + 32, \n",
    "                                                                        ((stop-start_time)//60)%60))\n",
    "print('Total number of errors: {:,}'.format(len(error_log)))"
   ]
  },
  {
   "cell_type": "markdown",
   "metadata": {},
   "source": [
    "## 1.3. Iterating Over the Failed Requests"
   ]
  },
  {
   "cell_type": "code",
   "execution_count": 165,
   "metadata": {},
   "outputs": [
    {
     "name": "stdout",
     "output_type": "stream",
     "text": [
      "Total number of rows: 3,229,517\n"
     ]
    },
    {
     "data": {
      "text/html": [
       "<div>\n",
       "<style scoped>\n",
       "    .dataframe tbody tr th:only-of-type {\n",
       "        vertical-align: middle;\n",
       "    }\n",
       "\n",
       "    .dataframe tbody tr th {\n",
       "        vertical-align: top;\n",
       "    }\n",
       "\n",
       "    .dataframe thead th {\n",
       "        text-align: right;\n",
       "    }\n",
       "</style>\n",
       "<table border=\"1\" class=\"dataframe\">\n",
       "  <thead>\n",
       "    <tr style=\"text-align: right;\">\n",
       "      <th></th>\n",
       "      <th>index</th>\n",
       "      <th>first_name</th>\n",
       "      <th>last_name</th>\n",
       "      <th>country_origin</th>\n",
       "      <th>country_origin_alt</th>\n",
       "      <th>score</th>\n",
       "      <th>sub_region_origin</th>\n",
       "      <th>top_region_origin</th>\n",
       "    </tr>\n",
       "  </thead>\n",
       "  <tbody>\n",
       "    <tr>\n",
       "      <th>0</th>\n",
       "      <td>0</td>\n",
       "      <td>TADAMICHI</td>\n",
       "      <td>HATTORI</td>\n",
       "      <td>JP</td>\n",
       "      <td>NE</td>\n",
       "      <td>12.904708</td>\n",
       "      <td>Eastern Asia</td>\n",
       "      <td>Asia</td>\n",
       "    </tr>\n",
       "    <tr>\n",
       "      <th>1</th>\n",
       "      <td>1</td>\n",
       "      <td>VLADIMIR</td>\n",
       "      <td>POUTCHKOV</td>\n",
       "      <td>RU</td>\n",
       "      <td>UA</td>\n",
       "      <td>3.506230</td>\n",
       "      <td>Eastern Europe</td>\n",
       "      <td>Europe</td>\n",
       "    </tr>\n",
       "    <tr>\n",
       "      <th>2</th>\n",
       "      <td>2</td>\n",
       "      <td>CORINA</td>\n",
       "      <td>KLOSS</td>\n",
       "      <td>CH</td>\n",
       "      <td>DE</td>\n",
       "      <td>0.739209</td>\n",
       "      <td>Western Europe</td>\n",
       "      <td>Europe</td>\n",
       "    </tr>\n",
       "    <tr>\n",
       "      <th>3</th>\n",
       "      <td>3</td>\n",
       "      <td>SHAHBAZ</td>\n",
       "      <td>ABBAS</td>\n",
       "      <td>PK</td>\n",
       "      <td>IR</td>\n",
       "      <td>8.670143</td>\n",
       "      <td>Southern Asia</td>\n",
       "      <td>Asia</td>\n",
       "    </tr>\n",
       "    <tr>\n",
       "      <th>4</th>\n",
       "      <td>4</td>\n",
       "      <td>YUDI</td>\n",
       "      <td>GAO</td>\n",
       "      <td>CN</td>\n",
       "      <td>ID</td>\n",
       "      <td>2.130741</td>\n",
       "      <td>Eastern Asia</td>\n",
       "      <td>Asia</td>\n",
       "    </tr>\n",
       "  </tbody>\n",
       "</table>\n",
       "</div>"
      ],
      "text/plain": [
       "  index first_name  last_name country_origin country_origin_alt      score  \\\n",
       "0     0  TADAMICHI    HATTORI             JP                 NE  12.904708   \n",
       "1     1   VLADIMIR  POUTCHKOV             RU                 UA   3.506230   \n",
       "2     2     CORINA      KLOSS             CH                 DE   0.739209   \n",
       "3     3    SHAHBAZ      ABBAS             PK                 IR   8.670143   \n",
       "4     4       YUDI        GAO             CN                 ID   2.130741   \n",
       "\n",
       "  sub_region_origin top_region_origin  \n",
       "0      Eastern Asia              Asia  \n",
       "1    Eastern Europe            Europe  \n",
       "2    Western Europe            Europe  \n",
       "3     Southern Asia              Asia  \n",
       "4      Eastern Asia              Asia  "
      ]
     },
     "execution_count": 165,
     "metadata": {},
     "output_type": "execute_result"
    }
   ],
   "source": [
    "### Concatenating the results into one dataframe\n",
    "files_list = sorted([root+'/'+file for root, directory, files in os.walk('./data_namsor') \n",
    "                     for file in files if re.search(r'^(names\\_origin\\_check\\_\\d+)\\.csv$', file)])\n",
    "pbar = tqdm(total=len(files_list))\n",
    "# Concatenating all files into one dataframe\n",
    "df_origin_f = pd.DataFrame(columns=['index','first_name', 'last_name', 'country_origin', 'country_origin_alt',\n",
    "                                    'score', 'sub_region_origin', 'top_region_origin'])\n",
    "for file in files_list:\n",
    "    df_ = pd.read_csv(file, low_memory=False)\n",
    "    df_origin_f = pd.concat([df_origin_f, df_], axis=0, ignore_index=True)\n",
    "    pbar.update(1)\n",
    "pbar.close()\n",
    "\n",
    "df_origin_f = df_origin_f.sort_values(by=['index']).reset_index(drop=True)\n",
    "# Verifying the results\n",
    "print('Total number of rows: {:,}'.format(df_origin_f.shape[0]))\n",
    "df_origin_f.head()"
   ]
  },
  {
   "cell_type": "code",
   "execution_count": 36,
   "metadata": {},
   "outputs": [
    {
     "data": {
      "text/html": [
       "<div>\n",
       "<style scoped>\n",
       "    .dataframe tbody tr th:only-of-type {\n",
       "        vertical-align: middle;\n",
       "    }\n",
       "\n",
       "    .dataframe tbody tr th {\n",
       "        vertical-align: top;\n",
       "    }\n",
       "\n",
       "    .dataframe thead th {\n",
       "        text-align: right;\n",
       "    }\n",
       "</style>\n",
       "<table border=\"1\" class=\"dataframe\">\n",
       "  <thead>\n",
       "    <tr style=\"text-align: right;\">\n",
       "      <th></th>\n",
       "      <th>name_first_o</th>\n",
       "      <th>name_last_o</th>\n",
       "    </tr>\n",
       "  </thead>\n",
       "  <tbody>\n",
       "    <tr>\n",
       "      <th>133000</th>\n",
       "      <td>TIM</td>\n",
       "      <td>AYERS</td>\n",
       "    </tr>\n",
       "    <tr>\n",
       "      <th>133001</th>\n",
       "      <td>MASAYUKI</td>\n",
       "      <td>ICHIMONJI</td>\n",
       "    </tr>\n",
       "    <tr>\n",
       "      <th>133002</th>\n",
       "      <td>PRZEMYSLAW</td>\n",
       "      <td>RUPNOWSKI</td>\n",
       "    </tr>\n",
       "    <tr>\n",
       "      <th>133003</th>\n",
       "      <td>WATLER</td>\n",
       "      <td>THEODORE</td>\n",
       "    </tr>\n",
       "    <tr>\n",
       "      <th>133004</th>\n",
       "      <td>BENJAMIN</td>\n",
       "      <td>WELANDER</td>\n",
       "    </tr>\n",
       "  </tbody>\n",
       "</table>\n",
       "</div>"
      ],
      "text/plain": [
       "       name_first_o name_last_o\n",
       "133000          TIM       AYERS\n",
       "133001     MASAYUKI   ICHIMONJI\n",
       "133002   PRZEMYSLAW   RUPNOWSKI\n",
       "133003       WATLER    THEODORE\n",
       "133004     BENJAMIN    WELANDER"
      ]
     },
     "execution_count": 36,
     "metadata": {},
     "output_type": "execute_result"
    }
   ],
   "source": [
    "### Finding the failed requests\n",
    "df_names[df_names.index.isin(df_origin_f[df_origin_f.drop('index',axis=1).isna().all(axis=1)]['index'])]\\\n",
    "                .rename({'name_first':'name_first_o', 'name_last':'name_last_o'}, axis=1).head()"
   ]
  },
  {
   "cell_type": "code",
   "execution_count": 148,
   "metadata": {},
   "outputs": [
    {
     "name": "stderr",
     "output_type": "stream",
     "text": [
      "100%|█████████▉| 657980/658000 [4:21:20<00:00, 41.96it/s]\n"
     ]
    }
   ],
   "source": [
    "### Predicting the failed requests\n",
    "files_list = sorted([root+'/'+file for root, directory, files in os.walk('./data_namsor') for file in files \n",
    "                     if re.search(r'^(names\\_origin\\_check\\_\\d+)\\.csv$', file)])\n",
    "batch_size = 10\n",
    "error_log = []\n",
    "df_remained = df_names[df_names.index.isin(df_origin_f[df_origin_f.drop('index',axis=1).isna().all(axis=1)]['index'])]\\\n",
    "                .rename({'name_first':'name_first_o', 'name_last':'name_last_o'}, axis=1)\n",
    "pbar = tqdm(total=df_remained.shape[0])\n",
    "\n",
    "for file in files_list:\n",
    "    df_origin = pd.read_csv(file)\n",
    "    df_ = df_remained[df_remained.index.isin(df_origin['index'])]\n",
    "    columns = df_origin.columns\n",
    "    for i in range(0,df_.shape[0], batch_size):\n",
    "        names_list = [dict(firstName=x, lastName=y) for k, (x, y) in df_.iloc[i:i+batch_size].iterrows()]\n",
    "        idx = df_.iloc[i:i+batch_size].index\n",
    "        idx_orig = df_origin[df_origin['index'].isin(idx)].index\n",
    "        batch_first_last_name_in = openapi_client.BatchFirstLastNameIn(names_list)\n",
    "        try:\n",
    "            api_response = api_instance.origin_batch(batch_first_last_name_in=batch_first_last_name_in)\n",
    "            data = pd.DataFrame(columns=columns)\n",
    "            for j, dic in enumerate(api_response.personal_names):\n",
    "                data = pd.concat([data, \n",
    "                                  pd.DataFrame(dict(index=idx[j],first_name=[dic.first_name], last_name=[dic.last_name], \n",
    "                                                    country_origin=[dic.country_origin], \n",
    "                                                    country_origin_alt=[dic.country_origin_alt], \n",
    "                                                    score=[dic.score], sub_region_origin=[dic.sub_region_origin], \n",
    "                                                    top_region_origin=[dic.top_region_origin]))], axis=0, ignore_index=True)\n",
    "                pbar.update(1)\n",
    "            data = data.set_index(idx_orig)\n",
    "            df_origin.loc[df_origin['index'].isin(idx)] = data\n",
    "\n",
    "        except:\n",
    "            error_log.append(dict(range_idx=(i,i+batch_size), names_list=names_list, \n",
    "                                  df_portion=df_names.iloc[i:i+batch_size,:]))\n",
    "    # Save back the modified file\n",
    "    df_origin.to_csv(file, encoding='UTF-8',index=False)\n",
    "pbar.close()"
   ]
  },
  {
   "cell_type": "markdown",
   "metadata": {},
   "source": [
    "## 1.4. Creating the Dataframe containing the `Origin` predicted country of origins"
   ]
  },
  {
   "cell_type": "code",
   "execution_count": 29,
   "metadata": {},
   "outputs": [
    {
     "name": "stdout",
     "output_type": "stream",
     "text": [
      "Number of rows: 3,229,517\n"
     ]
    },
    {
     "data": {
      "text/html": [
       "<div>\n",
       "<style scoped>\n",
       "    .dataframe tbody tr th:only-of-type {\n",
       "        vertical-align: middle;\n",
       "    }\n",
       "\n",
       "    .dataframe tbody tr th {\n",
       "        vertical-align: top;\n",
       "    }\n",
       "\n",
       "    .dataframe thead th {\n",
       "        text-align: right;\n",
       "    }\n",
       "</style>\n",
       "<table border=\"1\" class=\"dataframe\">\n",
       "  <thead>\n",
       "    <tr style=\"text-align: right;\">\n",
       "      <th></th>\n",
       "      <th>name_first</th>\n",
       "      <th>name_last</th>\n",
       "    </tr>\n",
       "  </thead>\n",
       "  <tbody>\n",
       "    <tr>\n",
       "      <th>0</th>\n",
       "      <td>TADAMICHI</td>\n",
       "      <td>HATTORI</td>\n",
       "    </tr>\n",
       "    <tr>\n",
       "      <th>1</th>\n",
       "      <td>VLADIMIR</td>\n",
       "      <td>POUTCHKOV</td>\n",
       "    </tr>\n",
       "  </tbody>\n",
       "</table>\n",
       "</div>"
      ],
      "text/plain": [
       "  name_first  name_last\n",
       "0  TADAMICHI    HATTORI\n",
       "1   VLADIMIR  POUTCHKOV"
      ]
     },
     "execution_count": 29,
     "metadata": {},
     "output_type": "execute_result"
    }
   ],
   "source": [
    "df_names = pd.read_csv('./data_namsor/raw_name_pairs.csv', low_memory=False)\n",
    "print('Number of rows: {:,}'.format(df_names.shape[0]))\n",
    "df_names.head(2)"
   ]
  },
  {
   "cell_type": "code",
   "execution_count": 30,
   "metadata": {},
   "outputs": [
    {
     "name": "stderr",
     "output_type": "stream",
     "text": [
      "100%|██████████| 65/65 [01:15<00:00,  2.22s/it]\n"
     ]
    }
   ],
   "source": [
    "### Concatenating the final results into one dataframe\n",
    "files_list = sorted([root+'/'+file for root, directory, files in os.walk('./data_namsor') for file in files \n",
    "                     if re.search(r'^(names\\_origin\\_check\\_\\d+)\\.csv$', file)])\n",
    "pbar = tqdm(total=len(files_list))\n",
    "# Concatenating all files into one dataframe\n",
    "df_origin_f = pd.DataFrame(columns=['index','first_name', 'last_name', 'country_origin', 'country_origin_alt',\n",
    "                                    'score', 'sub_region_origin', 'top_region_origin'])\n",
    "for file in files_list:\n",
    "    df_ = pd.read_csv(file, low_memory=False)\n",
    "    df_origin_f = pd.concat([df_origin_f, df_], axis=0, ignore_index=True)\n",
    "    pbar.update(1)\n",
    "pbar.close()"
   ]
  },
  {
   "cell_type": "code",
   "execution_count": 31,
   "metadata": {},
   "outputs": [
    {
     "data": {
      "text/html": [
       "<div>\n",
       "<style scoped>\n",
       "    .dataframe tbody tr th:only-of-type {\n",
       "        vertical-align: middle;\n",
       "    }\n",
       "\n",
       "    .dataframe tbody tr th {\n",
       "        vertical-align: top;\n",
       "    }\n",
       "\n",
       "    .dataframe thead th {\n",
       "        text-align: right;\n",
       "    }\n",
       "</style>\n",
       "<table border=\"1\" class=\"dataframe\">\n",
       "  <thead>\n",
       "    <tr style=\"text-align: right;\">\n",
       "      <th></th>\n",
       "      <th>index</th>\n",
       "      <th>name_first_har</th>\n",
       "      <th>name_last_har</th>\n",
       "      <th>country_origin</th>\n",
       "      <th>country_origin_alt</th>\n",
       "      <th>score</th>\n",
       "      <th>sub_region_origin</th>\n",
       "      <th>top_region_origin</th>\n",
       "    </tr>\n",
       "  </thead>\n",
       "  <tbody>\n",
       "    <tr>\n",
       "      <th>0</th>\n",
       "      <td>0</td>\n",
       "      <td>TADAMICHI</td>\n",
       "      <td>HATTORI</td>\n",
       "      <td>JP</td>\n",
       "      <td>NE</td>\n",
       "      <td>12.904708</td>\n",
       "      <td>Eastern Asia</td>\n",
       "      <td>Asia</td>\n",
       "    </tr>\n",
       "    <tr>\n",
       "      <th>1</th>\n",
       "      <td>1</td>\n",
       "      <td>VLADIMIR</td>\n",
       "      <td>POUTCHKOV</td>\n",
       "      <td>RU</td>\n",
       "      <td>UA</td>\n",
       "      <td>3.506230</td>\n",
       "      <td>Eastern Europe</td>\n",
       "      <td>Europe</td>\n",
       "    </tr>\n",
       "  </tbody>\n",
       "</table>\n",
       "</div>"
      ],
      "text/plain": [
       "  index name_first_har name_last_har country_origin country_origin_alt  \\\n",
       "0     0      TADAMICHI       HATTORI             JP                 NE   \n",
       "1     1       VLADIMIR     POUTCHKOV             RU                 UA   \n",
       "\n",
       "       score sub_region_origin top_region_origin  \n",
       "0  12.904708      Eastern Asia              Asia  \n",
       "1   3.506230    Eastern Europe            Europe  "
      ]
     },
     "execution_count": 31,
     "metadata": {},
     "output_type": "execute_result"
    }
   ],
   "source": [
    "df_origin_f = df_origin_f.rename(columns={'first_name':'name_first_har', 'last_name':'name_last_har'})\n",
    "df_origin_f.head(2)"
   ]
  },
  {
   "cell_type": "code",
   "execution_count": 32,
   "metadata": {},
   "outputs": [
    {
     "data": {
      "text/html": [
       "<div>\n",
       "<style scoped>\n",
       "    .dataframe tbody tr th:only-of-type {\n",
       "        vertical-align: middle;\n",
       "    }\n",
       "\n",
       "    .dataframe tbody tr th {\n",
       "        vertical-align: top;\n",
       "    }\n",
       "\n",
       "    .dataframe thead th {\n",
       "        text-align: right;\n",
       "    }\n",
       "</style>\n",
       "<table border=\"1\" class=\"dataframe\">\n",
       "  <thead>\n",
       "    <tr style=\"text-align: right;\">\n",
       "      <th></th>\n",
       "      <th>index</th>\n",
       "      <th>name_first</th>\n",
       "      <th>name_last</th>\n",
       "      <th>name_first_har</th>\n",
       "      <th>name_last_har</th>\n",
       "      <th>country_origin</th>\n",
       "      <th>country_origin_alt</th>\n",
       "      <th>score</th>\n",
       "      <th>sub_region_origin</th>\n",
       "      <th>top_region_origin</th>\n",
       "    </tr>\n",
       "  </thead>\n",
       "  <tbody>\n",
       "    <tr>\n",
       "      <th>0</th>\n",
       "      <td>0</td>\n",
       "      <td>TADAMICHI</td>\n",
       "      <td>HATTORI</td>\n",
       "      <td>TADAMICHI</td>\n",
       "      <td>HATTORI</td>\n",
       "      <td>JP</td>\n",
       "      <td>NE</td>\n",
       "      <td>12.904708</td>\n",
       "      <td>Eastern Asia</td>\n",
       "      <td>Asia</td>\n",
       "    </tr>\n",
       "    <tr>\n",
       "      <th>1</th>\n",
       "      <td>1</td>\n",
       "      <td>VLADIMIR</td>\n",
       "      <td>POUTCHKOV</td>\n",
       "      <td>VLADIMIR</td>\n",
       "      <td>POUTCHKOV</td>\n",
       "      <td>RU</td>\n",
       "      <td>UA</td>\n",
       "      <td>3.506230</td>\n",
       "      <td>Eastern Europe</td>\n",
       "      <td>Europe</td>\n",
       "    </tr>\n",
       "  </tbody>\n",
       "</table>\n",
       "</div>"
      ],
      "text/plain": [
       "  index name_first  name_last name_first_har name_last_har country_origin  \\\n",
       "0     0  TADAMICHI    HATTORI      TADAMICHI       HATTORI             JP   \n",
       "1     1   VLADIMIR  POUTCHKOV       VLADIMIR     POUTCHKOV             RU   \n",
       "\n",
       "  country_origin_alt      score sub_region_origin top_region_origin  \n",
       "0                 NE  12.904708      Eastern Asia              Asia  \n",
       "1                 UA   3.506230    Eastern Europe            Europe  "
      ]
     },
     "execution_count": 32,
     "metadata": {},
     "output_type": "execute_result"
    }
   ],
   "source": [
    "df_origin_f = df_origin_f.sort_values(by=['index']).reset_index(drop=True)\n",
    "\n",
    "df_origin_f = pd.concat([df_names, df_origin_f], axis=1)\n",
    "columns = df_origin_f.columns\n",
    "df_origin_f = df_origin_f[columns[np.r_[2:3,0:2,3:10]]]\n",
    "df_origin_f.head(2)"
   ]
  },
  {
   "cell_type": "code",
   "execution_count": 35,
   "metadata": {},
   "outputs": [],
   "source": [
    "df_origin_f.to_csv('./data_namsor/origin_processed.csv', encoding='utf-8', index=False)"
   ]
  },
  {
   "cell_type": "markdown",
   "metadata": {},
   "source": [
    "# 2. Predicting the Country of Origin (Using `Diaspora` method)"
   ]
  },
  {
   "cell_type": "markdown",
   "metadata": {},
   "source": [
    "## 2.1. Loading raw (first name, last name, country codes) triples\n",
    "\n",
    "**Note:** For running this section you need to first download the `gs://uspto-data/final_dataset/raw_name_triples.csv` file and add it under the following directory: `./data_namsor/`"
   ]
  },
  {
   "cell_type": "code",
   "execution_count": 3,
   "metadata": {},
   "outputs": [
    {
     "name": "stdout",
     "output_type": "stream",
     "text": [
      "Number of rows: 3,836,819\n"
     ]
    },
    {
     "data": {
      "text/html": [
       "<div>\n",
       "<style scoped>\n",
       "    .dataframe tbody tr th:only-of-type {\n",
       "        vertical-align: middle;\n",
       "    }\n",
       "\n",
       "    .dataframe tbody tr th {\n",
       "        vertical-align: top;\n",
       "    }\n",
       "\n",
       "    .dataframe thead th {\n",
       "        text-align: right;\n",
       "    }\n",
       "</style>\n",
       "<table border=\"1\" class=\"dataframe\">\n",
       "  <thead>\n",
       "    <tr style=\"text-align: right;\">\n",
       "      <th></th>\n",
       "      <th>name_first</th>\n",
       "      <th>name_last</th>\n",
       "      <th>country_code</th>\n",
       "    </tr>\n",
       "  </thead>\n",
       "  <tbody>\n",
       "    <tr>\n",
       "      <th>0</th>\n",
       "      <td>SARA</td>\n",
       "      <td>MARTINSEN</td>\n",
       "      <td>DK</td>\n",
       "    </tr>\n",
       "    <tr>\n",
       "      <th>1</th>\n",
       "      <td>MARIE</td>\n",
       "      <td>TURKINGTON</td>\n",
       "      <td>IE</td>\n",
       "    </tr>\n",
       "  </tbody>\n",
       "</table>\n",
       "</div>"
      ],
      "text/plain": [
       "  name_first   name_last country_code\n",
       "0       SARA   MARTINSEN           DK\n",
       "1      MARIE  TURKINGTON           IE"
      ]
     },
     "execution_count": 3,
     "metadata": {},
     "output_type": "execute_result"
    }
   ],
   "source": [
    "# Loading Names with country Codes\n",
    "df_names = pd.read_csv('./data_namsor/raw_name_triples.csv', low_memory=False)\n",
    "print('Number of rows: {:,}'.format(df_names.shape[0]))\n",
    "df_names.head(2)"
   ]
  },
  {
   "cell_type": "code",
   "execution_count": 4,
   "metadata": {},
   "outputs": [
    {
     "data": {
      "text/html": [
       "<div>\n",
       "<style scoped>\n",
       "    .dataframe tbody tr th:only-of-type {\n",
       "        vertical-align: middle;\n",
       "    }\n",
       "\n",
       "    .dataframe tbody tr th {\n",
       "        vertical-align: top;\n",
       "    }\n",
       "\n",
       "    .dataframe thead th {\n",
       "        text-align: right;\n",
       "    }\n",
       "</style>\n",
       "<table border=\"1\" class=\"dataframe\">\n",
       "  <thead>\n",
       "    <tr style=\"text-align: right;\">\n",
       "      <th></th>\n",
       "      <th>name_first</th>\n",
       "      <th>name_last</th>\n",
       "      <th>country_code</th>\n",
       "    </tr>\n",
       "  </thead>\n",
       "  <tbody>\n",
       "    <tr>\n",
       "      <th>0</th>\n",
       "      <td>SARA</td>\n",
       "      <td>MARTINSEN</td>\n",
       "      <td>DK</td>\n",
       "    </tr>\n",
       "    <tr>\n",
       "      <th>1</th>\n",
       "      <td>MARIE</td>\n",
       "      <td>TURKINGTON</td>\n",
       "      <td>IE</td>\n",
       "    </tr>\n",
       "  </tbody>\n",
       "</table>\n",
       "</div>"
      ],
      "text/plain": [
       "  name_first   name_last country_code\n",
       "0       SARA   MARTINSEN           DK\n",
       "1      MARIE  TURKINGTON           IE"
      ]
     },
     "execution_count": 4,
     "metadata": {},
     "output_type": "execute_result"
    }
   ],
   "source": [
    "### Preprocessing the names\n",
    "# Handling NaN values\n",
    "df_names.name_first[df_names.name_first.isna()] = ''\n",
    "df_names.name_last[df_names.name_last.isna()] = ''\n",
    "# Replacing special characters\n",
    "df_names.name_first = df_names.name_first.str.replace(r'[\\*\\@\\#\\!\\%\\^\\&\\(\\)\\$\\.\\,]+', '', regex=True)\n",
    "df_names.name_last = df_names.name_last.str.replace(r'[\\*\\@\\#\\!\\%\\^\\&\\(\\)\\$\\.\\,]+', '', regex=True)\n",
    "\n",
    "df_names.head(2)"
   ]
  },
  {
   "cell_type": "markdown",
   "metadata": {},
   "source": [
    "## 2.2. Requesting the NamSor API for the prediction"
   ]
  },
  {
   "cell_type": "code",
   "execution_count": 6,
   "metadata": {},
   "outputs": [],
   "source": [
    "### Resuming the prediction from the last processed name\n",
    "N = df_names.shape[0]\n",
    "# Finding the lastest available index, for continuing the request\n",
    "files = [root+'/'+file for root, directory, files in os.walk('./data_namsor/namesCountry_origin') for file in files \n",
    "         if re.search(r'^(namesCountry\\_origin\\_check\\_\\d+)\\.csv$', file)]\n",
    "idx_start = -1\n",
    "for file in files:\n",
    "    idx_start = max(idx_start, pd.read_csv(file, usecols=['indexing'])['indexing'].max())\n",
    "idx_start += 1\n",
    "\n",
    "# batch size anf number of request to be saved in each step\n",
    "batch_size = 100\n",
    "steps = 20000\n",
    "error_log = []\n",
    "# create an instance of the API class\n",
    "api_instance = openapi_client.PersonalApi(openapi_client.ApiClient(configuration))\n",
    "df_diasOrigin = pd.DataFrame(columns=['indexing','name_first', 'name_last', 'country_code', \n",
    "                                      'ethnicity', 'ethnicity_alt', 'lifted', 'score'])"
   ]
  },
  {
   "cell_type": "code",
   "execution_count": null,
   "metadata": {},
   "outputs": [
    {
     "name": "stderr",
     "output_type": "stream",
     "text": [
      " 11%|█         | 424300/3836819 [49:11<4:15:08, 222.91it/s]IOPub message rate exceeded.\n",
      "The notebook server will temporarily stop sending output\n",
      "to the client in order to avoid crashing it.\n",
      "To change this limit, set the config variable\n",
      "`--NotebookApp.iopub_msg_rate_limit`.\n",
      "\n",
      "Current values:\n",
      "NotebookApp.iopub_msg_rate_limit=1000.0 (msgs/sec)\n",
      "NotebookApp.rate_limit_window=3.0 (secs)\n",
      "\n",
      " 28%|██▊       | 1068400/3836819 [2:30:25<7:56:34, 96.82it/s]"
     ]
    }
   ],
   "source": [
    "# Requeting from NamSor API for the `Diaspora` prediction\n",
    "start_time = time.perf_counter()\n",
    "pbar = tqdm(total=(N-idx_start))\n",
    "\n",
    "for i in range(idx_start, N, batch_size):\n",
    "    df_iter = df_names.iloc[i:i+batch_size, :]\n",
    "    namesCountry_list = [dict(firstName=x, lastName=y, countryIso2=z) for k, (x, y, z) in df_iter.iterrows()]\n",
    "    batch_first_last_name_geo_in = openapi_client.BatchFirstLastNameGeoIn(namesCountry_list)\n",
    "    try:\n",
    "        api_response = api_instance.diaspora_batch(batch_first_last_name_geo_in=batch_first_last_name_geo_in)\n",
    "        df_ = pd.DataFrame(columns=['indexing','name_first', 'name_last', 'country_code', \n",
    "                                    'ethnicity', 'ethnicity_alt', 'lifted', 'score'])\n",
    "        for j, dic in enumerate(api_response.personal_names):\n",
    "            data = pd.DataFrame(dict(indexing=df_iter.index[j],name_first=[dic.first_name], name_last=[dic.last_name], \n",
    "                                     country_code=df_iter.country_code.iloc[j], ethnicity=[dic.ethnicity], \n",
    "                                     ethnicity_alt=[dic.ethnicity_alt], lifted=[dic.lifted], score=[dic.score]))\n",
    "            df_ = df_.append(data, ignore_index=False)\n",
    "        df_diasOrigin = df_diasOrigin.append(df_, ignore_index=False)\n",
    "        pbar.update(batch_size)\n",
    "    except:\n",
    "        error_log.append(dict(range_idx=(i,i+batch_size), namesCountry_list=namesCountry_list, \n",
    "                              df_portion=df_names.iloc[i:i+batch_size,:]))\n",
    "        df_ = pd.DataFrame(dict(indexing=df_iter.index, name_first=df_iter.name_first,\n",
    "                                name_last=df_iter.name_last, country_code= df_iter.country_code,\n",
    "                                ethnicity=[np.nan for idx in range(i,i+batch_size)], \n",
    "                                ethnicity_alt=[np.nan for idx in range(i,i+batch_size)], \n",
    "                                lifted=[np.nan for idx in range(i,i+batch_size)], \n",
    "                                score=[np.nan for idx in range(i,i+batch_size)]))\n",
    "        df_diasOrigin = df_diasOrigin.append(df_, ignore_index=True)\n",
    "        pbar.update(batch_size)\n",
    "        \n",
    "    if (i+batch_size)%steps==0:\n",
    "        df_diasOrigin.to_csv('./data_namsor/namesCountry_origin/namesCountry_origin_check_{:03d}.csv'.format(i//steps), \n",
    "                             encoding='UTF-8',index=False)\n",
    "        df_diasOrigin = pd.DataFrame(columns=['indexing','name_first', 'name_last', 'country_code', \n",
    "                                              'ethnicity', 'ethnicity_alt', 'lifted', 'score'])\n",
    "\n",
    "df_diasOrigin.to_csv('./data_namsor/namesCountry_origin/namesCountry_origin_check_{:03d}.csv'.format(i//steps+1), \n",
    "                     encoding='UTF-8',index=False)\n",
    "pbar.close()\n",
    "stop_time = time.perf_counter()\n",
    "print('\\nTotal processing time was {:,} hours and {:,} mintues!'.format((stop_time-start_time)//3600, \n",
    "                                                                        ((stop_time-start_time)//60)%60))\n",
    "print('Total number of errors: {:,}'.format(len(error_log)))"
   ]
  },
  {
   "cell_type": "markdown",
   "metadata": {},
   "source": [
    "## 2.3. Iterating Over the Failed Requests"
   ]
  },
  {
   "cell_type": "code",
   "execution_count": 3,
   "metadata": {},
   "outputs": [
    {
     "name": "stderr",
     "output_type": "stream",
     "text": [
      "100%|██████████| 192/192 [00:30<00:00,  3.54it/s]"
     ]
    },
    {
     "name": "stdout",
     "output_type": "stream",
     "text": [
      "Terminated!\n"
     ]
    },
    {
     "name": "stderr",
     "output_type": "stream",
     "text": [
      "\n"
     ]
    },
    {
     "data": {
      "text/html": [
       "<div>\n",
       "<style scoped>\n",
       "    .dataframe tbody tr th:only-of-type {\n",
       "        vertical-align: middle;\n",
       "    }\n",
       "\n",
       "    .dataframe tbody tr th {\n",
       "        vertical-align: top;\n",
       "    }\n",
       "\n",
       "    .dataframe thead th {\n",
       "        text-align: right;\n",
       "    }\n",
       "</style>\n",
       "<table border=\"1\" class=\"dataframe\">\n",
       "  <thead>\n",
       "    <tr style=\"text-align: right;\">\n",
       "      <th></th>\n",
       "      <th>indexing</th>\n",
       "      <th>name_first</th>\n",
       "      <th>name_last</th>\n",
       "      <th>country_code</th>\n",
       "      <th>ethnicity</th>\n",
       "      <th>ethnicity_alt</th>\n",
       "      <th>lifted</th>\n",
       "      <th>score</th>\n",
       "    </tr>\n",
       "  </thead>\n",
       "  <tbody>\n",
       "    <tr>\n",
       "      <th>0</th>\n",
       "      <td>0</td>\n",
       "      <td>SARA</td>\n",
       "      <td>MARTINSEN</td>\n",
       "      <td>DK</td>\n",
       "      <td>Norwegian</td>\n",
       "      <td>Danish</td>\n",
       "      <td>True</td>\n",
       "      <td>1.856552</td>\n",
       "    </tr>\n",
       "    <tr>\n",
       "      <th>1</th>\n",
       "      <td>1</td>\n",
       "      <td>MARIE</td>\n",
       "      <td>TURKINGTON</td>\n",
       "      <td>IE</td>\n",
       "      <td>Irish</td>\n",
       "      <td>British</td>\n",
       "      <td>False</td>\n",
       "      <td>13.720753</td>\n",
       "    </tr>\n",
       "  </tbody>\n",
       "</table>\n",
       "</div>"
      ],
      "text/plain": [
       "  indexing name_first   name_last country_code  ethnicity ethnicity_alt  \\\n",
       "0        0       SARA   MARTINSEN           DK  Norwegian        Danish   \n",
       "1        1      MARIE  TURKINGTON           IE      Irish       British   \n",
       "\n",
       "  lifted      score  \n",
       "0   True   1.856552  \n",
       "1  False  13.720753  "
      ]
     },
     "execution_count": 3,
     "metadata": {},
     "output_type": "execute_result"
    }
   ],
   "source": [
    "### Concatenating the prediction results into one dataframe\n",
    "files_list = sorted([root+'/'+file for root, directory, files in \n",
    "                     os.walk('./data_namsor/namesCountry_origin') for file in files \n",
    "                     if re.search(r'^(namesCountry\\_origin\\_check\\_\\d+)\\.csv$', file)])\n",
    "\n",
    "pbar = tqdm(total=len(files_list))\n",
    "# Concatenating all files into one dataframe\n",
    "df_names_origin = pd.DataFrame(columns=['indexing','name_first', 'name_last', 'country_code', \n",
    "                                        'ethnicity', 'ethnicity_alt', 'lifted', 'score'])\n",
    "df_temp = pd.DataFrame(columns=['indexing','name_first', 'name_last', 'country_code', \n",
    "                                'ethnicity', 'ethnicity_alt', 'lifted', 'score'])\n",
    "for i, file in enumerate(files_list):\n",
    "    df_ = pd.read_csv(file, low_memory=False)\n",
    "    df_temp = pd.concat([df_temp, df_], axis=0, ignore_index=True)\n",
    "    if i%20==0:\n",
    "        df_names_origin = pd.concat([df_names_origin, df_temp], axis=0, ignore_index=True)\n",
    "        df_temp = pd.DataFrame(columns=['indexing','name_first', 'name_last', 'country_code', \n",
    "                                        'ethnicity', 'ethnicity_alt', 'lifted', 'score'])\n",
    "    elif i>= len(files_list)-1:\n",
    "        df_names_origin = pd.concat([df_names_origin, df_temp], axis=0, ignore_index=True)\n",
    "        df_temp = pd.DataFrame(columns=['indexing','name_first', 'name_last', 'country_code', \n",
    "                                        'ethnicity', 'ethnicity_alt', 'lifted', 'score'])\n",
    "        print('Terminated!')\n",
    "    pbar.update(1)\n",
    "pbar.close()\n",
    "\n",
    "df_names_origin.head(2)"
   ]
  },
  {
   "cell_type": "code",
   "execution_count": 5,
   "metadata": {},
   "outputs": [
    {
     "name": "stderr",
     "output_type": "stream",
     "text": [
      "100%|██████████| 5074/5074 [11:38<00:00,  7.81it/s]\n"
     ]
    }
   ],
   "source": [
    "### Requesting for `Diaspora` method for predicting the failed ones\n",
    "# Getting the list of results' files\n",
    "files_list = sorted([root+'/'+file for root, directory, files in \n",
    "                     os.walk('./data_namsor/namesCountry_origin') for file in files \n",
    "                     if re.search(r'^(namesCountry\\_origin\\_check\\_\\d+)\\.csv$', file)])\n",
    "batch_size = 1\n",
    "error_log = []\n",
    "df_remained = df_names_origin[(df_names_origin.country_code.notna())&\n",
    "                              (df_names_origin[['ethnicity', 'ethnicity_alt', 'score']].isna().all(axis=1))]\n",
    "pbar = tqdm(total=df_remained.shape[0])\n",
    "\n",
    "for file in files_list:\n",
    "    df_origin = pd.read_csv(file)\n",
    "    df_remained = df_origin[(df_origin.country_code.notna())&\n",
    "                            (df_origin[['ethnicity', 'ethnicity_alt', 'score']].isna().all(axis=1))]\n",
    "    #columns = df_origin.columns\n",
    "    for idx, row in df_remained.iterrows():\n",
    "        names_list = [dict(firstName=row['name_first'], lastName=row['name_last'], countryIso2=row['country_code'])]\n",
    "        #batch_first_last_name_geo_in = openapi_client.BatchFirstLastNameGeoIn(namesCountry_list)\n",
    "        try:\n",
    "            api_response = api_instance.diaspora(country_iso2=row['country_code'], first_name=row['name_first'], \n",
    "                                                 last_name= row['name_last'])\n",
    "            data = pd.DataFrame(dict(indexing=row['indexing'],name_first=[row['name_first']], \n",
    "                                     name_last=[row['name_last']], country_code=[row['country_code']],\n",
    "                                     ethnicity=[api_response.ethnicity], ethnicity_alt=[api_response.ethnicity_alt],\n",
    "                                     lifted=[api_response.lifted], score=[api_response.score]), index=[idx])\n",
    "            df_origin.loc[idx:idx] = data\n",
    "            pbar.update(1)\n",
    "\n",
    "        except:\n",
    "            pbar.update(1)\n",
    "            error_log.append(dict(range_idx=idx, names_list=names_list, df_portion=df_origin.loc[idx:idx]))\n",
    "    # Save back the modified file\n",
    "    df_origin.to_csv(file, encoding='UTF-8',index=False)\n",
    "pbar.close()"
   ]
  },
  {
   "cell_type": "code",
   "execution_count": 3,
   "metadata": {},
   "outputs": [
    {
     "name": "stderr",
     "output_type": "stream",
     "text": [
      "100%|██████████| 192/192 [00:29<00:00,  3.63it/s]"
     ]
    },
    {
     "name": "stdout",
     "output_type": "stream",
     "text": [
      "Terminated!\n"
     ]
    },
    {
     "name": "stderr",
     "output_type": "stream",
     "text": [
      "\n"
     ]
    },
    {
     "data": {
      "text/html": [
       "<div>\n",
       "<style scoped>\n",
       "    .dataframe tbody tr th:only-of-type {\n",
       "        vertical-align: middle;\n",
       "    }\n",
       "\n",
       "    .dataframe tbody tr th {\n",
       "        vertical-align: top;\n",
       "    }\n",
       "\n",
       "    .dataframe thead th {\n",
       "        text-align: right;\n",
       "    }\n",
       "</style>\n",
       "<table border=\"1\" class=\"dataframe\">\n",
       "  <thead>\n",
       "    <tr style=\"text-align: right;\">\n",
       "      <th></th>\n",
       "      <th>indexing</th>\n",
       "      <th>name_first</th>\n",
       "      <th>name_last</th>\n",
       "      <th>country_code</th>\n",
       "      <th>ethnicity</th>\n",
       "      <th>ethnicity_alt</th>\n",
       "      <th>lifted</th>\n",
       "      <th>score</th>\n",
       "    </tr>\n",
       "  </thead>\n",
       "  <tbody>\n",
       "    <tr>\n",
       "      <th>0</th>\n",
       "      <td>0</td>\n",
       "      <td>SARA</td>\n",
       "      <td>MARTINSEN</td>\n",
       "      <td>DK</td>\n",
       "      <td>Norwegian</td>\n",
       "      <td>Danish</td>\n",
       "      <td>True</td>\n",
       "      <td>1.856552</td>\n",
       "    </tr>\n",
       "    <tr>\n",
       "      <th>1</th>\n",
       "      <td>1</td>\n",
       "      <td>MARIE</td>\n",
       "      <td>TURKINGTON</td>\n",
       "      <td>IE</td>\n",
       "      <td>Irish</td>\n",
       "      <td>British</td>\n",
       "      <td>False</td>\n",
       "      <td>13.720753</td>\n",
       "    </tr>\n",
       "  </tbody>\n",
       "</table>\n",
       "</div>"
      ],
      "text/plain": [
       "  indexing name_first   name_last country_code  ethnicity ethnicity_alt  \\\n",
       "0        0       SARA   MARTINSEN           DK  Norwegian        Danish   \n",
       "1        1      MARIE  TURKINGTON           IE      Irish       British   \n",
       "\n",
       "  lifted      score  \n",
       "0   True   1.856552  \n",
       "1  False  13.720753  "
      ]
     },
     "execution_count": 3,
     "metadata": {},
     "output_type": "execute_result"
    }
   ],
   "source": [
    "### Concatenating the final results into one datafrmae\n",
    "files_list = sorted([root+'/'+file for root, directory, files in \n",
    "                     os.walk('./data_namsor/namesCountry_origin') for file in files \n",
    "                     if re.search(r'^(namesCountry\\_origin\\_check\\_\\d+)\\.csv$', file)])\n",
    "\n",
    "pbar = tqdm(total=len(files_list))\n",
    "# Concatenating all files into one dataframe\n",
    "df_names_dias = pd.DataFrame(columns=['indexing','name_first', 'name_last', 'country_code', \n",
    "                                      'ethnicity', 'ethnicity_alt', 'lifted', 'score'])\n",
    "df_temp = pd.DataFrame(columns=['indexing','name_first', 'name_last', 'country_code', \n",
    "                                'ethnicity', 'ethnicity_alt', 'lifted', 'score'])\n",
    "for i, file in enumerate(files_list):\n",
    "    df_ = pd.read_csv(file, low_memory=False)\n",
    "    df_temp = pd.concat([df_temp, df_], axis=0, ignore_index=True)\n",
    "    if i%20==0:\n",
    "        df_names_dias = pd.concat([df_names_dias, df_temp], axis=0, ignore_index=True)\n",
    "        df_temp = pd.DataFrame(columns=['indexing','name_first', 'name_last', 'country_code', \n",
    "                                        'ethnicity', 'ethnicity_alt', 'lifted', 'score'])\n",
    "    elif i>= len(files_list)-1:\n",
    "        df_names_dias = pd.concat([df_names_dias, df_temp], axis=0, ignore_index=True)\n",
    "        df_temp = pd.DataFrame(columns=['indexing','name_first', 'name_last', 'country_code', \n",
    "                                        'ethnicity', 'ethnicity_alt', 'lifted', 'score'])\n",
    "        print('Terminated!')\n",
    "    pbar.update(1)\n",
    "pbar.close()\n",
    "\n",
    "df_names_dias.head(2)"
   ]
  },
  {
   "cell_type": "markdown",
   "metadata": {},
   "source": [
    "## 2.4. Mapping the Diaspora Ethnicity to The Country Codes\n",
    "\n",
    "In order to do this step, we mannualy went through the dispora ethnicity lists and assigned the most likely country to them.  \n",
    "\n",
    "**Note:** Since the result of `Origin` method returns the origin in the format of country codes (*e.g.* FR for France, and not in the format of ethnicties, *e.g.* French ), performing this step will enable us to use both `.Ethnicity` and `.Origin` together."
   ]
  },
  {
   "cell_type": "markdown",
   "metadata": {},
   "source": [
    "**The result of the mapping can be loaded using the following code:**"
   ]
  },
  {
   "cell_type": "code",
   "execution_count": 4,
   "metadata": {},
   "outputs": [
    {
     "data": {
      "text/html": [
       "<div>\n",
       "<style scoped>\n",
       "    .dataframe tbody tr th:only-of-type {\n",
       "        vertical-align: middle;\n",
       "    }\n",
       "\n",
       "    .dataframe tbody tr th {\n",
       "        vertical-align: top;\n",
       "    }\n",
       "\n",
       "    .dataframe thead th {\n",
       "        text-align: right;\n",
       "    }\n",
       "</style>\n",
       "<table border=\"1\" class=\"dataframe\">\n",
       "  <thead>\n",
       "    <tr style=\"text-align: right;\">\n",
       "      <th></th>\n",
       "      <th>ethnicity</th>\n",
       "      <th>eth_country</th>\n",
       "    </tr>\n",
       "  </thead>\n",
       "  <tbody>\n",
       "    <tr>\n",
       "      <th>0</th>\n",
       "      <td>Afghan</td>\n",
       "      <td>AF</td>\n",
       "    </tr>\n",
       "    <tr>\n",
       "      <th>1</th>\n",
       "      <td>Albanian</td>\n",
       "      <td>AL</td>\n",
       "    </tr>\n",
       "  </tbody>\n",
       "</table>\n",
       "</div>"
      ],
      "text/plain": [
       "  ethnicity eth_country\n",
       "0    Afghan          AF\n",
       "1  Albanian          AL"
      ]
     },
     "metadata": {},
     "output_type": "display_data"
    }
   ],
   "source": [
    "# Loading the mapping\n",
    "df_ = pd.read_csv('./data/ethnicity_country_map.csv', keep_default_na=False, na_values=' ')\n",
    "display(df_.head(2))"
   ]
  },
  {
   "cell_type": "code",
   "execution_count": 5,
   "metadata": {},
   "outputs": [
    {
     "data": {
      "text/html": [
       "<div>\n",
       "<style scoped>\n",
       "    .dataframe tbody tr th:only-of-type {\n",
       "        vertical-align: middle;\n",
       "    }\n",
       "\n",
       "    .dataframe tbody tr th {\n",
       "        vertical-align: top;\n",
       "    }\n",
       "\n",
       "    .dataframe thead th {\n",
       "        text-align: right;\n",
       "    }\n",
       "</style>\n",
       "<table border=\"1\" class=\"dataframe\">\n",
       "  <thead>\n",
       "    <tr style=\"text-align: right;\">\n",
       "      <th></th>\n",
       "      <th>indexing</th>\n",
       "      <th>name_first</th>\n",
       "      <th>name_last</th>\n",
       "      <th>country_code</th>\n",
       "      <th>ethnicity</th>\n",
       "      <th>ethnicity_alt</th>\n",
       "      <th>lifted</th>\n",
       "      <th>score</th>\n",
       "      <th>eth_country</th>\n",
       "    </tr>\n",
       "  </thead>\n",
       "  <tbody>\n",
       "    <tr>\n",
       "      <th>0</th>\n",
       "      <td>0</td>\n",
       "      <td>SARA</td>\n",
       "      <td>MARTINSEN</td>\n",
       "      <td>DK</td>\n",
       "      <td>Norwegian</td>\n",
       "      <td>Danish</td>\n",
       "      <td>True</td>\n",
       "      <td>1.856552</td>\n",
       "      <td>NO</td>\n",
       "    </tr>\n",
       "    <tr>\n",
       "      <th>1</th>\n",
       "      <td>1</td>\n",
       "      <td>MARIE</td>\n",
       "      <td>TURKINGTON</td>\n",
       "      <td>IE</td>\n",
       "      <td>Irish</td>\n",
       "      <td>British</td>\n",
       "      <td>False</td>\n",
       "      <td>13.720753</td>\n",
       "      <td>IE</td>\n",
       "    </tr>\n",
       "  </tbody>\n",
       "</table>\n",
       "</div>"
      ],
      "text/plain": [
       "  indexing name_first   name_last country_code  ethnicity ethnicity_alt  \\\n",
       "0        0       SARA   MARTINSEN           DK  Norwegian        Danish   \n",
       "1        1      MARIE  TURKINGTON           IE      Irish       British   \n",
       "\n",
       "  lifted      score eth_country  \n",
       "0   True   1.856552          NO  \n",
       "1  False  13.720753          IE  "
      ]
     },
     "execution_count": 5,
     "metadata": {},
     "output_type": "execute_result"
    }
   ],
   "source": [
    "# Mapping Ethnicity to their country names\n",
    "df_names_dias = pd.merge(df_names_dias, df_, on=['ethnicity'], how='left')\n",
    "df_names_dias.head(2)"
   ]
  },
  {
   "cell_type": "markdown",
   "metadata": {},
   "source": [
    "## 2.5. Creating the Dataframe containing the `Dispora` predicted country of origins"
   ]
  },
  {
   "cell_type": "code",
   "execution_count": 201,
   "metadata": {},
   "outputs": [
    {
     "name": "stdout",
     "output_type": "stream",
     "text": [
      "3,836,819\n"
     ]
    },
    {
     "data": {
      "text/html": [
       "<div>\n",
       "<style scoped>\n",
       "    .dataframe tbody tr th:only-of-type {\n",
       "        vertical-align: middle;\n",
       "    }\n",
       "\n",
       "    .dataframe tbody tr th {\n",
       "        vertical-align: top;\n",
       "    }\n",
       "\n",
       "    .dataframe thead th {\n",
       "        text-align: right;\n",
       "    }\n",
       "</style>\n",
       "<table border=\"1\" class=\"dataframe\">\n",
       "  <thead>\n",
       "    <tr style=\"text-align: right;\">\n",
       "      <th></th>\n",
       "      <th>name_first</th>\n",
       "      <th>name_last</th>\n",
       "      <th>country_code</th>\n",
       "    </tr>\n",
       "  </thead>\n",
       "  <tbody>\n",
       "    <tr>\n",
       "      <th>0</th>\n",
       "      <td>SARA</td>\n",
       "      <td>MARTINSEN</td>\n",
       "      <td>DK</td>\n",
       "    </tr>\n",
       "    <tr>\n",
       "      <th>1</th>\n",
       "      <td>MARIE</td>\n",
       "      <td>TURKINGTON</td>\n",
       "      <td>IE</td>\n",
       "    </tr>\n",
       "  </tbody>\n",
       "</table>\n",
       "</div>"
      ],
      "text/plain": [
       "  name_first   name_last country_code\n",
       "0       SARA   MARTINSEN           DK\n",
       "1      MARIE  TURKINGTON           IE"
      ]
     },
     "execution_count": 201,
     "metadata": {},
     "output_type": "execute_result"
    }
   ],
   "source": [
    "### Loading the raw (unprocessed) Names with their country Codes\n",
    "df_names = pd.read_csv('./data_namsor/raw_name_triples.csv', low_memory=False)\n",
    "print('{:,}'.format(df_names.shape[0]))\n",
    "df_names.head(2)"
   ]
  },
  {
   "cell_type": "code",
   "execution_count": 212,
   "metadata": {},
   "outputs": [
    {
     "data": {
      "text/html": [
       "<div>\n",
       "<style scoped>\n",
       "    .dataframe tbody tr th:only-of-type {\n",
       "        vertical-align: middle;\n",
       "    }\n",
       "\n",
       "    .dataframe tbody tr th {\n",
       "        vertical-align: top;\n",
       "    }\n",
       "\n",
       "    .dataframe thead th {\n",
       "        text-align: right;\n",
       "    }\n",
       "</style>\n",
       "<table border=\"1\" class=\"dataframe\">\n",
       "  <thead>\n",
       "    <tr style=\"text-align: right;\">\n",
       "      <th></th>\n",
       "      <th>indexing</th>\n",
       "      <th>name_first</th>\n",
       "      <th>name_last</th>\n",
       "      <th>country_code</th>\n",
       "      <th>name_first_har</th>\n",
       "      <th>name_last_har</th>\n",
       "      <th>ethnicity</th>\n",
       "      <th>ethnicity_alt</th>\n",
       "      <th>lifted</th>\n",
       "      <th>score</th>\n",
       "      <th>eth_country</th>\n",
       "    </tr>\n",
       "  </thead>\n",
       "  <tbody>\n",
       "    <tr>\n",
       "      <th>0</th>\n",
       "      <td>0</td>\n",
       "      <td>SARA</td>\n",
       "      <td>MARTINSEN</td>\n",
       "      <td>DK</td>\n",
       "      <td>SARA</td>\n",
       "      <td>MARTINSEN</td>\n",
       "      <td>Norwegian</td>\n",
       "      <td>Danish</td>\n",
       "      <td>True</td>\n",
       "      <td>1.856552</td>\n",
       "      <td>NO</td>\n",
       "    </tr>\n",
       "    <tr>\n",
       "      <th>1</th>\n",
       "      <td>1</td>\n",
       "      <td>MARIE</td>\n",
       "      <td>TURKINGTON</td>\n",
       "      <td>IE</td>\n",
       "      <td>MARIE</td>\n",
       "      <td>TURKINGTON</td>\n",
       "      <td>Irish</td>\n",
       "      <td>British</td>\n",
       "      <td>False</td>\n",
       "      <td>13.720753</td>\n",
       "      <td>IE</td>\n",
       "    </tr>\n",
       "  </tbody>\n",
       "</table>\n",
       "</div>"
      ],
      "text/plain": [
       "   indexing name_first   name_last country_code name_first_har name_last_har  \\\n",
       "0         0       SARA   MARTINSEN           DK           SARA     MARTINSEN   \n",
       "1         1      MARIE  TURKINGTON           IE          MARIE    TURKINGTON   \n",
       "\n",
       "   ethnicity ethnicity_alt lifted      score eth_country  \n",
       "0  Norwegian        Danish   True   1.856552          NO  \n",
       "1      Irish       British  False  13.720753          IE  "
      ]
     },
     "execution_count": 212,
     "metadata": {},
     "output_type": "execute_result"
    }
   ],
   "source": [
    "### Adding the unprocessed names to the prediction table\n",
    "df_names_eth_f = pd.concat([df_names, df_names_dias.rename(columns={'country_code':'country_code_2'})], axis=1)\n",
    "cols = df_names_eth_f.columns\n",
    "df_names_eth_f = df_names_eth_f[cols[np.r_[3:4,0:3,4:6,7:12]]]\n",
    "df_names_eth_f.head(2)"
   ]
  },
  {
   "cell_type": "code",
   "execution_count": 213,
   "metadata": {},
   "outputs": [],
   "source": [
    "# Saving the final results\n",
    "#df_names_eth_f.to_csv('./data_namesor/diaspora_processed.csv', encoding='utf-8', index=False)"
   ]
  },
  {
   "cell_type": "markdown",
   "metadata": {},
   "source": [
    "# 3. Visualizing the distribution of the Scores in \"Diaspora\" vs. \"Origin\" method"
   ]
  },
  {
   "cell_type": "code",
   "execution_count": 113,
   "metadata": {},
   "outputs": [
    {
     "name": "stdout",
     "output_type": "stream",
     "text": [
      "The google.cloud.bigquery extension is already loaded. To reload it, use:\n",
      "  %reload_ext google.cloud.bigquery\n"
     ]
    }
   ],
   "source": [
    "%matplotlib inline\n",
    "import matplotlib.pyplot as plt\n",
    "from matplotlib import ticker\n",
    "from matplotlib import cm\n",
    "from matplotlib import colors\n",
    "from matplotlib.ticker import PercentFormatter\n",
    "import seaborn as sns\n",
    "sns.set(style=\"darkgrid\", context='talk')\n",
    "\n",
    "import pandas as pd\n",
    "import numpy as np\n",
    "from google.cloud import bigquery\n",
    "%load_ext google.cloud.bigquery"
   ]
  },
  {
   "cell_type": "code",
   "execution_count": 6,
   "metadata": {},
   "outputs": [
    {
     "data": {
      "text/html": [
       "<div>\n",
       "<style scoped>\n",
       "    .dataframe tbody tr th:only-of-type {\n",
       "        vertical-align: middle;\n",
       "    }\n",
       "\n",
       "    .dataframe tbody tr th {\n",
       "        vertical-align: top;\n",
       "    }\n",
       "\n",
       "    .dataframe thead th {\n",
       "        text-align: right;\n",
       "    }\n",
       "</style>\n",
       "<table border=\"1\" class=\"dataframe\">\n",
       "  <thead>\n",
       "    <tr style=\"text-align: right;\">\n",
       "      <th></th>\n",
       "      <th>index</th>\n",
       "      <th>name_first</th>\n",
       "      <th>name_last</th>\n",
       "      <th>name_first_har</th>\n",
       "      <th>name_last_har</th>\n",
       "      <th>country_origin</th>\n",
       "      <th>country_origin_alt</th>\n",
       "      <th>score</th>\n",
       "      <th>sub_region_origin</th>\n",
       "      <th>top_region_origin</th>\n",
       "    </tr>\n",
       "  </thead>\n",
       "  <tbody>\n",
       "    <tr>\n",
       "      <th>0</th>\n",
       "      <td>0</td>\n",
       "      <td>TADAMICHI</td>\n",
       "      <td>HATTORI</td>\n",
       "      <td>TADAMICHI</td>\n",
       "      <td>HATTORI</td>\n",
       "      <td>JP</td>\n",
       "      <td>NE</td>\n",
       "      <td>12.904708</td>\n",
       "      <td>Eastern Asia</td>\n",
       "      <td>Asia</td>\n",
       "    </tr>\n",
       "    <tr>\n",
       "      <th>1</th>\n",
       "      <td>1</td>\n",
       "      <td>VLADIMIR</td>\n",
       "      <td>POUTCHKOV</td>\n",
       "      <td>VLADIMIR</td>\n",
       "      <td>POUTCHKOV</td>\n",
       "      <td>RU</td>\n",
       "      <td>UA</td>\n",
       "      <td>3.506230</td>\n",
       "      <td>Eastern Europe</td>\n",
       "      <td>Europe</td>\n",
       "    </tr>\n",
       "    <tr>\n",
       "      <th>2</th>\n",
       "      <td>2</td>\n",
       "      <td>CORINA</td>\n",
       "      <td>KLOSS</td>\n",
       "      <td>CORINA</td>\n",
       "      <td>KLOSS</td>\n",
       "      <td>CH</td>\n",
       "      <td>DE</td>\n",
       "      <td>0.739209</td>\n",
       "      <td>Western Europe</td>\n",
       "      <td>Europe</td>\n",
       "    </tr>\n",
       "  </tbody>\n",
       "</table>\n",
       "</div>"
      ],
      "text/plain": [
       "   index name_first  name_last name_first_har name_last_har country_origin  \\\n",
       "0      0  TADAMICHI    HATTORI      TADAMICHI       HATTORI             JP   \n",
       "1      1   VLADIMIR  POUTCHKOV       VLADIMIR     POUTCHKOV             RU   \n",
       "2      2     CORINA      KLOSS         CORINA         KLOSS             CH   \n",
       "\n",
       "  country_origin_alt      score sub_region_origin top_region_origin  \n",
       "0                 NE  12.904708      Eastern Asia              Asia  \n",
       "1                 UA   3.506230    Eastern Europe            Europe  \n",
       "2                 DE   0.739209    Western Europe            Europe  "
      ]
     },
     "metadata": {},
     "output_type": "display_data"
    },
    {
     "data": {
      "text/html": [
       "<div>\n",
       "<style scoped>\n",
       "    .dataframe tbody tr th:only-of-type {\n",
       "        vertical-align: middle;\n",
       "    }\n",
       "\n",
       "    .dataframe tbody tr th {\n",
       "        vertical-align: top;\n",
       "    }\n",
       "\n",
       "    .dataframe thead th {\n",
       "        text-align: right;\n",
       "    }\n",
       "</style>\n",
       "<table border=\"1\" class=\"dataframe\">\n",
       "  <thead>\n",
       "    <tr style=\"text-align: right;\">\n",
       "      <th></th>\n",
       "      <th>indexing</th>\n",
       "      <th>name_first</th>\n",
       "      <th>name_last</th>\n",
       "      <th>country_code</th>\n",
       "      <th>name_first_har</th>\n",
       "      <th>name_last_har</th>\n",
       "      <th>ethnicity</th>\n",
       "      <th>ethnicity_alt</th>\n",
       "      <th>lifted</th>\n",
       "      <th>score</th>\n",
       "      <th>eth_country</th>\n",
       "    </tr>\n",
       "  </thead>\n",
       "  <tbody>\n",
       "    <tr>\n",
       "      <th>0</th>\n",
       "      <td>0</td>\n",
       "      <td>SARA</td>\n",
       "      <td>MARTINSEN</td>\n",
       "      <td>DK</td>\n",
       "      <td>SARA</td>\n",
       "      <td>MARTINSEN</td>\n",
       "      <td>Norwegian</td>\n",
       "      <td>Danish</td>\n",
       "      <td>True</td>\n",
       "      <td>1.856552</td>\n",
       "      <td>NO</td>\n",
       "    </tr>\n",
       "    <tr>\n",
       "      <th>1</th>\n",
       "      <td>1</td>\n",
       "      <td>MARIE</td>\n",
       "      <td>TURKINGTON</td>\n",
       "      <td>IE</td>\n",
       "      <td>MARIE</td>\n",
       "      <td>TURKINGTON</td>\n",
       "      <td>Irish</td>\n",
       "      <td>British</td>\n",
       "      <td>False</td>\n",
       "      <td>13.720753</td>\n",
       "      <td>IE</td>\n",
       "    </tr>\n",
       "    <tr>\n",
       "      <th>2</th>\n",
       "      <td>2</td>\n",
       "      <td>KJELL</td>\n",
       "      <td>JACOBSEN</td>\n",
       "      <td>NO</td>\n",
       "      <td>KJELL</td>\n",
       "      <td>JACOBSEN</td>\n",
       "      <td>Danish</td>\n",
       "      <td>Norwegian</td>\n",
       "      <td>False</td>\n",
       "      <td>25.175981</td>\n",
       "      <td>DK</td>\n",
       "    </tr>\n",
       "  </tbody>\n",
       "</table>\n",
       "</div>"
      ],
      "text/plain": [
       "   indexing name_first   name_last country_code name_first_har name_last_har  \\\n",
       "0         0       SARA   MARTINSEN           DK           SARA     MARTINSEN   \n",
       "1         1      MARIE  TURKINGTON           IE          MARIE    TURKINGTON   \n",
       "2         2      KJELL    JACOBSEN           NO          KJELL      JACOBSEN   \n",
       "\n",
       "   ethnicity ethnicity_alt lifted      score eth_country  \n",
       "0  Norwegian        Danish   True   1.856552          NO  \n",
       "1      Irish       British  False  13.720753          IE  \n",
       "2     Danish     Norwegian  False  25.175981          DK  "
      ]
     },
     "metadata": {},
     "output_type": "display_data"
    }
   ],
   "source": [
    "df_names_origin = pd.read_csv('./data/origin_processed.csv', low_memory=False)\n",
    "df_names_eth = pd.read_csv('./data/diaspora_processed.csv', low_memory=False)\n",
    "\n",
    "display(df_names_origin.head(3))\n",
    "display(df_names_eth.head(3))"
   ]
  },
  {
   "cell_type": "code",
   "execution_count": 53,
   "metadata": {},
   "outputs": [
    {
     "data": {
      "text/html": [
       "<div>\n",
       "<style scoped>\n",
       "    .dataframe tbody tr th:only-of-type {\n",
       "        vertical-align: middle;\n",
       "    }\n",
       "\n",
       "    .dataframe tbody tr th {\n",
       "        vertical-align: top;\n",
       "    }\n",
       "\n",
       "    .dataframe thead th {\n",
       "        text-align: right;\n",
       "    }\n",
       "</style>\n",
       "<table border=\"1\" class=\"dataframe\">\n",
       "  <thead>\n",
       "    <tr style=\"text-align: right;\">\n",
       "      <th></th>\n",
       "      <th>origin</th>\n",
       "      <th>score</th>\n",
       "      <th>Method</th>\n",
       "    </tr>\n",
       "  </thead>\n",
       "  <tbody>\n",
       "    <tr>\n",
       "      <th>0</th>\n",
       "      <td>JP</td>\n",
       "      <td>12.904708</td>\n",
       "      <td>Origin</td>\n",
       "    </tr>\n",
       "    <tr>\n",
       "      <th>1</th>\n",
       "      <td>RU</td>\n",
       "      <td>3.506230</td>\n",
       "      <td>Origin</td>\n",
       "    </tr>\n",
       "  </tbody>\n",
       "</table>\n",
       "</div>"
      ],
      "text/plain": [
       "  origin      score  Method\n",
       "0     JP  12.904708  Origin\n",
       "1     RU   3.506230  Origin"
      ]
     },
     "execution_count": 53,
     "metadata": {},
     "output_type": "execute_result"
    }
   ],
   "source": [
    "df_p1 = df_names_origin[['country_origin','score']].rename(columns={'country_origin':'origin'}).copy()\n",
    "df_p1['Method'] = 'Origin'\n",
    "df_p2 = df_names_eth[['ethnicity','score']].rename(columns={'ethnicity':'origin'}).copy()\n",
    "df_p2['Method'] = 'Dispora'\n",
    "df_plot = pd.concat([df_p1, df_p2], axis=0, ignore_index=True)\n",
    "df_plot.head(2)"
   ]
  },
  {
   "cell_type": "code",
   "execution_count": 123,
   "metadata": {},
   "outputs": [
    {
     "data": {
      "image/png": "[encoded data removed]",
      "text/plain": [
       "<Figure size 576x720 with 2 Axes>"
      ]
     },
     "metadata": {},
     "output_type": "display_data"
    }
   ],
   "source": [
    "x1 = df_p1.score\n",
    "x2 = df_p2.score\n",
    "pal_1 = sns.color_palette(\"Blues\", 8)\n",
    "pal_2 = sns.color_palette(\"PuRd\", 8)\n",
    "fig, ax = plt.subplots(2, 1, figsize=(8,10))\n",
    "g1 = sns.distplot(ax=ax[0], a=x1, bins=10, color='b', #axlabel='My axis', #label=\"Y\",  \n",
    "                 kde=True, hist=True, rug=False, vertical=False,\n",
    "                 kde_kws={\"color\": pal_1.as_hex()[6], \"lw\": 3, \"shade\":True, \"bw\":2.5, \"label\": \"KDE: Origin\"},\n",
    "                 hist_kws={\"histtype\": \"barstacked\", \"linewidth\": 1, \"alpha\": 0.4, \"color\": pal_1.as_hex()[5], \"label\":\"Histogram: Origin\"},)\n",
    "\n",
    "g2 = sns.distplot(ax=ax[1], a=x2, bins=10, color='r', #axlabel='My axis', #label=\"Y\",  \n",
    "                 kde=True, hist=True, rug=False, vertical=False,\n",
    "                 kde_kws={\"color\": pal_2.as_hex()[6], \"lw\": 3, \"shade\":True, \"bw\":2.5, \"label\": \"KDE: Diaspora\"},\n",
    "                 hist_kws={\"histtype\": \"barstacked\", \"linewidth\": 1, \"alpha\": 0.4, \"color\": pal_2.as_hex()[5], \"label\":\"Histogram: Diaspora\"},)\n",
    "\n",
    "ax[0].set_xlabel('')\n",
    "ax[1].set_ylim((0.0,0.06))\n",
    "ax[0].set_xlim((0,df_p1.score.max()))\n",
    "ax[1].set_xlim((0,df_p2.score.max()))\n",
    "ax[0].yaxis.set_major_formatter(PercentFormatter(1, decimals=0))\n",
    "ax[1].yaxis.set_major_formatter(PercentFormatter(1, decimals=0))\n",
    "g1.set_title('Distribution of \"Origin\" vs. \"Diaspora\" scores', fontsize=22, pad=20)\n",
    "#g2.set_title('', fontsize=19)\n",
    "#g.set_ylabel('Counts', fontsize=18)\n",
    "#g.set_xlabel('X axis', fontsize=18)\n",
    "#g.set(xscale=\"log\")\n",
    "plt.show()"
   ]
  },
  {
   "cell_type": "code",
   "execution_count": 150,
   "metadata": {},
   "outputs": [
    {
     "data": {
      "text/html": [
       "<div>\n",
       "<style scoped>\n",
       "    .dataframe tbody tr th:only-of-type {\n",
       "        vertical-align: middle;\n",
       "    }\n",
       "\n",
       "    .dataframe tbody tr th {\n",
       "        vertical-align: top;\n",
       "    }\n",
       "\n",
       "    .dataframe thead th {\n",
       "        text-align: right;\n",
       "    }\n",
       "</style>\n",
       "<table border=\"1\" class=\"dataframe\">\n",
       "  <thead>\n",
       "    <tr style=\"text-align: right;\">\n",
       "      <th></th>\n",
       "      <th>country</th>\n",
       "    </tr>\n",
       "    <tr>\n",
       "      <th>country_code</th>\n",
       "      <th></th>\n",
       "    </tr>\n",
       "  </thead>\n",
       "  <tbody>\n",
       "    <tr>\n",
       "      <th>AF</th>\n",
       "      <td>Afghanistan</td>\n",
       "    </tr>\n",
       "    <tr>\n",
       "      <th>AX</th>\n",
       "      <td>Åland Islands</td>\n",
       "    </tr>\n",
       "  </tbody>\n",
       "</table>\n",
       "</div>"
      ],
      "text/plain": [
       "                    country\n",
       "country_code               \n",
       "AF              Afghanistan\n",
       "AX            Åland Islands"
      ]
     },
     "execution_count": 150,
     "metadata": {},
     "output_type": "execute_result"
    }
   ],
   "source": [
    "df_map = pd.read_csv('./data/country_code_iso2.csv', low_memory=False).rename(columns={'Name':'country', 'Code':'country_code'}).set_index('country_code')\n",
    "code_dict = df_map.to_dict()['country']\n",
    "df_map.head(2)"
   ]
  },
  {
   "cell_type": "code",
   "execution_count": 186,
   "metadata": {},
   "outputs": [
    {
     "data": {
      "image/png": "[encoded data removed]",
      "text/plain": [
       "<Figure size 1008x504 with 1 Axes>"
      ]
     },
     "metadata": {},
     "output_type": "display_data"
    }
   ],
   "source": [
    "df_scores = df_names_origin.groupby('country_origin').agg({'score':'mean'}).sort_values(by=['score'])#.reset_index(drop=False)\n",
    "df_scores = df_scores.loc[np.r_[df_scores.index[:10],df_scores.index[-10:]],:]\n",
    "df_scores.index = df_scores.reset_index(drop=False).country_origin.replace(code_dict)\n",
    "\n",
    "fig, ax = plt.subplots(1, 1, figsize=(14,7))\n",
    "df_scores.plot(ax=ax, kind='bar', stacked=False, colormap='Set2')\n",
    "ax.bar\n",
    "ax.set_xticklabels(ax.get_xticklabels(), rotation=50, ha='right')\n",
    "ax.set_xlabel('Country', fontsize=22)\n",
    "ax.set_ylabel('Average Score', fontsize=22)\n",
    "ax.set_title('Distribution of \"Origin\" Scores\\n(10 Lowest + 10 Highest)', fontsize=23, pad=15)\n",
    "ax.get_legend().remove()\n",
    "#ax.legend(#['First', 'Second', 'Third'], # you can send a list to change the legends\n",
    "#          loc='center left', bbox_to_anchor=(1., 0.5)) # bbox_to_anchor is for putting legend outside the plot\n",
    "plt.show()"
   ]
  },
  {
   "cell_type": "code",
   "execution_count": 185,
   "metadata": {},
   "outputs": [
    {
     "data": {
      "image/png": "[encoded data removed]",
      "text/plain": [
       "<Figure size 1008x504 with 1 Axes>"
      ]
     },
     "metadata": {},
     "output_type": "display_data"
    }
   ],
   "source": [
    "df_scores = df_names_eth.groupby('eth_country').agg({'score':'mean'}).sort_values(by=['score'])#.reset_index(drop=False)\n",
    "df_scores = df_scores.loc[np.r_[df_scores.index[:10],df_scores.index[-10:]],:]\n",
    "df_scores.index = df_scores.reset_index(drop=False).eth_country.replace(code_dict)\n",
    "\n",
    "fig, ax = plt.subplots(1, 1, figsize=(14,7))\n",
    "df_scores.plot(ax=ax, kind='bar', stacked=False, colormap='Set2')\n",
    "ax.bar\n",
    "ax.set_xticklabels(ax.get_xticklabels(), rotation=50, ha='right')\n",
    "ax.set_xlabel('Country', fontsize=22)\n",
    "ax.set_ylabel('Average Score', fontsize=22)\n",
    "ax.set_title('Distribution of \"Diaspora\" Scores\\n(10 Lowest + 10 Highest)', fontsize=23, pad=15)\n",
    "ax.get_legend().remove()\n",
    "#ax.legend(#['First', 'Second', 'Third'], # you can send a list to change the legends\n",
    "#          loc='center left', bbox_to_anchor=(1., 0.5)) # bbox_to_anchor is for putting legend outside the plot\n",
    "plt.show()"
   ]
  },
  {
   "cell_type": "markdown",
   "metadata": {},
   "source": [
    "# 4. Creating The final Names-Origin Dataset"
   ]
  },
  {
   "cell_type": "code",
   "execution_count": 80,
   "metadata": {},
   "outputs": [
    {
     "name": "stdout",
     "output_type": "stream",
     "text": [
      "3,229,517\n",
      "3,836,819\n"
     ]
    }
   ],
   "source": [
    "print('{:,}\\n{:,}'.format(df_names_origin.shape[0], df_names_eth.shape[0]))"
   ]
  },
  {
   "cell_type": "code",
   "execution_count": 81,
   "metadata": {},
   "outputs": [
    {
     "name": "stdout",
     "output_type": "stream",
     "text": [
      "df_names_origin: (Origin Data)\n",
      "Nb. records: 3,229,497\n"
     ]
    },
    {
     "data": {
      "text/html": [
       "<div>\n",
       "<style scoped>\n",
       "    .dataframe tbody tr th:only-of-type {\n",
       "        vertical-align: middle;\n",
       "    }\n",
       "\n",
       "    .dataframe tbody tr th {\n",
       "        vertical-align: top;\n",
       "    }\n",
       "\n",
       "    .dataframe thead th {\n",
       "        text-align: right;\n",
       "    }\n",
       "</style>\n",
       "<table border=\"1\" class=\"dataframe\">\n",
       "  <thead>\n",
       "    <tr style=\"text-align: right;\">\n",
       "      <th></th>\n",
       "      <th>indexing</th>\n",
       "      <th>name_first</th>\n",
       "      <th>name_last</th>\n",
       "      <th>name_first_har</th>\n",
       "      <th>name_last_har</th>\n",
       "      <th>country_origin</th>\n",
       "      <th>country_origin_alt</th>\n",
       "      <th>score</th>\n",
       "      <th>sub_region_origin</th>\n",
       "      <th>top_region_origin</th>\n",
       "    </tr>\n",
       "  </thead>\n",
       "  <tbody>\n",
       "    <tr>\n",
       "      <th>0</th>\n",
       "      <td>0</td>\n",
       "      <td>TADAMICHI</td>\n",
       "      <td>HATTORI</td>\n",
       "      <td>TADAMICHI</td>\n",
       "      <td>HATTORI</td>\n",
       "      <td>JP</td>\n",
       "      <td>NE</td>\n",
       "      <td>12.904708</td>\n",
       "      <td>Eastern Asia</td>\n",
       "      <td>Asia</td>\n",
       "    </tr>\n",
       "    <tr>\n",
       "      <th>1</th>\n",
       "      <td>1</td>\n",
       "      <td>VLADIMIR</td>\n",
       "      <td>POUTCHKOV</td>\n",
       "      <td>VLADIMIR</td>\n",
       "      <td>POUTCHKOV</td>\n",
       "      <td>RU</td>\n",
       "      <td>UA</td>\n",
       "      <td>3.506230</td>\n",
       "      <td>Eastern Europe</td>\n",
       "      <td>Europe</td>\n",
       "    </tr>\n",
       "    <tr>\n",
       "      <th>2</th>\n",
       "      <td>2</td>\n",
       "      <td>CORINA</td>\n",
       "      <td>KLOSS</td>\n",
       "      <td>CORINA</td>\n",
       "      <td>KLOSS</td>\n",
       "      <td>CH</td>\n",
       "      <td>DE</td>\n",
       "      <td>0.739209</td>\n",
       "      <td>Western Europe</td>\n",
       "      <td>Europe</td>\n",
       "    </tr>\n",
       "  </tbody>\n",
       "</table>\n",
       "</div>"
      ],
      "text/plain": [
       "   indexing name_first  name_last name_first_har name_last_har country_origin  \\\n",
       "0         0  TADAMICHI    HATTORI      TADAMICHI       HATTORI             JP   \n",
       "1         1   VLADIMIR  POUTCHKOV       VLADIMIR     POUTCHKOV             RU   \n",
       "2         2     CORINA      KLOSS         CORINA         KLOSS             CH   \n",
       "\n",
       "  country_origin_alt      score sub_region_origin top_region_origin  \n",
       "0                 NE  12.904708      Eastern Asia              Asia  \n",
       "1                 UA   3.506230    Eastern Europe            Europe  \n",
       "2                 DE   0.739209    Western Europe            Europe  "
      ]
     },
     "metadata": {},
     "output_type": "display_data"
    },
    {
     "name": "stdout",
     "output_type": "stream",
     "text": [
      "\n",
      "df_names_eth: (Ethnicity Data)\n",
      "Nb. records: 3,836,801\n"
     ]
    },
    {
     "data": {
      "text/html": [
       "<div>\n",
       "<style scoped>\n",
       "    .dataframe tbody tr th:only-of-type {\n",
       "        vertical-align: middle;\n",
       "    }\n",
       "\n",
       "    .dataframe tbody tr th {\n",
       "        vertical-align: top;\n",
       "    }\n",
       "\n",
       "    .dataframe thead th {\n",
       "        text-align: right;\n",
       "    }\n",
       "</style>\n",
       "<table border=\"1\" class=\"dataframe\">\n",
       "  <thead>\n",
       "    <tr style=\"text-align: right;\">\n",
       "      <th></th>\n",
       "      <th>indexing</th>\n",
       "      <th>name_first</th>\n",
       "      <th>name_last</th>\n",
       "      <th>country_code</th>\n",
       "      <th>name_first_har</th>\n",
       "      <th>name_last_har</th>\n",
       "      <th>ethnicity</th>\n",
       "      <th>ethnicity_alt</th>\n",
       "      <th>lifted</th>\n",
       "      <th>score</th>\n",
       "      <th>eth_country</th>\n",
       "    </tr>\n",
       "  </thead>\n",
       "  <tbody>\n",
       "    <tr>\n",
       "      <th>0</th>\n",
       "      <td>0</td>\n",
       "      <td>SARA</td>\n",
       "      <td>MARTINSEN</td>\n",
       "      <td>DK</td>\n",
       "      <td>SARA</td>\n",
       "      <td>MARTINSEN</td>\n",
       "      <td>Norwegian</td>\n",
       "      <td>Danish</td>\n",
       "      <td>True</td>\n",
       "      <td>1.856552</td>\n",
       "      <td>NO</td>\n",
       "    </tr>\n",
       "    <tr>\n",
       "      <th>1</th>\n",
       "      <td>1</td>\n",
       "      <td>MARIE</td>\n",
       "      <td>TURKINGTON</td>\n",
       "      <td>IE</td>\n",
       "      <td>MARIE</td>\n",
       "      <td>TURKINGTON</td>\n",
       "      <td>Irish</td>\n",
       "      <td>British</td>\n",
       "      <td>False</td>\n",
       "      <td>13.720753</td>\n",
       "      <td>IE</td>\n",
       "    </tr>\n",
       "    <tr>\n",
       "      <th>2</th>\n",
       "      <td>2</td>\n",
       "      <td>KJELL</td>\n",
       "      <td>JACOBSEN</td>\n",
       "      <td>NO</td>\n",
       "      <td>KJELL</td>\n",
       "      <td>JACOBSEN</td>\n",
       "      <td>Danish</td>\n",
       "      <td>Norwegian</td>\n",
       "      <td>False</td>\n",
       "      <td>25.175981</td>\n",
       "      <td>DK</td>\n",
       "    </tr>\n",
       "  </tbody>\n",
       "</table>\n",
       "</div>"
      ],
      "text/plain": [
       "   indexing name_first   name_last country_code name_first_har name_last_har  \\\n",
       "0         0       SARA   MARTINSEN           DK           SARA     MARTINSEN   \n",
       "1         1      MARIE  TURKINGTON           IE          MARIE    TURKINGTON   \n",
       "2         2      KJELL    JACOBSEN           NO          KJELL      JACOBSEN   \n",
       "\n",
       "   ethnicity ethnicity_alt lifted      score eth_country  \n",
       "0  Norwegian        Danish   True   1.856552          NO  \n",
       "1      Irish       British  False  13.720753          IE  \n",
       "2     Danish     Norwegian  False  25.175981          DK  "
      ]
     },
     "metadata": {},
     "output_type": "display_data"
    }
   ],
   "source": [
    "# Loading \"Origin\" and \"Diaspora\" data\n",
    "df_names_origin = pd.read_csv('./data_namsor/origin_processed.csv', low_memory=False).rename(columns={'index':'indexing'})\n",
    "df_names_dias = pd.read_csv('./data_namsor/diaspora_processed.csv', low_memory=False)\n",
    "\n",
    "# Removing duplicates\n",
    "df_names_origin = df_names_origin.drop_duplicates(subset=['name_first', 'name_last'])\n",
    "df_names_dias = df_names_dias.drop_duplicates(subset=['name_first', 'name_last', 'country_code'])\n",
    "\n",
    "print('df_names_origin: (Origin Data)')\n",
    "print('Nb. records: {:,}'.format(df_names_origin.shape[0]))\n",
    "display(df_names_origin.head(3))\n",
    "\n",
    "print('\\ndf_names_eth: (Ethnicity Data)')\n",
    "print('Nb. records: {:,}'.format(df_names_dias.shape[0]))\n",
    "display(df_names_dias.head(3))"
   ]
  },
  {
   "cell_type": "markdown",
   "metadata": {},
   "source": [
    "According the \"NamSor\" response to our question regarding the metling-pot countries, we have the following flags for the melting countries:  "
   ]
  },
  {
   "cell_type": "code",
   "execution_count": 58,
   "metadata": {},
   "outputs": [
    {
     "name": "stdout",
     "output_type": "stream",
     "text": [
      "Number of records: 248\n"
     ]
    },
    {
     "data": {
      "text/html": [
       "<div>\n",
       "<style scoped>\n",
       "    .dataframe tbody tr th:only-of-type {\n",
       "        vertical-align: middle;\n",
       "    }\n",
       "\n",
       "    .dataframe tbody tr th {\n",
       "        vertical-align: top;\n",
       "    }\n",
       "\n",
       "    .dataframe thead th {\n",
       "        text-align: right;\n",
       "    }\n",
       "</style>\n",
       "<table border=\"1\" class=\"dataframe\">\n",
       "  <thead>\n",
       "    <tr style=\"text-align: right;\">\n",
       "      <th></th>\n",
       "      <th>country_code</th>\n",
       "      <th>is_origin</th>\n",
       "    </tr>\n",
       "  </thead>\n",
       "  <tbody>\n",
       "    <tr>\n",
       "      <th>0</th>\n",
       "      <td>AF</td>\n",
       "      <td>True</td>\n",
       "    </tr>\n",
       "    <tr>\n",
       "      <th>1</th>\n",
       "      <td>AL</td>\n",
       "      <td>True</td>\n",
       "    </tr>\n",
       "  </tbody>\n",
       "</table>\n",
       "</div>"
      ],
      "text/plain": [
       "  country_code  is_origin\n",
       "0           AF       True\n",
       "1           AL       True"
      ]
     },
     "execution_count": 58,
     "metadata": {},
     "output_type": "execute_result"
    }
   ],
   "source": [
    "df_melt = pd.read_excel('./data/namsor_melting_pots.xlsx', sheet_name=0, header=0, keep_default_na=False, na_values=' ')\\\n",
    "            .rename(columns={'countryISO2': 'country_code', 'classifyingOrigin_Or_MeltingPot':'is_origin'})\n",
    "print('Number of records: {:,}'.format(df_melt.shape[0]))\n",
    "df_melt.head(2)"
   ]
  },
  {
   "cell_type": "markdown",
   "metadata": {},
   "source": [
    "Another implication of this list is that the response of \"Origin\" class only contains countries which have a `True` flag in **\"is_origin\"** feature.  \n",
    "We have double checked this with the response that we got from our dataset."
   ]
  },
  {
   "cell_type": "code",
   "execution_count": 62,
   "metadata": {},
   "outputs": [
    {
     "data": {
      "text/html": [
       "<div>\n",
       "<style scoped>\n",
       "    .dataframe tbody tr th:only-of-type {\n",
       "        vertical-align: middle;\n",
       "    }\n",
       "\n",
       "    .dataframe tbody tr th {\n",
       "        vertical-align: top;\n",
       "    }\n",
       "\n",
       "    .dataframe thead th {\n",
       "        text-align: right;\n",
       "    }\n",
       "</style>\n",
       "<table border=\"1\" class=\"dataframe\">\n",
       "  <thead>\n",
       "    <tr style=\"text-align: right;\">\n",
       "      <th></th>\n",
       "      <th>country_code</th>\n",
       "      <th>is_origin</th>\n",
       "      <th>country</th>\n",
       "    </tr>\n",
       "  </thead>\n",
       "  <tbody>\n",
       "    <tr>\n",
       "      <th>0</th>\n",
       "      <td>AF</td>\n",
       "      <td>True</td>\n",
       "      <td>Afghanistan</td>\n",
       "    </tr>\n",
       "    <tr>\n",
       "      <th>1</th>\n",
       "      <td>AL</td>\n",
       "      <td>True</td>\n",
       "      <td>Albania</td>\n",
       "    </tr>\n",
       "  </tbody>\n",
       "</table>\n",
       "</div>"
      ],
      "text/plain": [
       "  country_code  is_origin      country\n",
       "0           AF       True  Afghanistan\n",
       "1           AL       True      Albania"
      ]
     },
     "metadata": {},
     "output_type": "display_data"
    },
    {
     "name": "stdout",
     "output_type": "stream",
     "text": [
      "\n",
      "\n",
      "The list of countries which have a \"True\" flag but could be found in the response of \"origin\" methos:\n"
     ]
    },
    {
     "data": {
      "text/html": [
       "<div>\n",
       "<style scoped>\n",
       "    .dataframe tbody tr th:only-of-type {\n",
       "        vertical-align: middle;\n",
       "    }\n",
       "\n",
       "    .dataframe tbody tr th {\n",
       "        vertical-align: top;\n",
       "    }\n",
       "\n",
       "    .dataframe thead th {\n",
       "        text-align: right;\n",
       "    }\n",
       "</style>\n",
       "<table border=\"1\" class=\"dataframe\">\n",
       "  <thead>\n",
       "    <tr style=\"text-align: right;\">\n",
       "      <th></th>\n",
       "      <th>country_code</th>\n",
       "      <th>is_origin</th>\n",
       "      <th>country</th>\n",
       "    </tr>\n",
       "  </thead>\n",
       "  <tbody>\n",
       "  </tbody>\n",
       "</table>\n",
       "</div>"
      ],
      "text/plain": [
       "Empty DataFrame\n",
       "Columns: [country_code, is_origin, country]\n",
       "Index: []"
      ]
     },
     "execution_count": 62,
     "metadata": {},
     "output_type": "execute_result"
    }
   ],
   "source": [
    "# Adding Name of the Countries\n",
    "df_map = pd.read_csv('./data/country_code_iso2.csv', low_memory=False, keep_default_na=False, na_values=' ')\\\n",
    "           .rename(columns={'Name':'country', 'Code':'country_code'})\n",
    "df_melt['country'] = df_melt.country_code.replace(df_map.set_index('country_code').to_dict()['country']).copy()\n",
    "display(df_melt.head(2))\n",
    "\n",
    "## Checking Whether there is any \"False\" flag in the response of \"origin\" class\n",
    "# 1: we get the list of countries that we got from \"origin\" method\n",
    "country_o = df_names_origin.country_origin.unique()\n",
    "# 2: we check whether there any countries in this list with \"False\" flag\n",
    "print('\\n\\nThe list of countries which have a \"True\" flag but could be found in the response of \"origin\" methos:')\n",
    "df_melt[(df_melt.country_code.isin(country_o))&(df_melt.is_origin==False)]"
   ]
  },
  {
   "cell_type": "markdown",
   "metadata": {},
   "source": [
    "The above result confirm our assumption.\n",
    "\n",
    "**Now, we first load the names data:**"
   ]
  },
  {
   "cell_type": "code",
   "execution_count": 137,
   "metadata": {},
   "outputs": [
    {
     "name": "stdout",
     "output_type": "stream",
     "text": [
      "Number of rows: 3,836,801\n"
     ]
    },
    {
     "data": {
      "text/html": [
       "<div>\n",
       "<style scoped>\n",
       "    .dataframe tbody tr th:only-of-type {\n",
       "        vertical-align: middle;\n",
       "    }\n",
       "\n",
       "    .dataframe tbody tr th {\n",
       "        vertical-align: top;\n",
       "    }\n",
       "\n",
       "    .dataframe thead th {\n",
       "        text-align: right;\n",
       "    }\n",
       "</style>\n",
       "<table border=\"1\" class=\"dataframe\">\n",
       "  <thead>\n",
       "    <tr style=\"text-align: right;\">\n",
       "      <th></th>\n",
       "      <th>indexing</th>\n",
       "      <th>name_first</th>\n",
       "      <th>name_last</th>\n",
       "      <th>country_code</th>\n",
       "      <th>name_first_har</th>\n",
       "      <th>name_last_har</th>\n",
       "    </tr>\n",
       "  </thead>\n",
       "  <tbody>\n",
       "    <tr>\n",
       "      <th>0</th>\n",
       "      <td>0</td>\n",
       "      <td>SARA</td>\n",
       "      <td>MARTINSEN</td>\n",
       "      <td>DK</td>\n",
       "      <td>SARA</td>\n",
       "      <td>MARTINSEN</td>\n",
       "    </tr>\n",
       "    <tr>\n",
       "      <th>1</th>\n",
       "      <td>1</td>\n",
       "      <td>MARIE</td>\n",
       "      <td>TURKINGTON</td>\n",
       "      <td>IE</td>\n",
       "      <td>MARIE</td>\n",
       "      <td>TURKINGTON</td>\n",
       "    </tr>\n",
       "  </tbody>\n",
       "</table>\n",
       "</div>"
      ],
      "text/plain": [
       "   indexing name_first   name_last country_code name_first_har name_last_har\n",
       "0         0       SARA   MARTINSEN           DK           SARA     MARTINSEN\n",
       "1         1      MARIE  TURKINGTON           IE          MARIE    TURKINGTON"
      ]
     },
     "execution_count": 137,
     "metadata": {},
     "output_type": "execute_result"
    }
   ],
   "source": [
    "# Loading Names with country Codes\n",
    "df_names = pd.read_csv('./data_namsor/raw_name_triples.csv', low_memory=False)\n",
    "df_names= df_names.drop_duplicates()\n",
    "print('Number of rows: {:,}'.format(df_names.shape[0]))\n",
    "\n",
    "# Handling NaN values\n",
    "df_names['name_first_har'] = df_names.name_first.copy()\n",
    "df_names['name_last_har'] = df_names.name_last.copy()\n",
    "df_names.name_first_har[df_names.name_first_har.isna()] = ''\n",
    "df_names.name_last_har[df_names.name_last_har.isna()] = ''\n",
    "\n",
    "# Replacing special characters\n",
    "df_names.name_first_har = df_names.name_first_har.str.replace(r'[\\*\\@\\#\\!\\%\\^\\&\\(\\)\\$\\.\\,]+', '', regex=True)\n",
    "df_names.name_last_har = df_names.name_last_har.str.replace(r'[\\*\\@\\#\\!\\%\\^\\&\\(\\)\\$\\.\\,]+', '', regex=True)\n",
    "\n",
    "df_names = df_names.reset_index(drop=False).rename(columns={'index':'indexing'})\n",
    "df_names.head(2)"
   ]
  },
  {
   "cell_type": "markdown",
   "metadata": {},
   "source": [
    "**We split the names into three dataframes:**\n",
    "1. `df_names_1` : Names that have a country code, which is a origin country\n",
    "2. `df_names_2` : Names that have a country code, which is a melting-pot country\n",
    "3. `df_names_3` : Names which have not a country code associated with them"
   ]
  },
  {
   "cell_type": "code",
   "execution_count": 138,
   "metadata": {},
   "outputs": [
    {
     "name": "stdout",
     "output_type": "stream",
     "text": [
      "Sum of the records in the splitted dataframes: 3,836,801\tvs.\tNb. records in `df_names`: 3,836,801\n"
     ]
    }
   ],
   "source": [
    "# List of countries with \"True\" Flag\n",
    "country_t = df_melt[df_melt.is_origin==True]['country_code']\n",
    "# Splitting the data set\n",
    "df_names_1 = df_names[(df_names.country_code.isin(country_t))&(df_names.country_code.notna())]\n",
    "df_names_2 = df_names[(~df_names.country_code.isin(country_t))&(df_names.country_code.notna())]\n",
    "df_names_3 = df_names[df_names.country_code.isna()]\n",
    "\n",
    "# Double-checking the validity of the splitted dataframes\n",
    "print('Sum of the records in the splitted dataframes: {:,}\\tvs.\\tNb. records in `df_names`: {:,}'\n",
    "      .format(df_names_1.shape[0]+df_names_2.shape[0]+df_names_3.shape[0], df_names.shape[0]))"
   ]
  },
  {
   "cell_type": "markdown",
   "metadata": {},
   "source": [
    "Now, for `df_names_1` and `df_names_3` we use results of `Origin` method as its country of origin. While for `df_names_2` we use the result of `Dispora` method."
   ]
  },
  {
   "cell_type": "code",
   "execution_count": 139,
   "metadata": {},
   "outputs": [
    {
     "name": "stdout",
     "output_type": "stream",
     "text": [
      "Nb. records in `df_names_1`: \tBefore merging 1,776,959\tvs.\tAfter merging 1,776,959\n",
      "Nb. records in `df_names_2`: \tBefore merging 1,621,120\tvs.\tAfter merging 1,621,120\n",
      "Nb. records in `df_names_3`: \tBefore merging 438,722\t\tvs.\tAfter merging 438,722\n",
      "\n"
     ]
    },
    {
     "data": {
      "text/html": [
       "<div>\n",
       "<style scoped>\n",
       "    .dataframe tbody tr th:only-of-type {\n",
       "        vertical-align: middle;\n",
       "    }\n",
       "\n",
       "    .dataframe tbody tr th {\n",
       "        vertical-align: top;\n",
       "    }\n",
       "\n",
       "    .dataframe thead th {\n",
       "        text-align: right;\n",
       "    }\n",
       "</style>\n",
       "<table border=\"1\" class=\"dataframe\">\n",
       "  <thead>\n",
       "    <tr style=\"text-align: right;\">\n",
       "      <th></th>\n",
       "      <th>indexing</th>\n",
       "      <th>name_first</th>\n",
       "      <th>name_last</th>\n",
       "      <th>country_code</th>\n",
       "      <th>name_first_har</th>\n",
       "      <th>name_last_har</th>\n",
       "      <th>country_origin</th>\n",
       "    </tr>\n",
       "  </thead>\n",
       "  <tbody>\n",
       "    <tr>\n",
       "      <th>0</th>\n",
       "      <td>0</td>\n",
       "      <td>SARA</td>\n",
       "      <td>MARTINSEN</td>\n",
       "      <td>DK</td>\n",
       "      <td>SARA</td>\n",
       "      <td>MARTINSEN</td>\n",
       "      <td>DK</td>\n",
       "    </tr>\n",
       "    <tr>\n",
       "      <th>1</th>\n",
       "      <td>1</td>\n",
       "      <td>MARIE</td>\n",
       "      <td>TURKINGTON</td>\n",
       "      <td>IE</td>\n",
       "      <td>MARIE</td>\n",
       "      <td>TURKINGTON</td>\n",
       "      <td>GB</td>\n",
       "    </tr>\n",
       "  </tbody>\n",
       "</table>\n",
       "</div>"
      ],
      "text/plain": [
       "   indexing name_first   name_last country_code name_first_har name_last_har  \\\n",
       "0         0       SARA   MARTINSEN           DK           SARA     MARTINSEN   \n",
       "1         1      MARIE  TURKINGTON           IE          MARIE    TURKINGTON   \n",
       "\n",
       "  country_origin  \n",
       "0             DK  \n",
       "1             GB  "
      ]
     },
     "metadata": {},
     "output_type": "display_data"
    },
    {
     "data": {
      "text/html": [
       "<div>\n",
       "<style scoped>\n",
       "    .dataframe tbody tr th:only-of-type {\n",
       "        vertical-align: middle;\n",
       "    }\n",
       "\n",
       "    .dataframe tbody tr th {\n",
       "        vertical-align: top;\n",
       "    }\n",
       "\n",
       "    .dataframe thead th {\n",
       "        text-align: right;\n",
       "    }\n",
       "</style>\n",
       "<table border=\"1\" class=\"dataframe\">\n",
       "  <thead>\n",
       "    <tr style=\"text-align: right;\">\n",
       "      <th></th>\n",
       "      <th>indexing</th>\n",
       "      <th>name_first</th>\n",
       "      <th>name_last</th>\n",
       "      <th>country_code</th>\n",
       "      <th>name_first_har</th>\n",
       "      <th>name_last_har</th>\n",
       "      <th>country_origin</th>\n",
       "    </tr>\n",
       "  </thead>\n",
       "  <tbody>\n",
       "    <tr>\n",
       "      <th>0</th>\n",
       "      <td>5</td>\n",
       "      <td>JOSE</td>\n",
       "      <td>MALMONGE</td>\n",
       "      <td>BR</td>\n",
       "      <td>JOSE</td>\n",
       "      <td>MALMONGE</td>\n",
       "      <td>PT</td>\n",
       "    </tr>\n",
       "    <tr>\n",
       "      <th>1</th>\n",
       "      <td>7</td>\n",
       "      <td>YEW</td>\n",
       "      <td>MUI</td>\n",
       "      <td>SG</td>\n",
       "      <td>YEW</td>\n",
       "      <td>MUI</td>\n",
       "      <td>CN</td>\n",
       "    </tr>\n",
       "  </tbody>\n",
       "</table>\n",
       "</div>"
      ],
      "text/plain": [
       "   indexing name_first name_last country_code name_first_har name_last_har  \\\n",
       "0         5       JOSE  MALMONGE           BR           JOSE      MALMONGE   \n",
       "1         7        YEW       MUI           SG            YEW           MUI   \n",
       "\n",
       "  country_origin  \n",
       "0             PT  \n",
       "1             CN  "
      ]
     },
     "metadata": {},
     "output_type": "display_data"
    },
    {
     "data": {
      "text/html": [
       "<div>\n",
       "<style scoped>\n",
       "    .dataframe tbody tr th:only-of-type {\n",
       "        vertical-align: middle;\n",
       "    }\n",
       "\n",
       "    .dataframe tbody tr th {\n",
       "        vertical-align: top;\n",
       "    }\n",
       "\n",
       "    .dataframe thead th {\n",
       "        text-align: right;\n",
       "    }\n",
       "</style>\n",
       "<table border=\"1\" class=\"dataframe\">\n",
       "  <thead>\n",
       "    <tr style=\"text-align: right;\">\n",
       "      <th></th>\n",
       "      <th>indexing</th>\n",
       "      <th>name_first</th>\n",
       "      <th>name_last</th>\n",
       "      <th>country_code</th>\n",
       "      <th>name_first_har</th>\n",
       "      <th>name_last_har</th>\n",
       "      <th>country_origin</th>\n",
       "    </tr>\n",
       "  </thead>\n",
       "  <tbody>\n",
       "    <tr>\n",
       "      <th>0</th>\n",
       "      <td>1095</td>\n",
       "      <td>FRANK</td>\n",
       "      <td>KERNSTOCK</td>\n",
       "      <td>NaN</td>\n",
       "      <td>FRANK</td>\n",
       "      <td>KERNSTOCK</td>\n",
       "      <td>DE</td>\n",
       "    </tr>\n",
       "    <tr>\n",
       "      <th>1</th>\n",
       "      <td>6084</td>\n",
       "      <td>CORNELIUS</td>\n",
       "      <td>POWELL</td>\n",
       "      <td>NaN</td>\n",
       "      <td>CORNELIUS</td>\n",
       "      <td>POWELL</td>\n",
       "      <td>GB</td>\n",
       "    </tr>\n",
       "  </tbody>\n",
       "</table>\n",
       "</div>"
      ],
      "text/plain": [
       "   indexing name_first  name_last country_code name_first_har name_last_har  \\\n",
       "0      1095      FRANK  KERNSTOCK          NaN          FRANK     KERNSTOCK   \n",
       "1      6084  CORNELIUS     POWELL          NaN      CORNELIUS        POWELL   \n",
       "\n",
       "  country_origin  \n",
       "0             DE  \n",
       "1             GB  "
      ]
     },
     "metadata": {},
     "output_type": "display_data"
    }
   ],
   "source": [
    "#######################\n",
    "# Merging `df_names_1`#\n",
    "shape_ = df_names_1.shape[0]\n",
    "df_names_1 = pd.merge(df_names_1, df_names_origin.drop(columns=['indexing', 'name_first_har', 'name_last_har', 'country_origin_alt',\n",
    "                                                                'score','sub_region_origin', 'top_region_origin']), \n",
    "                      on=['name_first', 'name_last'], suffixes=('', '_2'))\n",
    "print('Nb. records in `df_names_1`: \\tBefore merging {:,}\\tvs.\\tAfter merging {:,}'.format(shape_, df_names_1.shape[0]))\n",
    "#######################\n",
    "# Merging `df_names_2`#\n",
    "shape_ = df_names_2.shape[0]\n",
    "df_names_2 = pd.merge(df_names_2, df_names_dias.drop(columns=['indexing', 'name_first_har', 'name_last_har', 'ethnicity',\n",
    "                                                              'ethnicity_alt', 'lifted', 'score']).rename(columns={'eth_country':'country_origin'}), \n",
    "                      on=['name_first', 'name_last', 'country_code'], suffixes=('', '_2'))\n",
    "print('Nb. records in `df_names_2`: \\tBefore merging {:,}\\tvs.\\tAfter merging {:,}'.format(shape_, df_names_2.shape[0]))\n",
    "#######################\n",
    "# Merging `df_names_3`#\n",
    "shape_ = df_names_3.shape[0]\n",
    "df_names_3 = pd.merge(df_names_3, df_names_origin.drop(columns=['indexing', 'name_first_har', 'name_last_har', 'country_origin_alt',\n",
    "                                                                'score','sub_region_origin', 'top_region_origin']), \n",
    "                      on=['name_first', 'name_last'], suffixes=('', '_2'))\n",
    "print('Nb. records in `df_names_3`: \\tBefore merging {:,}\\t\\tvs.\\tAfter merging {:,}\\n'.format(shape_, df_names_3.shape[0]))\n",
    "\n",
    "display(df_names_1.head(2))\n",
    "display(df_names_2.head(2))\n",
    "display(df_names_3.head(2))"
   ]
  },
  {
   "cell_type": "code",
   "execution_count": 140,
   "metadata": {},
   "outputs": [
    {
     "name": "stdout",
     "output_type": "stream",
     "text": [
      "Nb. records in the concatenated dataframe:\t\t3,836,801 \tvs.\n",
      "Nb. records in the initial `df_names` dataframe:\t3,836,801\n",
      "\n"
     ]
    },
    {
     "data": {
      "text/html": [
       "<div>\n",
       "<style scoped>\n",
       "    .dataframe tbody tr th:only-of-type {\n",
       "        vertical-align: middle;\n",
       "    }\n",
       "\n",
       "    .dataframe tbody tr th {\n",
       "        vertical-align: top;\n",
       "    }\n",
       "\n",
       "    .dataframe thead th {\n",
       "        text-align: right;\n",
       "    }\n",
       "</style>\n",
       "<table border=\"1\" class=\"dataframe\">\n",
       "  <thead>\n",
       "    <tr style=\"text-align: right;\">\n",
       "      <th></th>\n",
       "      <th>indexing</th>\n",
       "      <th>name_first</th>\n",
       "      <th>name_last</th>\n",
       "      <th>country_code</th>\n",
       "      <th>name_first_har</th>\n",
       "      <th>name_last_har</th>\n",
       "      <th>country_origin</th>\n",
       "    </tr>\n",
       "  </thead>\n",
       "  <tbody>\n",
       "    <tr>\n",
       "      <th>0</th>\n",
       "      <td>0</td>\n",
       "      <td>SARA</td>\n",
       "      <td>MARTINSEN</td>\n",
       "      <td>DK</td>\n",
       "      <td>SARA</td>\n",
       "      <td>MARTINSEN</td>\n",
       "      <td>DK</td>\n",
       "    </tr>\n",
       "    <tr>\n",
       "      <th>1</th>\n",
       "      <td>1</td>\n",
       "      <td>MARIE</td>\n",
       "      <td>TURKINGTON</td>\n",
       "      <td>IE</td>\n",
       "      <td>MARIE</td>\n",
       "      <td>TURKINGTON</td>\n",
       "      <td>GB</td>\n",
       "    </tr>\n",
       "    <tr>\n",
       "      <th>2</th>\n",
       "      <td>2</td>\n",
       "      <td>KJELL</td>\n",
       "      <td>JACOBSEN</td>\n",
       "      <td>NO</td>\n",
       "      <td>KJELL</td>\n",
       "      <td>JACOBSEN</td>\n",
       "      <td>NO</td>\n",
       "    </tr>\n",
       "  </tbody>\n",
       "</table>\n",
       "</div>"
      ],
      "text/plain": [
       "   indexing name_first   name_last country_code name_first_har name_last_har  \\\n",
       "0         0       SARA   MARTINSEN           DK           SARA     MARTINSEN   \n",
       "1         1      MARIE  TURKINGTON           IE          MARIE    TURKINGTON   \n",
       "2         2      KJELL    JACOBSEN           NO          KJELL      JACOBSEN   \n",
       "\n",
       "  country_origin  \n",
       "0             DK  \n",
       "1             GB  \n",
       "2             NO  "
      ]
     },
     "execution_count": 140,
     "metadata": {},
     "output_type": "execute_result"
    }
   ],
   "source": [
    "# Concatenating the results together\n",
    "df_origin_final = pd.concat([df_names_1, df_names_2, df_names_3], axis=0, ignore_index=True).sort_values(by=['indexing']).reset_index(drop=True)\n",
    "\n",
    "print('Nb. records in the concatenated dataframe:\\t\\t{:,} \\tvs.\\nNb. records in the initial `df_names` dataframe:\\t{:,}\\n'\n",
    "      .format(df_origin_final.shape[0], df_names.shape[0]))\n",
    "df_origin_final.head(3)"
   ]
  },
  {
   "cell_type": "code",
   "execution_count": 141,
   "metadata": {},
   "outputs": [
    {
     "name": "stdout",
     "output_type": "stream",
     "text": [
      "Checking whether there is any duplicated name of countries:\n"
     ]
    },
    {
     "data": {
      "text/html": [
       "<div>\n",
       "<style scoped>\n",
       "    .dataframe tbody tr th:only-of-type {\n",
       "        vertical-align: middle;\n",
       "    }\n",
       "\n",
       "    .dataframe tbody tr th {\n",
       "        vertical-align: top;\n",
       "    }\n",
       "\n",
       "    .dataframe thead th {\n",
       "        text-align: right;\n",
       "    }\n",
       "</style>\n",
       "<table border=\"1\" class=\"dataframe\">\n",
       "  <thead>\n",
       "    <tr style=\"text-align: right;\">\n",
       "      <th></th>\n",
       "      <th>country_origin</th>\n",
       "      <th>sub_region_origin</th>\n",
       "      <th>top_region_origin</th>\n",
       "    </tr>\n",
       "  </thead>\n",
       "  <tbody>\n",
       "  </tbody>\n",
       "</table>\n",
       "</div>"
      ],
      "text/plain": [
       "Empty DataFrame\n",
       "Columns: [country_origin, sub_region_origin, top_region_origin]\n",
       "Index: []"
      ]
     },
     "metadata": {},
     "output_type": "display_data"
    },
    {
     "name": "stdout",
     "output_type": "stream",
     "text": [
      "\n",
      "\n",
      "Nb. rows: 3,836,801\n"
     ]
    },
    {
     "data": {
      "text/html": [
       "<div>\n",
       "<style scoped>\n",
       "    .dataframe tbody tr th:only-of-type {\n",
       "        vertical-align: middle;\n",
       "    }\n",
       "\n",
       "    .dataframe tbody tr th {\n",
       "        vertical-align: top;\n",
       "    }\n",
       "\n",
       "    .dataframe thead th {\n",
       "        text-align: right;\n",
       "    }\n",
       "</style>\n",
       "<table border=\"1\" class=\"dataframe\">\n",
       "  <thead>\n",
       "    <tr style=\"text-align: right;\">\n",
       "      <th></th>\n",
       "      <th>indexing</th>\n",
       "      <th>name_first</th>\n",
       "      <th>name_last</th>\n",
       "      <th>country_code</th>\n",
       "      <th>name_first_har</th>\n",
       "      <th>name_last_har</th>\n",
       "      <th>country_origin</th>\n",
       "      <th>sub_region_origin</th>\n",
       "      <th>top_region_origin</th>\n",
       "    </tr>\n",
       "  </thead>\n",
       "  <tbody>\n",
       "    <tr>\n",
       "      <th>0</th>\n",
       "      <td>0</td>\n",
       "      <td>SARA</td>\n",
       "      <td>MARTINSEN</td>\n",
       "      <td>DK</td>\n",
       "      <td>SARA</td>\n",
       "      <td>MARTINSEN</td>\n",
       "      <td>DK</td>\n",
       "      <td>Northern Europe</td>\n",
       "      <td>Europe</td>\n",
       "    </tr>\n",
       "    <tr>\n",
       "      <th>1</th>\n",
       "      <td>1</td>\n",
       "      <td>MARIE</td>\n",
       "      <td>TURKINGTON</td>\n",
       "      <td>IE</td>\n",
       "      <td>MARIE</td>\n",
       "      <td>TURKINGTON</td>\n",
       "      <td>GB</td>\n",
       "      <td>Northern Europe</td>\n",
       "      <td>Europe</td>\n",
       "    </tr>\n",
       "  </tbody>\n",
       "</table>\n",
       "</div>"
      ],
      "text/plain": [
       "   indexing name_first   name_last country_code name_first_har name_last_har  \\\n",
       "0         0       SARA   MARTINSEN           DK           SARA     MARTINSEN   \n",
       "1         1      MARIE  TURKINGTON           IE          MARIE    TURKINGTON   \n",
       "\n",
       "  country_origin sub_region_origin top_region_origin  \n",
       "0             DK   Northern Europe            Europe  \n",
       "1             GB   Northern Europe            Europe  "
      ]
     },
     "execution_count": 141,
     "metadata": {},
     "output_type": "execute_result"
    }
   ],
   "source": [
    "## Mapping country of origin to different sub regions\n",
    "country_region = df_names_origin[['country_origin', 'sub_region_origin', 'top_region_origin']]\\\n",
    "                    .drop_duplicates().sort_values(by=['country_origin'])#.set_index('country_origin')\n",
    "print('Checking whether there is any duplicated name of countries:')\n",
    "display(country_region[country_region.duplicated(subset=['country_origin'], keep=False)])\n",
    "\n",
    "df_origin_final = pd.merge(df_origin_final, country_region, on=['country_origin'], how='left')\n",
    "print(\"\\n\\nNb. rows: {:,}\".format(df_origin_final.shape[0]))\n",
    "df_origin_final.head(2)"
   ]
  },
  {
   "cell_type": "code",
   "execution_count": 160,
   "metadata": {},
   "outputs": [],
   "source": [
    "# Saving the resulted dataframe\n",
    "#df_origin_final.to_csv('./data_namsor/final_origin_processed.csv', encoding='utf-8', index=False)"
   ]
  },
  {
   "cell_type": "markdown",
   "metadata": {},
   "source": [
    "As a final check, we wanted to see whether the `Disapora` method has returned any of \"melting-pot\" countries as a response:"
   ]
  },
  {
   "cell_type": "code",
   "execution_count": 151,
   "metadata": {},
   "outputs": [
    {
     "data": {
      "text/html": [
       "<div>\n",
       "<style scoped>\n",
       "    .dataframe tbody tr th:only-of-type {\n",
       "        vertical-align: middle;\n",
       "    }\n",
       "\n",
       "    .dataframe tbody tr th {\n",
       "        vertical-align: top;\n",
       "    }\n",
       "\n",
       "    .dataframe thead th {\n",
       "        text-align: right;\n",
       "    }\n",
       "</style>\n",
       "<table border=\"1\" class=\"dataframe\">\n",
       "  <thead>\n",
       "    <tr style=\"text-align: right;\">\n",
       "      <th></th>\n",
       "      <th>country_code</th>\n",
       "    </tr>\n",
       "  </thead>\n",
       "  <tbody>\n",
       "  </tbody>\n",
       "</table>\n",
       "</div>"
      ],
      "text/plain": [
       "Empty DataFrame\n",
       "Columns: [country_code]\n",
       "Index: []"
      ]
     },
     "execution_count": 151,
     "metadata": {},
     "output_type": "execute_result"
    }
   ],
   "source": [
    "country_df = pd.DataFrame(dict(country_code=df_origin_final[df_origin_final.country_origin.notna()]['country_origin'].unique()))\n",
    "country_df[~country_df.country_code.isin(country_t)]"
   ]
  },
  {
   "cell_type": "markdown",
   "metadata": {},
   "source": [
    "Which is not the case, as the above result confirms."
   ]
  },
  {
   "cell_type": "markdown",
   "metadata": {},
   "source": [
    "# 5. Creating the BigQuery Table"
   ]
  },
  {
   "cell_type": "code",
   "execution_count": null,
   "metadata": {},
   "outputs": [],
   "source": [
    "### Creating the tables' Schema\n",
    "schema_Name_org = [\n",
    "    bigquery.SchemaField('index', 'INTEGER', 'NULLABLE', None, ()),\n",
    "    bigquery.SchemaField('name_first', 'STRING', 'NULLABLE', None, ()),\n",
    "    bigquery.SchemaField('name_last', 'STRING', 'NULLABLE', None, ()),\n",
    "    bigquery.SchemaField('country_code', 'STRING', 'NULLABLE', None, ()),\n",
    "    bigquery.SchemaField('name_first_har', 'STRING', 'NULLABLE', None, ()),\n",
    "    bigquery.SchemaField('name_last_har', 'STRING', 'NULLABLE', None, ()),\n",
    "    bigquery.SchemaField('country_origin', 'STRING', 'NULLABLE', None, ()),\n",
    "    bigquery.SchemaField('sub_region_origin', 'STRING', 'NULLABLE', None, ()),\n",
    "    bigquery.SchemaField('top_region_origin', 'STRING', 'NULLABLE', None, ())\n",
    "]"
   ]
  },
  {
   "cell_type": "code",
   "execution_count": null,
   "metadata": {},
   "outputs": [],
   "source": [
    "### Initializing the BigQuery Client and Job Config\n",
    "client = bigquery.Client()\n",
    "\n",
    "job_config = bigquery.LoadJobConfig()\n",
    "job_config.skip_leading_rows = 1\n",
    "job_config.max_bad_records = 300\n",
    "job_config.source_format = bigquery.SourceFormat.CSV\n",
    "job_config.schema = schema_Name_org\n",
    "dataset_ref = client.dataset('final_dataset')"
   ]
  },
  {
   "cell_type": "code",
   "execution_count": null,
   "metadata": {},
   "outputs": [],
   "source": [
    "table_ref = dataset_ref.table('16_name_origin')\n",
    "load_job = client.load_table_from_uri(\n",
    "        source_uris='gs://uspto-data/final_dataset/final_origin_processed.csv',\n",
    "        destination=table_ref,\n",
    "        # job_id=job_id,\n",
    "        job_id_prefix='lgs-',\n",
    "        job_config=job_config,\n",
    "    )\n",
    "load_job.result()"
   ]
  },
  {
   "cell_type": "markdown",
   "metadata": {},
   "source": [
    "# 5. Final Notes"
   ]
  },
  {
   "cell_type": "markdown",
   "metadata": {},
   "source": [
    "In the end, we found out that since \"Pandas\" consider **\"NA\"** as `Null` when it reads a **csv** file, we have lost the information for the names that are from **Nambia**, which has a country code (ISO2) of `NA`. The number of lost names are only `23`, which will not create any problem for our purpose."
   ]
  },
  {
   "cell_type": "code",
   "execution_count": 55,
   "metadata": {},
   "outputs": [
    {
     "name": "stdout",
     "output_type": "stream",
     "text": [
      "Number of rows: 3,836,819\n"
     ]
    },
    {
     "data": {
      "text/html": [
       "<div>\n",
       "<style scoped>\n",
       "    .dataframe tbody tr th:only-of-type {\n",
       "        vertical-align: middle;\n",
       "    }\n",
       "\n",
       "    .dataframe tbody tr th {\n",
       "        vertical-align: top;\n",
       "    }\n",
       "\n",
       "    .dataframe thead th {\n",
       "        text-align: right;\n",
       "    }\n",
       "</style>\n",
       "<table border=\"1\" class=\"dataframe\">\n",
       "  <thead>\n",
       "    <tr style=\"text-align: right;\">\n",
       "      <th></th>\n",
       "      <th>name_first</th>\n",
       "      <th>name_last</th>\n",
       "      <th>country_code</th>\n",
       "    </tr>\n",
       "  </thead>\n",
       "  <tbody>\n",
       "    <tr>\n",
       "      <th>0</th>\n",
       "      <td>SARA</td>\n",
       "      <td>MARTINSEN</td>\n",
       "      <td>DK</td>\n",
       "    </tr>\n",
       "    <tr>\n",
       "      <th>1</th>\n",
       "      <td>MARIE</td>\n",
       "      <td>TURKINGTON</td>\n",
       "      <td>IE</td>\n",
       "    </tr>\n",
       "  </tbody>\n",
       "</table>\n",
       "</div>"
      ],
      "text/plain": [
       "  name_first   name_last country_code\n",
       "0       SARA   MARTINSEN           DK\n",
       "1      MARIE  TURKINGTON           IE"
      ]
     },
     "execution_count": 55,
     "metadata": {},
     "output_type": "execute_result"
    }
   ],
   "source": [
    "# Loading Names with country Codes\n",
    "df_names = pd.read_csv('./data_namsor/raw_name_triples.csv', low_memory=False, keep_default_na=False, na_values='  ')\n",
    "print('Number of rows: {:,}'.format(df_names.shape[0]))\n",
    "df_names.head(2)"
   ]
  },
  {
   "cell_type": "code",
   "execution_count": 56,
   "metadata": {},
   "outputs": [
    {
     "data": {
      "text/plain": [
       "(23, 3)"
      ]
     },
     "execution_count": 56,
     "metadata": {},
     "output_type": "execute_result"
    }
   ],
   "source": [
    "df_names[df_names.country_code=='NA'].shape"
   ]
  }
 ],
 "metadata": {
  "kernelspec": {
   "display_name": "Python 3",
   "language": "python",
   "name": "python3"
  },
  "language_info": {
   "codemirror_mode": {
    "name": "ipython",
    "version": 3
   },
   "file_extension": ".py",
   "mimetype": "text/x-python",
   "name": "python",
   "nbconvert_exporter": "python",
   "pygments_lexer": "ipython3",
   "version": "3.7.1"
  }
 },
 "nbformat": 4,
 "nbformat_minor": 2
}
