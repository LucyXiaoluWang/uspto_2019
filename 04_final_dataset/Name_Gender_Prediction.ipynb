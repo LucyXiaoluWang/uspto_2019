{
 "cells": [
  {
   "cell_type": "code",
   "execution_count": 1,
   "metadata": {},
   "outputs": [],
   "source": [
    "import openapi_client\n",
    "import pandas as pd\n",
    "import numpy as np\n",
    "import time\n",
    "from tqdm import tqdm\n",
    "import os\n",
    "import re\n",
    "import zipfile"
   ]
  },
  {
   "cell_type": "code",
   "execution_count": 2,
   "metadata": {},
   "outputs": [],
   "source": [
    "# Configure API key authorization: api_key\n",
    "# More Info: https://api.namsor.com/namsor/faces/viewapikey.xhtml\n",
    "configuration = openapi_client.Configuration()\n",
    "configuration.api_key['X-API-KEY'] = 'YOUR_API_KEY' # Replace with your API KEY. \n",
    "\n",
    "# create an instance of the API class\n",
    "api_instance = openapi_client.PersonalApi(openapi_client.ApiClient(configuration))"
   ]
  },
  {
   "cell_type": "markdown",
   "metadata": {},
   "source": [
    "# Prediction of Gender\n",
    "\n",
    "In this notebook we will predict the gender for the names using the NamSor API. For this purpose we will use two different methods available in the NamSor API: `Gender_Geo` and `Gender`.\n",
    "\n",
    "The first method (`Gender_Geo`) is more accurate and requires three different inputs for the prediction: **First Name**, **Last Name**, and **Country of Residence**. However, since we don't have access to the **Country of residence** for all of our names, in order to complete the gender precidtion for all of the names, we use the second method (`Gender`), which requires only two inputs (**First Name**, **Last Name**)."
   ]
  },
  {
   "cell_type": "markdown",
   "metadata": {},
   "source": [
    "# 1. Predicting the Genders Using `Gender_Geo` method"
   ]
  },
  {
   "cell_type": "markdown",
   "metadata": {},
   "source": [
    "## 1.1. Loading raw (first name, last name, country codes) triples\n",
    "\n",
    "**Note:** For running this section you need to first download the `gs://uspto-data/final_dataset/raw_name_triples.csv` file and add it under the following directory: `./data_namsor/`"
   ]
  },
  {
   "cell_type": "code",
   "execution_count": 21,
   "metadata": {},
   "outputs": [
    {
     "name": "stdout",
     "output_type": "stream",
     "text": [
      "Number of rows: 3,836,819\n"
     ]
    },
    {
     "data": {
      "text/html": [
       "<div>\n",
       "<style scoped>\n",
       "    .dataframe tbody tr th:only-of-type {\n",
       "        vertical-align: middle;\n",
       "    }\n",
       "\n",
       "    .dataframe tbody tr th {\n",
       "        vertical-align: top;\n",
       "    }\n",
       "\n",
       "    .dataframe thead th {\n",
       "        text-align: right;\n",
       "    }\n",
       "</style>\n",
       "<table border=\"1\" class=\"dataframe\">\n",
       "  <thead>\n",
       "    <tr style=\"text-align: right;\">\n",
       "      <th></th>\n",
       "      <th>name_first</th>\n",
       "      <th>name_last</th>\n",
       "      <th>country_code</th>\n",
       "    </tr>\n",
       "  </thead>\n",
       "  <tbody>\n",
       "    <tr>\n",
       "      <th>0</th>\n",
       "      <td>SARA</td>\n",
       "      <td>MARTINSEN</td>\n",
       "      <td>DK</td>\n",
       "    </tr>\n",
       "    <tr>\n",
       "      <th>1</th>\n",
       "      <td>MARIE</td>\n",
       "      <td>TURKINGTON</td>\n",
       "      <td>IE</td>\n",
       "    </tr>\n",
       "    <tr>\n",
       "      <th>2</th>\n",
       "      <td>KJELL</td>\n",
       "      <td>JACOBSEN</td>\n",
       "      <td>NO</td>\n",
       "    </tr>\n",
       "    <tr>\n",
       "      <th>3</th>\n",
       "      <td>VICTOR</td>\n",
       "      <td>SOLOV'EV</td>\n",
       "      <td>RU</td>\n",
       "    </tr>\n",
       "    <tr>\n",
       "      <th>4</th>\n",
       "      <td>VICTORIA</td>\n",
       "      <td>PAULSEN</td>\n",
       "      <td>NO</td>\n",
       "    </tr>\n",
       "  </tbody>\n",
       "</table>\n",
       "</div>"
      ],
      "text/plain": [
       "  name_first   name_last country_code\n",
       "0       SARA   MARTINSEN           DK\n",
       "1      MARIE  TURKINGTON           IE\n",
       "2      KJELL    JACOBSEN           NO\n",
       "3     VICTOR    SOLOV'EV           RU\n",
       "4   VICTORIA     PAULSEN           NO"
      ]
     },
     "execution_count": 21,
     "metadata": {},
     "output_type": "execute_result"
    }
   ],
   "source": [
    "df_names = pd.read_csv('./data_namsor/raw_name_triples.csv', low_memory=False)\n",
    "print('Number of rows: {:,}'.format(df_names.shape[0]))\n",
    "df_names.head()"
   ]
  },
  {
   "cell_type": "code",
   "execution_count": 22,
   "metadata": {},
   "outputs": [],
   "source": [
    "### Processing the names\n",
    "# Handling NaN values\n",
    "df_names.name_first[df_names.name_first.isna()] = ''\n",
    "df_names.name_last[df_names.name_last.isna()] = ''\n",
    "# Replacing special characters\n",
    "df_names.name_first = df_names.name_first.str.replace(r'[\\*\\@\\#\\!\\%\\^\\&\\(\\)\\$\\.\\,]+', '', regex=True)\n",
    "df_names.name_last = df_names.name_last.str.replace(r'[\\*\\@\\#\\!\\%\\^\\&\\(\\)\\$\\.\\,]+', '', regex=True)"
   ]
  },
  {
   "cell_type": "code",
   "execution_count": 23,
   "metadata": {},
   "outputs": [
    {
     "data": {
      "text/plain": [
       "(438726, 3)"
      ]
     },
     "execution_count": 23,
     "metadata": {},
     "output_type": "execute_result"
    }
   ],
   "source": [
    "df_names[df_names.country_code.isna()].shape"
   ]
  },
  {
   "cell_type": "markdown",
   "metadata": {},
   "source": [
    "## 1.2. Requesting the NamSor API for the prediction"
   ]
  },
  {
   "cell_type": "code",
   "execution_count": 6,
   "metadata": {},
   "outputs": [],
   "source": [
    "### Resuming form the last checkpoint\n",
    "N = df_names.shape[0]\n",
    "# Finding the lastest available index, for continuing the request\n",
    "files = [root+'/'+file for root, directory, files in os.walk('./data/namesCountry_gender') for file in files \n",
    "         if re.search(r'^(namesCountry\\_gender\\_check\\_\\d+)\\.csv$', file)]\n",
    "idx_start = -1\n",
    "for file in files:\n",
    "    idx_start = max(idx_start, pd.read_csv(file, usecols=['indexing'])['indexing'].max())\n",
    "idx_start += 1\n",
    "\n",
    "# batch size anf number of request to be saved in each step\n",
    "batch_size = 100\n",
    "steps = 20000\n",
    "error_log = []\n",
    "# create an instance of the API class\n",
    "api_instance = openapi_client.PersonalApi(openapi_client.ApiClient(configuration))\n",
    "df_gender = pd.DataFrame(columns=['indexing','first_name', 'last_name', 'country', 'gender', 'gender_scale', 'score'])"
   ]
  },
  {
   "cell_type": "code",
   "execution_count": 8,
   "metadata": {},
   "outputs": [
    {
     "name": "stderr",
     "output_type": "stream",
     "text": [
      " 19%|█▊        | 716500/3836819 [48:25<3:09:22, 274.62it/s]IOPub message rate exceeded.\n",
      "The notebook server will temporarily stop sending output\n",
      "to the client in order to avoid crashing it.\n",
      "To change this limit, set the config variable\n",
      "`--NotebookApp.iopub_msg_rate_limit`.\n",
      "\n",
      "Current values:\n",
      "NotebookApp.iopub_msg_rate_limit=1000.0 (msgs/sec)\n",
      "NotebookApp.rate_limit_window=3.0 (secs)\n",
      "\n",
      " 41%|████      | 1569300/3836819 [1:39:14<2:10:48, 288.92it/s]IOPub message rate exceeded.\n",
      "The notebook server will temporarily stop sending output\n",
      "to the client in order to avoid crashing it.\n",
      "To change this limit, set the config variable\n",
      "`--NotebookApp.iopub_msg_rate_limit`.\n",
      "\n",
      "Current values:\n",
      "NotebookApp.iopub_msg_rate_limit=1000.0 (msgs/sec)\n",
      "NotebookApp.rate_limit_window=3.0 (secs)\n",
      "\n",
      "3836900it [3:55:04, 338.19it/s]                             "
     ]
    },
    {
     "name": "stdout",
     "output_type": "stream",
     "text": [
      "\n",
      "Total processing time was 3.0 hours and 55.0 mintues!\n",
      "Total number of errors: 4,436\n"
     ]
    },
    {
     "name": "stderr",
     "output_type": "stream",
     "text": [
      "\n"
     ]
    }
   ],
   "source": [
    "# Requesting the `Gender` information\n",
    "start_time = time.perf_counter()\n",
    "pbar = tqdm(total=(N-idx_start))\n",
    "\n",
    "for i in range(idx_start, N, batch_size):\n",
    "    df_iter = df_names.iloc[i:i+batch_size, :]\n",
    "    namesCountry_list = [dict(firstName=x, lastName=y, countryIso2=z) for k, (x, y, z) in df_iter.iterrows()]\n",
    "    batch_first_last_name_geo_in = openapi_client.BatchFirstLastNameGeoIn(namesCountry_list)\n",
    "    try:\n",
    "        api_response = api_instance.gender_geo_batch(batch_first_last_name_geo_in=batch_first_last_name_geo_in)\n",
    "        df_ = pd.DataFrame(columns=['indexing','first_name', 'last_name', 'country', 'gender', 'gender_scale', 'score'])\n",
    "        for j, dic in enumerate(api_response.personal_names):\n",
    "            data = pd.DataFrame(dict(indexing=df_iter.index[j],first_name=[dic.first_name], \n",
    "                                     last_name=[dic.last_name], country=df_iter.country_code.iloc[j],\n",
    "                                     gender=[dic.likely_gender], gender_scale=[dic.gender_scale], score=[dic.score]))\n",
    "            df_ = df_.append(data, ignore_index=False)\n",
    "        df_gender = df_gender.append(df_, ignore_index=False)\n",
    "        pbar.update(batch_size)\n",
    "    except:\n",
    "        error_log.append(dict(range_idx=(i,i+batch_size), namesCountry_list=namesCountry_list, \n",
    "                              df_portion=df_names.iloc[i:i+batch_size,:]))\n",
    "        df_ = pd.DataFrame(dict(indexing=df_iter.index, first_name=df_iter.name_first, \n",
    "                                 last_name=df_iter.name_last, country= df_iter.country_code,\n",
    "                                 gender=[np.nan for idx in range(i,i+batch_size)], \n",
    "                                 gender_scale=[np.nan for idx in range(i,i+batch_size)], \n",
    "                                 score=[np.nan for idx in range(i,i+batch_size)]))\n",
    "        df_gender = df_gender.append(df_, ignore_index=True)\n",
    "        pbar.update(batch_size)\n",
    "        \n",
    "    if (i+batch_size)%steps==0:\n",
    "        df_gender.to_csv('./data_namsor/namesCountry_gender/namesCountry_gender_check_{:03d}.csv'.format(i//steps), \n",
    "                         encoding='UTF-8',index=False)\n",
    "        df_gender = pd.DataFrame(columns=['indexing','first_name', 'last_name', \n",
    "                                          'country', 'gender', 'gender_scale', 'score'])\n",
    "\n",
    "df_gender.to_csv('./data_namsor/namesCountry_gender/namesCountry_gender_check_{:03d}.csv'.format(i//steps+1), \n",
    "                 encoding='UTF-8',index=False)\n",
    "pbar.close()\n",
    "stop_time = time.perf_counter()\n",
    "print('\\nTotal processing time was {:,} hours and {:,} mintues!'.format((stop_time-start_time)//3600, \n",
    "                                                                        ((stop_time-start_time)//60)%60))\n",
    "print('Total number of errors: {:,}'.format(len(error_log)))"
   ]
  },
  {
   "cell_type": "markdown",
   "metadata": {},
   "source": [
    "## 1.3. Iterating Over the Failed Requests"
   ]
  },
  {
   "cell_type": "code",
   "execution_count": 15,
   "metadata": {},
   "outputs": [],
   "source": [
    "# Finding the lastest available index, for continuing the requestz\n",
    "files_list = sorted([root+'/'+file for root, directory, files in \n",
    "                     os.walk('./data_namsor/namesCountry_gender') for file in files \n",
    "                     if re.search(r'^(namesCountry\\_gender\\_check\\_\\d+)\\.csv$', file)])\n",
    "batch_size = 1\n",
    "error_log = []\n",
    "df_remained = df_names_gender[(df_names_gender[['gender', 'gender_scale', 'score']].isna().all(axis=1))&(df_names_gender['country'].isna())]"
   ]
  },
  {
   "cell_type": "code",
   "execution_count": null,
   "metadata": {},
   "outputs": [],
   "source": [
    "pbar = tqdm(total=len(files_list))\n",
    "# Concatenating all files into one dataframe\n",
    "df_names_gender = pd.DataFrame(columns=['indexing','first_name', 'last_name', 'country', 'gender', 'gender_scale', 'score'])\n",
    "df_temp = pd.DataFrame(columns=['indexing','first_name', 'last_name', 'country', 'gender', 'gender_scale', 'score'])\n",
    "for i, file in enumerate(files_list):\n",
    "    df_ = pd.read_csv(file, low_memory=False)\n",
    "    df_temp = pd.concat([df_temp, df_], axis=0, ignore_index=True)\n",
    "    if i%20==0:\n",
    "        df_names_gender = pd.concat([df_names_gender, df_temp], axis=0, ignore_index=True)\n",
    "        df_temp = pd.DataFrame(columns=['indexing','first_name', 'last_name', 'country', 'gender', 'gender_scale', 'score'])\n",
    "    elif i>= len(files_list)-1:\n",
    "        df_names_gender = pd.concat([df_names_gender, df_temp], axis=0, ignore_index=True)\n",
    "        df_temp = pd.DataFrame(columns=['indexing','first_name', 'last_name', 'country', 'gender', 'gender_scale', 'score'])\n",
    "        print('Terminated!')\n",
    "    pbar.update(1)\n",
    "pbar.close()"
   ]
  },
  {
   "cell_type": "code",
   "execution_count": 4,
   "metadata": {},
   "outputs": [
    {
     "name": "stderr",
     "output_type": "stream",
     "text": [
      "100%|██████████| 4378/4378 [09:21<00:00,  8.57it/s]\n"
     ]
    }
   ],
   "source": [
    "### Iterating over the failed requests\n",
    "\n",
    "# Getting the result files' names\n",
    "files_list = sorted([root+'/'+file for root, directory, files in \n",
    "                     os.walk('./data_namsor/namesCountry_gender') for file in files \n",
    "                     if re.search(r'^(namesCountry\\_gender\\_check\\_\\d+)\\.csv$', file)])\n",
    "batch_size = 1 \n",
    "error_log = []\n",
    "df_remained = df_names_gender[(df_names_gender[['gender', 'gender_scale', 'score']].isna().all(axis=1))&(df_names_gender['country'].notna())]\n",
    "pbar = tqdm(total=df_remained.shape[0])\n",
    "\n",
    "for file in files_list:\n",
    "    df_gender = pd.read_csv(file)\n",
    "    df_remained = df_gender[(df_gender[['gender', 'gender_scale', 'score']].isna().all(axis=1))&(df_gender['country'].notna())]\n",
    "    columns = df_gender.columns\n",
    "\n",
    "    for idx, row in df_remained.iterrows():\n",
    "        namesCountry_list = [dict(firstName=row['first_name'], lastName=row['last_name'], countryIso2=row['country'])]\n",
    "        #batch_first_last_name_in = openapi_client.BatchFirstLastNameGeoIn(namesCountry_list)\n",
    "        try:\n",
    "            api_response = api_instance.gender_geo(first_name=row['first_name'], last_name= row['last_name'], country_iso2=row['country'])\n",
    "            data = pd.DataFrame(dict(indexing=row['indexing'],first_name=[row['first_name']], last_name=[row['last_name']], country=[row['country']],\n",
    "                                              gender=[api_response.likely_gender], gender_scale=[api_response.gender_scale], \n",
    "                                              score=[api_response.score]), index=[idx])\n",
    "            df_gender.loc[idx:idx] = data\n",
    "            pbar.update(1)\n",
    "\n",
    "\n",
    "        except:\n",
    "            pbar.update(1)\n",
    "            error_log.append(dict(range_idx=idx, namesCountry_list=namesCountry_list, df_portion=df_gender.loc[idx:idx]))\n",
    "    # Save back the modified file\n",
    "    df_gender.to_csv(file, encoding='UTF-8',index=False)\n",
    "pbar.close()"
   ]
  },
  {
   "cell_type": "markdown",
   "metadata": {},
   "source": [
    "# 2. Predicting the Genders Using `Gender` method"
   ]
  },
  {
   "cell_type": "code",
   "execution_count": null,
   "metadata": {},
   "outputs": [],
   "source": [
    "files_list = sorted([root+'/'+file for root, directory, files in \n",
    "                     os.walk('./data_namsor/namesCountry_gender') for file in files \n",
    "                     if re.search(r'^(namesCountry\\_gender\\_check\\_\\d+)\\.csv$', file)])\n",
    "pbar = tqdm(total=len(files_list))\n",
    "# Concatenating all files into one dataframe\n",
    "df_names_gender = pd.DataFrame(columns=['indexing','first_name', 'last_name', 'country', 'gender', 'gender_scale', 'score'])\n",
    "df_temp = pd.DataFrame(columns=['indexing','first_name', 'last_name', 'country', 'gender', 'gender_scale', 'score'])\n",
    "for i, file in enumerate(files_list):\n",
    "    df_ = pd.read_csv(file, low_memory=False)\n",
    "    df_temp = pd.concat([df_temp, df_], axis=0, ignore_index=True)\n",
    "    if i%20==0:\n",
    "        df_names_gender = pd.concat([df_names_gender, df_temp], axis=0, ignore_index=True)\n",
    "        df_temp = pd.DataFrame(columns=['indexing','first_name', 'last_name', 'country', 'gender', 'gender_scale', 'score'])\n",
    "    elif i>= len(files_list)-1:\n",
    "        df_names_gender = pd.concat([df_names_gender, df_temp], axis=0, ignore_index=True)\n",
    "        df_temp = pd.DataFrame(columns=['indexing','first_name', 'last_name', 'country', 'gender', 'gender_scale', 'score'])\n",
    "        print('Terminated!')\n",
    "    pbar.update(1)\n",
    "pbar.close()"
   ]
  },
  {
   "cell_type": "code",
   "execution_count": null,
   "metadata": {},
   "outputs": [
    {
     "name": "stderr",
     "output_type": "stream",
     "text": [
      " 63%|██████▎   | 277166/438713 [9:19:44<5:14:36,  8.56it/s]IOPub message rate exceeded.\n",
      "The notebook server will temporarily stop sending output\n",
      "to the client in order to avoid crashing it.\n",
      "To change this limit, set the config variable\n",
      "`--NotebookApp.iopub_msg_rate_limit`.\n",
      "\n",
      "Current values:\n",
      "NotebookApp.iopub_msg_rate_limit=1000.0 (msgs/sec)\n",
      "NotebookApp.rate_limit_window=3.0 (secs)\n",
      "\n",
      " 74%|███████▍  | 325152/438713 [10:56:35<3:42:17,  8.51it/s]IOPub message rate exceeded.\n",
      "The notebook server will temporarily stop sending output\n",
      "to the client in order to avoid crashing it.\n",
      "To change this limit, set the config variable\n",
      "`--NotebookApp.iopub_msg_rate_limit`.\n",
      "\n",
      "Current values:\n",
      "NotebookApp.iopub_msg_rate_limit=1000.0 (msgs/sec)\n",
      "NotebookApp.rate_limit_window=3.0 (secs)\n",
      "\n",
      " 76%|███████▋  | 334727/438713 [11:15:59<3:23:54,  8.50it/s]IOPub message rate exceeded.\n",
      "The notebook server will temporarily stop sending output\n",
      "to the client in order to avoid crashing it.\n",
      "To change this limit, set the config variable\n",
      "`--NotebookApp.iopub_msg_rate_limit`.\n",
      "\n",
      "Current values:\n",
      "NotebookApp.iopub_msg_rate_limit=1000.0 (msgs/sec)\n",
      "NotebookApp.rate_limit_window=3.0 (secs)\n",
      "\n",
      " 92%|█████████▏| 404868/438713 [13:39:41<1:13:15,  7.70it/s]"
     ]
    }
   ],
   "source": [
    "# Finding the lastest available index, for continuing the requestz\n",
    "files_list = sorted([root+'/'+file for root, directory, files in \n",
    "                     os.walk('./data_namsor/namesCountry_gender') for file in files \n",
    "                     if re.search(r'^(namesCountry\\_gender\\_check\\_\\d+)\\.csv$', file)])\n",
    "batch_size = 1\n",
    "error_log = []\n",
    "df_remained = df_names_gender[df_names_gender[['gender', 'gender_scale', 'score']].isna().all(axis=1)]\n",
    "pbar = tqdm(total=df_remained.shape[0])\n",
    "\n",
    "for file in files_list:\n",
    "    df_gender = pd.read_csv(file)\n",
    "    df_remained = df_gender[df_gender[['gender', 'gender_scale', 'score']].isna().all(axis=1)]\n",
    "    columns = df_gender.columns\n",
    "    for idx, row in df_remained.iterrows():\n",
    "        names_list = [dict(firstName=row['first_name'], lastName=row['last_name'])]\n",
    "        #batch_first_last_name_in = openapi_client.BatchFirstLastNameGeoIn(namesCountry_list)\n",
    "        try:\n",
    "            api_response = api_instance.gender(first_name=row['first_name'], last_name= row['last_name'])\n",
    "            data = pd.DataFrame(dict(indexing=row['indexing'],first_name=[row['first_name']], last_name=[row['last_name']], country=[row['country']],\n",
    "                                              gender=[api_response.likely_gender], gender_scale=[api_response.gender_scale], \n",
    "                                              score=[api_response.score]), index=[idx])\n",
    "            df_gender.loc[idx:idx] = data\n",
    "            pbar.update(1)\n",
    "\n",
    "        except:\n",
    "            pbar.update(1)\n",
    "            error_log.append(dict(range_idx=idx, names_list=names_list, df_portion=df_gender.loc[idx:idx]))\n",
    "    # Save back the modified file\n",
    "    df_gender.to_csv(file, encoding='UTF-8',index=False)\n",
    "pbar.close()"
   ]
  },
  {
   "cell_type": "markdown",
   "metadata": {},
   "source": [
    "# 3. Creating the Final Table Containing All the Predicted Genders Information"
   ]
  },
  {
   "cell_type": "code",
   "execution_count": 53,
   "metadata": {},
   "outputs": [
    {
     "name": "stdout",
     "output_type": "stream",
     "text": [
      "Number of rows: 3,836,819\n"
     ]
    },
    {
     "data": {
      "text/html": [
       "<div>\n",
       "<style scoped>\n",
       "    .dataframe tbody tr th:only-of-type {\n",
       "        vertical-align: middle;\n",
       "    }\n",
       "\n",
       "    .dataframe tbody tr th {\n",
       "        vertical-align: top;\n",
       "    }\n",
       "\n",
       "    .dataframe thead th {\n",
       "        text-align: right;\n",
       "    }\n",
       "</style>\n",
       "<table border=\"1\" class=\"dataframe\">\n",
       "  <thead>\n",
       "    <tr style=\"text-align: right;\">\n",
       "      <th></th>\n",
       "      <th>name_first</th>\n",
       "      <th>name_last</th>\n",
       "      <th>country_code</th>\n",
       "    </tr>\n",
       "  </thead>\n",
       "  <tbody>\n",
       "    <tr>\n",
       "      <th>0</th>\n",
       "      <td>SARA</td>\n",
       "      <td>MARTINSEN</td>\n",
       "      <td>DK</td>\n",
       "    </tr>\n",
       "    <tr>\n",
       "      <th>1</th>\n",
       "      <td>MARIE</td>\n",
       "      <td>TURKINGTON</td>\n",
       "      <td>IE</td>\n",
       "    </tr>\n",
       "  </tbody>\n",
       "</table>\n",
       "</div>"
      ],
      "text/plain": [
       "  name_first   name_last country_code\n",
       "0       SARA   MARTINSEN           DK\n",
       "1      MARIE  TURKINGTON           IE"
      ]
     },
     "execution_count": 53,
     "metadata": {},
     "output_type": "execute_result"
    }
   ],
   "source": [
    "# Loading the raw name triples\n",
    "df_names = pd.read_csv('./data_namsor/raw_name_triples.csv', low_memory=False)\n",
    "print('Number of rows: {:,}'.format(df_names.shape[0]))\n",
    "df_names.head(2)"
   ]
  },
  {
   "cell_type": "code",
   "execution_count": 54,
   "metadata": {},
   "outputs": [
    {
     "name": "stderr",
     "output_type": "stream",
     "text": [
      "100%|██████████| 192/192 [00:21<00:00,  4.61it/s]"
     ]
    },
    {
     "name": "stdout",
     "output_type": "stream",
     "text": [
      "Terminated!\n"
     ]
    },
    {
     "name": "stderr",
     "output_type": "stream",
     "text": [
      "\n"
     ]
    }
   ],
   "source": [
    "### Concatenating the final prediction results into one dataframe\n",
    "files_list = sorted([root+'/'+file for root, directory, files in \n",
    "                     os.walk('./data_namsor/namesCountry_gender') for file in files \n",
    "                     if re.search(r'^(namesCountry\\_gender\\_check\\_\\d+)\\.csv$', file)])\n",
    "pbar = tqdm(total=len(files_list))\n",
    "# Concatenating all files into one dataframe\n",
    "df_names_gender = pd.DataFrame(columns=['indexing','first_name', 'last_name', 'country', 'gender', 'gender_scale', 'score'])\n",
    "df_temp = pd.DataFrame(columns=['indexing','first_name', 'last_name', 'country', 'gender', 'gender_scale', 'score'])\n",
    "for i, file in enumerate(files_list):\n",
    "    df_ = pd.read_csv(file, low_memory=False)\n",
    "    df_temp = pd.concat([df_temp, df_], axis=0, ignore_index=True)\n",
    "    if i%20==0:\n",
    "        df_names_gender = pd.concat([df_names_gender, df_temp], axis=0, ignore_index=True)\n",
    "        df_temp = pd.DataFrame(columns=['indexing','first_name', 'last_name', 'country', 'gender', 'gender_scale', 'score'])\n",
    "    elif i>= len(files_list)-1:\n",
    "        df_names_gender = pd.concat([df_names_gender, df_temp], axis=0, ignore_index=True)\n",
    "        df_temp = pd.DataFrame(columns=['indexing','first_name', 'last_name', 'country', 'gender', 'gender_scale', 'score'])\n",
    "        print('Terminated!')\n",
    "    pbar.update(1)\n",
    "pbar.close()"
   ]
  },
  {
   "cell_type": "code",
   "execution_count": 55,
   "metadata": {},
   "outputs": [
    {
     "name": "stdout",
     "output_type": "stream",
     "text": [
      "Number of invalid gender values: 15\n"
     ]
    },
    {
     "data": {
      "text/html": [
       "<div>\n",
       "<style scoped>\n",
       "    .dataframe tbody tr th:only-of-type {\n",
       "        vertical-align: middle;\n",
       "    }\n",
       "\n",
       "    .dataframe tbody tr th {\n",
       "        vertical-align: top;\n",
       "    }\n",
       "\n",
       "    .dataframe thead th {\n",
       "        text-align: right;\n",
       "    }\n",
       "</style>\n",
       "<table border=\"1\" class=\"dataframe\">\n",
       "  <thead>\n",
       "    <tr style=\"text-align: right;\">\n",
       "      <th></th>\n",
       "      <th>indexing</th>\n",
       "      <th>first_name</th>\n",
       "      <th>last_name</th>\n",
       "      <th>country</th>\n",
       "      <th>gender</th>\n",
       "      <th>gender_scale</th>\n",
       "      <th>score</th>\n",
       "    </tr>\n",
       "  </thead>\n",
       "  <tbody>\n",
       "    <tr>\n",
       "      <th>0</th>\n",
       "      <td>0</td>\n",
       "      <td>SARA</td>\n",
       "      <td>MARTINSEN</td>\n",
       "      <td>DK</td>\n",
       "      <td>female</td>\n",
       "      <td>1.0</td>\n",
       "      <td>4.061213</td>\n",
       "    </tr>\n",
       "    <tr>\n",
       "      <th>1</th>\n",
       "      <td>1</td>\n",
       "      <td>MARIE</td>\n",
       "      <td>TURKINGTON</td>\n",
       "      <td>IE</td>\n",
       "      <td>female</td>\n",
       "      <td>1.0</td>\n",
       "      <td>4.319883</td>\n",
       "    </tr>\n",
       "  </tbody>\n",
       "</table>\n",
       "</div>"
      ],
      "text/plain": [
       "  indexing first_name   last_name country  gender  gender_scale     score\n",
       "0        0       SARA   MARTINSEN      DK  female           1.0  4.061213\n",
       "1        1      MARIE  TURKINGTON      IE  female           1.0  4.319883"
      ]
     },
     "execution_count": 55,
     "metadata": {},
     "output_type": "execute_result"
    }
   ],
   "source": [
    "### Checking the number of remaining NA values\n",
    "print('Number of invalid gender values: {}'.format(df_names_gender[df_names_gender[['gender', 'gender_scale', 'score']].isna().all(axis=1)].shape[0]))\n",
    "df_names_gender.head(2)"
   ]
  },
  {
   "cell_type": "code",
   "execution_count": 56,
   "metadata": {},
   "outputs": [
    {
     "data": {
      "text/html": [
       "<div>\n",
       "<style scoped>\n",
       "    .dataframe tbody tr th:only-of-type {\n",
       "        vertical-align: middle;\n",
       "    }\n",
       "\n",
       "    .dataframe tbody tr th {\n",
       "        vertical-align: top;\n",
       "    }\n",
       "\n",
       "    .dataframe thead th {\n",
       "        text-align: right;\n",
       "    }\n",
       "</style>\n",
       "<table border=\"1\" class=\"dataframe\">\n",
       "  <thead>\n",
       "    <tr style=\"text-align: right;\">\n",
       "      <th></th>\n",
       "      <th>indexing</th>\n",
       "      <th>name_first_har</th>\n",
       "      <th>name_last_har</th>\n",
       "      <th>country</th>\n",
       "      <th>gender</th>\n",
       "      <th>gender_scale</th>\n",
       "      <th>score</th>\n",
       "    </tr>\n",
       "  </thead>\n",
       "  <tbody>\n",
       "    <tr>\n",
       "      <th>0</th>\n",
       "      <td>0</td>\n",
       "      <td>SARA</td>\n",
       "      <td>MARTINSEN</td>\n",
       "      <td>DK</td>\n",
       "      <td>female</td>\n",
       "      <td>1.0</td>\n",
       "      <td>4.061213</td>\n",
       "    </tr>\n",
       "    <tr>\n",
       "      <th>1</th>\n",
       "      <td>1</td>\n",
       "      <td>MARIE</td>\n",
       "      <td>TURKINGTON</td>\n",
       "      <td>IE</td>\n",
       "      <td>female</td>\n",
       "      <td>1.0</td>\n",
       "      <td>4.319883</td>\n",
       "    </tr>\n",
       "  </tbody>\n",
       "</table>\n",
       "</div>"
      ],
      "text/plain": [
       "  indexing name_first_har name_last_har country  gender  gender_scale  \\\n",
       "0        0           SARA     MARTINSEN      DK  female           1.0   \n",
       "1        1          MARIE    TURKINGTON      IE  female           1.0   \n",
       "\n",
       "      score  \n",
       "0  4.061213  \n",
       "1  4.319883  "
      ]
     },
     "execution_count": 56,
     "metadata": {},
     "output_type": "execute_result"
    }
   ],
   "source": [
    "### Renaming the columns\n",
    "df_names_gender = df_names_gender.rename(columns={'first_name':'name_first_har', 'last_name':'name_last_har'})\n",
    "df_names_gender.head(2)"
   ]
  },
  {
   "cell_type": "code",
   "execution_count": 52,
   "metadata": {},
   "outputs": [
    {
     "name": "stdout",
     "output_type": "stream",
     "text": [
      "Number of invalid country codes: 0\n"
     ]
    }
   ],
   "source": [
    "### Sorting the results based on the initial indices\n",
    "df_temp = df_names_gender.sort_values(by=['indexing']).reset_index(drop=True)\n",
    "df_temp = pd.concat([df_names, df_temp], axis=1)\n",
    "print('Number of invalid country codes:',\n",
    "      df_temp[(df_temp.country_code!=df_temp.country)&(df_temp.country_code.notna())].shape[0])"
   ]
  },
  {
   "cell_type": "code",
   "execution_count": 57,
   "metadata": {},
   "outputs": [
    {
     "name": "stdout",
     "output_type": "stream",
     "text": [
      "Before rearranging the columns:\n"
     ]
    },
    {
     "data": {
      "text/html": [
       "<div>\n",
       "<style scoped>\n",
       "    .dataframe tbody tr th:only-of-type {\n",
       "        vertical-align: middle;\n",
       "    }\n",
       "\n",
       "    .dataframe tbody tr th {\n",
       "        vertical-align: top;\n",
       "    }\n",
       "\n",
       "    .dataframe thead th {\n",
       "        text-align: right;\n",
       "    }\n",
       "</style>\n",
       "<table border=\"1\" class=\"dataframe\">\n",
       "  <thead>\n",
       "    <tr style=\"text-align: right;\">\n",
       "      <th></th>\n",
       "      <th>name_first</th>\n",
       "      <th>name_last</th>\n",
       "      <th>country_code</th>\n",
       "      <th>indexing</th>\n",
       "      <th>name_first_har</th>\n",
       "      <th>name_last_har</th>\n",
       "      <th>country</th>\n",
       "      <th>gender</th>\n",
       "      <th>gender_scale</th>\n",
       "      <th>score</th>\n",
       "    </tr>\n",
       "  </thead>\n",
       "  <tbody>\n",
       "    <tr>\n",
       "      <th>0</th>\n",
       "      <td>SARA</td>\n",
       "      <td>MARTINSEN</td>\n",
       "      <td>DK</td>\n",
       "      <td>0</td>\n",
       "      <td>SARA</td>\n",
       "      <td>MARTINSEN</td>\n",
       "      <td>DK</td>\n",
       "      <td>female</td>\n",
       "      <td>1.0</td>\n",
       "      <td>4.061213</td>\n",
       "    </tr>\n",
       "    <tr>\n",
       "      <th>1</th>\n",
       "      <td>MARIE</td>\n",
       "      <td>TURKINGTON</td>\n",
       "      <td>IE</td>\n",
       "      <td>1</td>\n",
       "      <td>MARIE</td>\n",
       "      <td>TURKINGTON</td>\n",
       "      <td>IE</td>\n",
       "      <td>female</td>\n",
       "      <td>1.0</td>\n",
       "      <td>4.319883</td>\n",
       "    </tr>\n",
       "  </tbody>\n",
       "</table>\n",
       "</div>"
      ],
      "text/plain": [
       "  name_first   name_last country_code indexing name_first_har name_last_har  \\\n",
       "0       SARA   MARTINSEN           DK        0           SARA     MARTINSEN   \n",
       "1      MARIE  TURKINGTON           IE        1          MARIE    TURKINGTON   \n",
       "\n",
       "  country  gender  gender_scale     score  \n",
       "0      DK  female           1.0  4.061213  \n",
       "1      IE  female           1.0  4.319883  "
      ]
     },
     "metadata": {},
     "output_type": "display_data"
    },
    {
     "name": "stdout",
     "output_type": "stream",
     "text": [
      "After rearranging the columns:\n"
     ]
    },
    {
     "data": {
      "text/html": [
       "<div>\n",
       "<style scoped>\n",
       "    .dataframe tbody tr th:only-of-type {\n",
       "        vertical-align: middle;\n",
       "    }\n",
       "\n",
       "    .dataframe tbody tr th {\n",
       "        vertical-align: top;\n",
       "    }\n",
       "\n",
       "    .dataframe thead th {\n",
       "        text-align: right;\n",
       "    }\n",
       "</style>\n",
       "<table border=\"1\" class=\"dataframe\">\n",
       "  <thead>\n",
       "    <tr style=\"text-align: right;\">\n",
       "      <th></th>\n",
       "      <th>indexing</th>\n",
       "      <th>name_first</th>\n",
       "      <th>name_last</th>\n",
       "      <th>country_code</th>\n",
       "      <th>name_first_har</th>\n",
       "      <th>name_last_har</th>\n",
       "      <th>gender</th>\n",
       "      <th>gender_scale</th>\n",
       "      <th>score</th>\n",
       "    </tr>\n",
       "  </thead>\n",
       "  <tbody>\n",
       "    <tr>\n",
       "      <th>0</th>\n",
       "      <td>0</td>\n",
       "      <td>SARA</td>\n",
       "      <td>MARTINSEN</td>\n",
       "      <td>DK</td>\n",
       "      <td>SARA</td>\n",
       "      <td>MARTINSEN</td>\n",
       "      <td>female</td>\n",
       "      <td>1.0</td>\n",
       "      <td>4.061213</td>\n",
       "    </tr>\n",
       "    <tr>\n",
       "      <th>1</th>\n",
       "      <td>1</td>\n",
       "      <td>MARIE</td>\n",
       "      <td>TURKINGTON</td>\n",
       "      <td>IE</td>\n",
       "      <td>MARIE</td>\n",
       "      <td>TURKINGTON</td>\n",
       "      <td>female</td>\n",
       "      <td>1.0</td>\n",
       "      <td>4.319883</td>\n",
       "    </tr>\n",
       "  </tbody>\n",
       "</table>\n",
       "</div>"
      ],
      "text/plain": [
       "  indexing name_first   name_last country_code name_first_har name_last_har  \\\n",
       "0        0       SARA   MARTINSEN           DK           SARA     MARTINSEN   \n",
       "1        1      MARIE  TURKINGTON           IE          MARIE    TURKINGTON   \n",
       "\n",
       "   gender  gender_scale     score  \n",
       "0  female           1.0  4.061213  \n",
       "1  female           1.0  4.319883  "
      ]
     },
     "execution_count": 57,
     "metadata": {},
     "output_type": "execute_result"
    }
   ],
   "source": [
    "### Merging the raw name information into the predicted genders\n",
    "df_names_gender = df_names_gender.sort_values(by=['indexing']).reset_index(drop=True)\n",
    "\n",
    "df_names_gender = pd.concat([df_names, df_names_gender], axis=1)\n",
    "print('Before rearranging the columns:')\n",
    "display(df_names_gender.head(2))\n",
    "columns = df_names_gender.columns\n",
    "df_names_gender = df_names_gender[columns[np.r_[3:4,0:3,4:6,7:10]]]\n",
    "print('After rearranging the columns:')\n",
    "df_names_gender.head(2)"
   ]
  },
  {
   "cell_type": "code",
   "execution_count": 58,
   "metadata": {},
   "outputs": [],
   "source": [
    "# Saving the results\n",
    "#df_names_gender.to_csv('./data_namsor/genderCountry_processed.csv', encoding='utf-8', index=False)"
   ]
  },
  {
   "cell_type": "markdown",
   "metadata": {},
   "source": [
    "# 4. Creating the BigQuery Table"
   ]
  },
  {
   "cell_type": "code",
   "execution_count": null,
   "metadata": {},
   "outputs": [],
   "source": [
    "### Creating the tables' Schema\n",
    "schema_Name_gen = [\n",
    "    bigquery.SchemaField('index', 'INTEGER', 'NULLABLE', None, ()),\n",
    "    bigquery.SchemaField('name_first', 'STRING', 'NULLABLE', None, ()),\n",
    "    bigquery.SchemaField('name_last', 'STRING', 'NULLABLE', None, ()),\n",
    "    bigquery.SchemaField('country_code', 'STRING', 'NULLABLE', None, ()),\n",
    "    bigquery.SchemaField('name_first_har', 'STRING', 'NULLABLE', None, ()),\n",
    "    bigquery.SchemaField('name_last_har', 'STRING', 'NULLABLE', None, ()),\n",
    "    bigquery.SchemaField('predicted_gender', 'STRING', 'NULLABLE', None, ()),\n",
    "    bigquery.SchemaField('gender_scale', 'FLOAT', 'NULLABLE', None, ()),\n",
    "    bigquery.SchemaField('score_gender', 'FLOAT', 'NULLABLE', None, ())\n",
    "]"
   ]
  },
  {
   "cell_type": "code",
   "execution_count": null,
   "metadata": {},
   "outputs": [],
   "source": [
    "### Initializing the BigQuery Client and Job Config\n",
    "client = bigquery.Client()\n",
    "\n",
    "job_config = bigquery.LoadJobConfig()\n",
    "job_config.skip_leading_rows = 1\n",
    "job_config.max_bad_records = 300\n",
    "job_config.source_format = bigquery.SourceFormat.CSV\n",
    "job_config.schema = schema_Name_gen\n",
    "dataset_ref = client.dataset('final_dataset')"
   ]
  },
  {
   "cell_type": "code",
   "execution_count": null,
   "metadata": {},
   "outputs": [],
   "source": [
    "### Running the BigQuery Job\n",
    "table_ref = dataset_ref.table('15_name_gender')\n",
    "load_job = client.load_table_from_uri(\n",
    "        source_uris='gs://uspto-data/final_dataset/genderCountry_processed.csv',\n",
    "        destination=table_ref,\n",
    "        # job_id=job_id,\n",
    "        job_id_prefix='lgs-',\n",
    "        job_config=job_config,\n",
    "    )\n",
    "load_job.result()"
   ]
  },
  {
   "cell_type": "markdown",
   "metadata": {},
   "source": [
    "# Final Notes"
   ]
  },
  {
   "cell_type": "markdown",
   "metadata": {},
   "source": [
    "In the end, we found out that since \"Pandas\" consider **\"NA\"** as `Null` when it reads a **csv** file, we have lost the information for the names that are from **Nambia**, which has a country code (ISO2) of `NA`. The number of lost names are only `23`, which will not create any problem for our purpose."
   ]
  },
  {
   "cell_type": "code",
   "execution_count": 55,
   "metadata": {},
   "outputs": [
    {
     "name": "stdout",
     "output_type": "stream",
     "text": [
      "Number of rows: 3,836,819\n"
     ]
    },
    {
     "data": {
      "text/html": [
       "<div>\n",
       "<style scoped>\n",
       "    .dataframe tbody tr th:only-of-type {\n",
       "        vertical-align: middle;\n",
       "    }\n",
       "\n",
       "    .dataframe tbody tr th {\n",
       "        vertical-align: top;\n",
       "    }\n",
       "\n",
       "    .dataframe thead th {\n",
       "        text-align: right;\n",
       "    }\n",
       "</style>\n",
       "<table border=\"1\" class=\"dataframe\">\n",
       "  <thead>\n",
       "    <tr style=\"text-align: right;\">\n",
       "      <th></th>\n",
       "      <th>name_first</th>\n",
       "      <th>name_last</th>\n",
       "      <th>country_code</th>\n",
       "    </tr>\n",
       "  </thead>\n",
       "  <tbody>\n",
       "    <tr>\n",
       "      <th>0</th>\n",
       "      <td>SARA</td>\n",
       "      <td>MARTINSEN</td>\n",
       "      <td>DK</td>\n",
       "    </tr>\n",
       "    <tr>\n",
       "      <th>1</th>\n",
       "      <td>MARIE</td>\n",
       "      <td>TURKINGTON</td>\n",
       "      <td>IE</td>\n",
       "    </tr>\n",
       "  </tbody>\n",
       "</table>\n",
       "</div>"
      ],
      "text/plain": [
       "  name_first   name_last country_code\n",
       "0       SARA   MARTINSEN           DK\n",
       "1      MARIE  TURKINGTON           IE"
      ]
     },
     "execution_count": 55,
     "metadata": {},
     "output_type": "execute_result"
    }
   ],
   "source": [
    "# Loading Names with country Codes\n",
    "df_names = pd.read_csv('./data_namsor/raw_name_triples.csv', low_memory=False, keep_default_na=False, na_values='  ')\n",
    "print('Number of rows: {:,}'.format(df_names.shape[0]))\n",
    "df_names.head(2)"
   ]
  },
  {
   "cell_type": "code",
   "execution_count": 56,
   "metadata": {},
   "outputs": [
    {
     "data": {
      "text/plain": [
       "(23, 3)"
      ]
     },
     "execution_count": 56,
     "metadata": {},
     "output_type": "execute_result"
    }
   ],
   "source": [
    "df_names[df_names.country_code=='NA'].shape"
   ]
  }
 ],
 "metadata": {
  "kernelspec": {
   "display_name": "Python 3",
   "language": "python",
   "name": "python3"
  },
  "language_info": {
   "codemirror_mode": {
    "name": "ipython",
    "version": 3
   },
   "file_extension": ".py",
   "mimetype": "text/x-python",
   "name": "python",
   "nbconvert_exporter": "python",
   "pygments_lexer": "ipython3",
   "version": "3.7.1"
  }
 },
 "nbformat": 4,
 "nbformat_minor": 2
}
